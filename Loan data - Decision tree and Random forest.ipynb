{
 "cells": [
  {
   "cell_type": "code",
   "execution_count": 1,
   "metadata": {},
   "outputs": [],
   "source": [
    "import pandas as pd\n",
    "import numpy as np\n",
    "import matplotlib.pyplot as plt\n",
    "%matplotlib inline\n",
    "from sklearn.preprocessing import StandardScaler\n",
    "from sklearn.linear_model import LogisticRegression\n",
    "from sklearn.tree import DecisionTreeClassifier\n",
    "from sklearn.model_selection import train_test_split\n",
    "from sklearn.metrics import accuracy_score\n",
    "from sklearn.preprocessing import PolynomialFeatures\n",
    "import warnings\n",
    "warnings.filterwarnings(\"ignore\")\n",
    "np.random.seed(42)"
   ]
  },
  {
   "cell_type": "code",
   "execution_count": 2,
   "metadata": {},
   "outputs": [],
   "source": [
    "loan = pd.read_csv(\"loan_data.csv\")\n",
    "y = loan.pop(\"not.fully.paid\")"
   ]
  },
  {
   "cell_type": "code",
   "execution_count": 3,
   "metadata": {
    "scrolled": true
   },
   "outputs": [
    {
     "data": {
      "text/html": [
       "<div>\n",
       "<style scoped>\n",
       "    .dataframe tbody tr th:only-of-type {\n",
       "        vertical-align: middle;\n",
       "    }\n",
       "\n",
       "    .dataframe tbody tr th {\n",
       "        vertical-align: top;\n",
       "    }\n",
       "\n",
       "    .dataframe thead th {\n",
       "        text-align: right;\n",
       "    }\n",
       "</style>\n",
       "<table border=\"1\" class=\"dataframe\">\n",
       "  <thead>\n",
       "    <tr style=\"text-align: right;\">\n",
       "      <th></th>\n",
       "      <th>credit.policy</th>\n",
       "      <th>purpose</th>\n",
       "      <th>int.rate</th>\n",
       "      <th>installment</th>\n",
       "      <th>log.annual.inc</th>\n",
       "      <th>dti</th>\n",
       "      <th>fico</th>\n",
       "      <th>days.with.cr.line</th>\n",
       "      <th>revol.bal</th>\n",
       "      <th>revol.util</th>\n",
       "      <th>inq.last.6mths</th>\n",
       "      <th>delinq.2yrs</th>\n",
       "      <th>pub.rec</th>\n",
       "    </tr>\n",
       "  </thead>\n",
       "  <tbody>\n",
       "    <tr>\n",
       "      <th>0</th>\n",
       "      <td>1</td>\n",
       "      <td>debt_consolidation</td>\n",
       "      <td>0.1189</td>\n",
       "      <td>829.10</td>\n",
       "      <td>11.350407</td>\n",
       "      <td>19.48</td>\n",
       "      <td>737</td>\n",
       "      <td>5639.958333</td>\n",
       "      <td>28854</td>\n",
       "      <td>52.1</td>\n",
       "      <td>0</td>\n",
       "      <td>0</td>\n",
       "      <td>0</td>\n",
       "    </tr>\n",
       "    <tr>\n",
       "      <th>1</th>\n",
       "      <td>1</td>\n",
       "      <td>credit_card</td>\n",
       "      <td>0.1071</td>\n",
       "      <td>228.22</td>\n",
       "      <td>11.082143</td>\n",
       "      <td>14.29</td>\n",
       "      <td>707</td>\n",
       "      <td>2760.000000</td>\n",
       "      <td>33623</td>\n",
       "      <td>76.7</td>\n",
       "      <td>0</td>\n",
       "      <td>0</td>\n",
       "      <td>0</td>\n",
       "    </tr>\n",
       "    <tr>\n",
       "      <th>2</th>\n",
       "      <td>1</td>\n",
       "      <td>debt_consolidation</td>\n",
       "      <td>0.1357</td>\n",
       "      <td>366.86</td>\n",
       "      <td>10.373491</td>\n",
       "      <td>11.63</td>\n",
       "      <td>682</td>\n",
       "      <td>4710.000000</td>\n",
       "      <td>3511</td>\n",
       "      <td>25.6</td>\n",
       "      <td>1</td>\n",
       "      <td>0</td>\n",
       "      <td>0</td>\n",
       "    </tr>\n",
       "    <tr>\n",
       "      <th>3</th>\n",
       "      <td>1</td>\n",
       "      <td>debt_consolidation</td>\n",
       "      <td>0.1008</td>\n",
       "      <td>162.34</td>\n",
       "      <td>11.350407</td>\n",
       "      <td>8.10</td>\n",
       "      <td>712</td>\n",
       "      <td>2699.958333</td>\n",
       "      <td>33667</td>\n",
       "      <td>73.2</td>\n",
       "      <td>1</td>\n",
       "      <td>0</td>\n",
       "      <td>0</td>\n",
       "    </tr>\n",
       "    <tr>\n",
       "      <th>4</th>\n",
       "      <td>1</td>\n",
       "      <td>credit_card</td>\n",
       "      <td>0.1426</td>\n",
       "      <td>102.92</td>\n",
       "      <td>11.299732</td>\n",
       "      <td>14.97</td>\n",
       "      <td>667</td>\n",
       "      <td>4066.000000</td>\n",
       "      <td>4740</td>\n",
       "      <td>39.5</td>\n",
       "      <td>0</td>\n",
       "      <td>1</td>\n",
       "      <td>0</td>\n",
       "    </tr>\n",
       "  </tbody>\n",
       "</table>\n",
       "</div>"
      ],
      "text/plain": [
       "   credit.policy             purpose  int.rate  installment  log.annual.inc  \\\n",
       "0              1  debt_consolidation    0.1189       829.10       11.350407   \n",
       "1              1         credit_card    0.1071       228.22       11.082143   \n",
       "2              1  debt_consolidation    0.1357       366.86       10.373491   \n",
       "3              1  debt_consolidation    0.1008       162.34       11.350407   \n",
       "4              1         credit_card    0.1426       102.92       11.299732   \n",
       "\n",
       "     dti  fico  days.with.cr.line  revol.bal  revol.util  inq.last.6mths  \\\n",
       "0  19.48   737        5639.958333      28854        52.1               0   \n",
       "1  14.29   707        2760.000000      33623        76.7               0   \n",
       "2  11.63   682        4710.000000       3511        25.6               1   \n",
       "3   8.10   712        2699.958333      33667        73.2               1   \n",
       "4  14.97   667        4066.000000       4740        39.5               0   \n",
       "\n",
       "   delinq.2yrs  pub.rec  \n",
       "0            0        0  \n",
       "1            0        0  \n",
       "2            0        0  \n",
       "3            0        0  \n",
       "4            1        0  "
      ]
     },
     "execution_count": 3,
     "metadata": {},
     "output_type": "execute_result"
    }
   ],
   "source": [
    "loan.head()"
   ]
  },
  {
   "cell_type": "code",
   "execution_count": 4,
   "metadata": {
    "scrolled": true
   },
   "outputs": [
    {
     "data": {
      "text/plain": [
       "Index(['credit.policy', 'purpose', 'int.rate', 'installment', 'log.annual.inc',\n",
       "       'dti', 'fico', 'days.with.cr.line', 'revol.bal', 'revol.util',\n",
       "       'inq.last.6mths', 'delinq.2yrs', 'pub.rec'],\n",
       "      dtype='object')"
      ]
     },
     "execution_count": 4,
     "metadata": {},
     "output_type": "execute_result"
    }
   ],
   "source": [
    "loan.columns"
   ]
  },
  {
   "cell_type": "code",
   "execution_count": 5,
   "metadata": {},
   "outputs": [
    {
     "name": "stdout",
     "output_type": "stream",
     "text": [
      "<class 'pandas.core.frame.DataFrame'>\n",
      "RangeIndex: 9578 entries, 0 to 9577\n",
      "Data columns (total 13 columns):\n",
      " #   Column             Non-Null Count  Dtype  \n",
      "---  ------             --------------  -----  \n",
      " 0   credit.policy      9578 non-null   int64  \n",
      " 1   purpose            9578 non-null   object \n",
      " 2   int.rate           9578 non-null   float64\n",
      " 3   installment        9578 non-null   float64\n",
      " 4   log.annual.inc     9578 non-null   float64\n",
      " 5   dti                9578 non-null   float64\n",
      " 6   fico               9578 non-null   int64  \n",
      " 7   days.with.cr.line  9578 non-null   float64\n",
      " 8   revol.bal          9578 non-null   int64  \n",
      " 9   revol.util         9578 non-null   float64\n",
      " 10  inq.last.6mths     9578 non-null   int64  \n",
      " 11  delinq.2yrs        9578 non-null   int64  \n",
      " 12  pub.rec            9578 non-null   int64  \n",
      "dtypes: float64(6), int64(6), object(1)\n",
      "memory usage: 972.9+ KB\n"
     ]
    }
   ],
   "source": [
    "loan.info()"
   ]
  },
  {
   "cell_type": "code",
   "execution_count": 6,
   "metadata": {
    "scrolled": true
   },
   "outputs": [
    {
     "data": {
      "text/plain": [
       "credit.policy        0\n",
       "purpose              0\n",
       "int.rate             0\n",
       "installment          0\n",
       "log.annual.inc       0\n",
       "dti                  0\n",
       "fico                 0\n",
       "days.with.cr.line    0\n",
       "revol.bal            0\n",
       "revol.util           0\n",
       "inq.last.6mths       0\n",
       "delinq.2yrs          0\n",
       "pub.rec              0\n",
       "dtype: int64"
      ]
     },
     "execution_count": 6,
     "metadata": {},
     "output_type": "execute_result"
    }
   ],
   "source": [
    "loan.isna().sum()"
   ]
  },
  {
   "cell_type": "code",
   "execution_count": 7,
   "metadata": {},
   "outputs": [
    {
     "data": {
      "text/plain": [
       "0    8045\n",
       "1    1533\n",
       "Name: not.fully.paid, dtype: int64"
      ]
     },
     "execution_count": 7,
     "metadata": {},
     "output_type": "execute_result"
    }
   ],
   "source": [
    "y.value_counts()"
   ]
  },
  {
   "cell_type": "code",
   "execution_count": 8,
   "metadata": {},
   "outputs": [
    {
     "data": {
      "text/plain": [
       "debt_consolidation    3957\n",
       "all_other             2331\n",
       "credit_card           1262\n",
       "home_improvement       629\n",
       "small_business         619\n",
       "major_purchase         437\n",
       "educational            343\n",
       "Name: purpose, dtype: int64"
      ]
     },
     "execution_count": 8,
     "metadata": {},
     "output_type": "execute_result"
    }
   ],
   "source": [
    "loan[\"purpose\"].value_counts()"
   ]
  },
  {
   "cell_type": "code",
   "execution_count": 9,
   "metadata": {},
   "outputs": [
    {
     "data": {
      "text/plain": [
       "1    7710\n",
       "0    1868\n",
       "Name: credit.policy, dtype: int64"
      ]
     },
     "execution_count": 9,
     "metadata": {},
     "output_type": "execute_result"
    }
   ],
   "source": [
    "loan[\"credit.policy\"].value_counts()"
   ]
  },
  {
   "cell_type": "code",
   "execution_count": 10,
   "metadata": {},
   "outputs": [],
   "source": [
    "encodedln = pd.get_dummies(loan[['credit.policy','purpose']])"
   ]
  },
  {
   "cell_type": "code",
   "execution_count": 11,
   "metadata": {},
   "outputs": [],
   "source": [
    "X = pd.concat([encodedln,loan.drop(['credit.policy','purpose'],axis=1)],axis=1)"
   ]
  },
  {
   "cell_type": "code",
   "execution_count": 12,
   "metadata": {},
   "outputs": [
    {
     "data": {
      "text/html": [
       "<div>\n",
       "<style scoped>\n",
       "    .dataframe tbody tr th:only-of-type {\n",
       "        vertical-align: middle;\n",
       "    }\n",
       "\n",
       "    .dataframe tbody tr th {\n",
       "        vertical-align: top;\n",
       "    }\n",
       "\n",
       "    .dataframe thead th {\n",
       "        text-align: right;\n",
       "    }\n",
       "</style>\n",
       "<table border=\"1\" class=\"dataframe\">\n",
       "  <thead>\n",
       "    <tr style=\"text-align: right;\">\n",
       "      <th></th>\n",
       "      <th>credit.policy</th>\n",
       "      <th>purpose_all_other</th>\n",
       "      <th>purpose_credit_card</th>\n",
       "      <th>purpose_debt_consolidation</th>\n",
       "      <th>purpose_educational</th>\n",
       "      <th>purpose_home_improvement</th>\n",
       "      <th>purpose_major_purchase</th>\n",
       "      <th>purpose_small_business</th>\n",
       "      <th>int.rate</th>\n",
       "      <th>installment</th>\n",
       "      <th>log.annual.inc</th>\n",
       "      <th>dti</th>\n",
       "      <th>fico</th>\n",
       "      <th>days.with.cr.line</th>\n",
       "      <th>revol.bal</th>\n",
       "      <th>revol.util</th>\n",
       "      <th>inq.last.6mths</th>\n",
       "      <th>delinq.2yrs</th>\n",
       "      <th>pub.rec</th>\n",
       "    </tr>\n",
       "  </thead>\n",
       "  <tbody>\n",
       "    <tr>\n",
       "      <th>0</th>\n",
       "      <td>1</td>\n",
       "      <td>0</td>\n",
       "      <td>0</td>\n",
       "      <td>1</td>\n",
       "      <td>0</td>\n",
       "      <td>0</td>\n",
       "      <td>0</td>\n",
       "      <td>0</td>\n",
       "      <td>0.1189</td>\n",
       "      <td>829.10</td>\n",
       "      <td>11.350407</td>\n",
       "      <td>19.48</td>\n",
       "      <td>737</td>\n",
       "      <td>5639.958333</td>\n",
       "      <td>28854</td>\n",
       "      <td>52.1</td>\n",
       "      <td>0</td>\n",
       "      <td>0</td>\n",
       "      <td>0</td>\n",
       "    </tr>\n",
       "    <tr>\n",
       "      <th>1</th>\n",
       "      <td>1</td>\n",
       "      <td>0</td>\n",
       "      <td>1</td>\n",
       "      <td>0</td>\n",
       "      <td>0</td>\n",
       "      <td>0</td>\n",
       "      <td>0</td>\n",
       "      <td>0</td>\n",
       "      <td>0.1071</td>\n",
       "      <td>228.22</td>\n",
       "      <td>11.082143</td>\n",
       "      <td>14.29</td>\n",
       "      <td>707</td>\n",
       "      <td>2760.000000</td>\n",
       "      <td>33623</td>\n",
       "      <td>76.7</td>\n",
       "      <td>0</td>\n",
       "      <td>0</td>\n",
       "      <td>0</td>\n",
       "    </tr>\n",
       "    <tr>\n",
       "      <th>2</th>\n",
       "      <td>1</td>\n",
       "      <td>0</td>\n",
       "      <td>0</td>\n",
       "      <td>1</td>\n",
       "      <td>0</td>\n",
       "      <td>0</td>\n",
       "      <td>0</td>\n",
       "      <td>0</td>\n",
       "      <td>0.1357</td>\n",
       "      <td>366.86</td>\n",
       "      <td>10.373491</td>\n",
       "      <td>11.63</td>\n",
       "      <td>682</td>\n",
       "      <td>4710.000000</td>\n",
       "      <td>3511</td>\n",
       "      <td>25.6</td>\n",
       "      <td>1</td>\n",
       "      <td>0</td>\n",
       "      <td>0</td>\n",
       "    </tr>\n",
       "    <tr>\n",
       "      <th>3</th>\n",
       "      <td>1</td>\n",
       "      <td>0</td>\n",
       "      <td>0</td>\n",
       "      <td>1</td>\n",
       "      <td>0</td>\n",
       "      <td>0</td>\n",
       "      <td>0</td>\n",
       "      <td>0</td>\n",
       "      <td>0.1008</td>\n",
       "      <td>162.34</td>\n",
       "      <td>11.350407</td>\n",
       "      <td>8.10</td>\n",
       "      <td>712</td>\n",
       "      <td>2699.958333</td>\n",
       "      <td>33667</td>\n",
       "      <td>73.2</td>\n",
       "      <td>1</td>\n",
       "      <td>0</td>\n",
       "      <td>0</td>\n",
       "    </tr>\n",
       "    <tr>\n",
       "      <th>4</th>\n",
       "      <td>1</td>\n",
       "      <td>0</td>\n",
       "      <td>1</td>\n",
       "      <td>0</td>\n",
       "      <td>0</td>\n",
       "      <td>0</td>\n",
       "      <td>0</td>\n",
       "      <td>0</td>\n",
       "      <td>0.1426</td>\n",
       "      <td>102.92</td>\n",
       "      <td>11.299732</td>\n",
       "      <td>14.97</td>\n",
       "      <td>667</td>\n",
       "      <td>4066.000000</td>\n",
       "      <td>4740</td>\n",
       "      <td>39.5</td>\n",
       "      <td>0</td>\n",
       "      <td>1</td>\n",
       "      <td>0</td>\n",
       "    </tr>\n",
       "    <tr>\n",
       "      <th>...</th>\n",
       "      <td>...</td>\n",
       "      <td>...</td>\n",
       "      <td>...</td>\n",
       "      <td>...</td>\n",
       "      <td>...</td>\n",
       "      <td>...</td>\n",
       "      <td>...</td>\n",
       "      <td>...</td>\n",
       "      <td>...</td>\n",
       "      <td>...</td>\n",
       "      <td>...</td>\n",
       "      <td>...</td>\n",
       "      <td>...</td>\n",
       "      <td>...</td>\n",
       "      <td>...</td>\n",
       "      <td>...</td>\n",
       "      <td>...</td>\n",
       "      <td>...</td>\n",
       "      <td>...</td>\n",
       "    </tr>\n",
       "    <tr>\n",
       "      <th>9573</th>\n",
       "      <td>0</td>\n",
       "      <td>1</td>\n",
       "      <td>0</td>\n",
       "      <td>0</td>\n",
       "      <td>0</td>\n",
       "      <td>0</td>\n",
       "      <td>0</td>\n",
       "      <td>0</td>\n",
       "      <td>0.1461</td>\n",
       "      <td>344.76</td>\n",
       "      <td>12.180755</td>\n",
       "      <td>10.39</td>\n",
       "      <td>672</td>\n",
       "      <td>10474.000000</td>\n",
       "      <td>215372</td>\n",
       "      <td>82.1</td>\n",
       "      <td>2</td>\n",
       "      <td>0</td>\n",
       "      <td>0</td>\n",
       "    </tr>\n",
       "    <tr>\n",
       "      <th>9574</th>\n",
       "      <td>0</td>\n",
       "      <td>1</td>\n",
       "      <td>0</td>\n",
       "      <td>0</td>\n",
       "      <td>0</td>\n",
       "      <td>0</td>\n",
       "      <td>0</td>\n",
       "      <td>0</td>\n",
       "      <td>0.1253</td>\n",
       "      <td>257.70</td>\n",
       "      <td>11.141862</td>\n",
       "      <td>0.21</td>\n",
       "      <td>722</td>\n",
       "      <td>4380.000000</td>\n",
       "      <td>184</td>\n",
       "      <td>1.1</td>\n",
       "      <td>5</td>\n",
       "      <td>0</td>\n",
       "      <td>0</td>\n",
       "    </tr>\n",
       "    <tr>\n",
       "      <th>9575</th>\n",
       "      <td>0</td>\n",
       "      <td>0</td>\n",
       "      <td>0</td>\n",
       "      <td>1</td>\n",
       "      <td>0</td>\n",
       "      <td>0</td>\n",
       "      <td>0</td>\n",
       "      <td>0</td>\n",
       "      <td>0.1071</td>\n",
       "      <td>97.81</td>\n",
       "      <td>10.596635</td>\n",
       "      <td>13.09</td>\n",
       "      <td>687</td>\n",
       "      <td>3450.041667</td>\n",
       "      <td>10036</td>\n",
       "      <td>82.9</td>\n",
       "      <td>8</td>\n",
       "      <td>0</td>\n",
       "      <td>0</td>\n",
       "    </tr>\n",
       "    <tr>\n",
       "      <th>9576</th>\n",
       "      <td>0</td>\n",
       "      <td>0</td>\n",
       "      <td>0</td>\n",
       "      <td>0</td>\n",
       "      <td>0</td>\n",
       "      <td>1</td>\n",
       "      <td>0</td>\n",
       "      <td>0</td>\n",
       "      <td>0.1600</td>\n",
       "      <td>351.58</td>\n",
       "      <td>10.819778</td>\n",
       "      <td>19.18</td>\n",
       "      <td>692</td>\n",
       "      <td>1800.000000</td>\n",
       "      <td>0</td>\n",
       "      <td>3.2</td>\n",
       "      <td>5</td>\n",
       "      <td>0</td>\n",
       "      <td>0</td>\n",
       "    </tr>\n",
       "    <tr>\n",
       "      <th>9577</th>\n",
       "      <td>0</td>\n",
       "      <td>0</td>\n",
       "      <td>0</td>\n",
       "      <td>1</td>\n",
       "      <td>0</td>\n",
       "      <td>0</td>\n",
       "      <td>0</td>\n",
       "      <td>0</td>\n",
       "      <td>0.1392</td>\n",
       "      <td>853.43</td>\n",
       "      <td>11.264464</td>\n",
       "      <td>16.28</td>\n",
       "      <td>732</td>\n",
       "      <td>4740.000000</td>\n",
       "      <td>37879</td>\n",
       "      <td>57.0</td>\n",
       "      <td>6</td>\n",
       "      <td>0</td>\n",
       "      <td>0</td>\n",
       "    </tr>\n",
       "  </tbody>\n",
       "</table>\n",
       "<p>9578 rows × 19 columns</p>\n",
       "</div>"
      ],
      "text/plain": [
       "      credit.policy  purpose_all_other  purpose_credit_card  \\\n",
       "0                 1                  0                    0   \n",
       "1                 1                  0                    1   \n",
       "2                 1                  0                    0   \n",
       "3                 1                  0                    0   \n",
       "4                 1                  0                    1   \n",
       "...             ...                ...                  ...   \n",
       "9573              0                  1                    0   \n",
       "9574              0                  1                    0   \n",
       "9575              0                  0                    0   \n",
       "9576              0                  0                    0   \n",
       "9577              0                  0                    0   \n",
       "\n",
       "      purpose_debt_consolidation  purpose_educational  \\\n",
       "0                              1                    0   \n",
       "1                              0                    0   \n",
       "2                              1                    0   \n",
       "3                              1                    0   \n",
       "4                              0                    0   \n",
       "...                          ...                  ...   \n",
       "9573                           0                    0   \n",
       "9574                           0                    0   \n",
       "9575                           1                    0   \n",
       "9576                           0                    0   \n",
       "9577                           1                    0   \n",
       "\n",
       "      purpose_home_improvement  purpose_major_purchase  \\\n",
       "0                            0                       0   \n",
       "1                            0                       0   \n",
       "2                            0                       0   \n",
       "3                            0                       0   \n",
       "4                            0                       0   \n",
       "...                        ...                     ...   \n",
       "9573                         0                       0   \n",
       "9574                         0                       0   \n",
       "9575                         0                       0   \n",
       "9576                         1                       0   \n",
       "9577                         0                       0   \n",
       "\n",
       "      purpose_small_business  int.rate  installment  log.annual.inc    dti  \\\n",
       "0                          0    0.1189       829.10       11.350407  19.48   \n",
       "1                          0    0.1071       228.22       11.082143  14.29   \n",
       "2                          0    0.1357       366.86       10.373491  11.63   \n",
       "3                          0    0.1008       162.34       11.350407   8.10   \n",
       "4                          0    0.1426       102.92       11.299732  14.97   \n",
       "...                      ...       ...          ...             ...    ...   \n",
       "9573                       0    0.1461       344.76       12.180755  10.39   \n",
       "9574                       0    0.1253       257.70       11.141862   0.21   \n",
       "9575                       0    0.1071        97.81       10.596635  13.09   \n",
       "9576                       0    0.1600       351.58       10.819778  19.18   \n",
       "9577                       0    0.1392       853.43       11.264464  16.28   \n",
       "\n",
       "      fico  days.with.cr.line  revol.bal  revol.util  inq.last.6mths  \\\n",
       "0      737        5639.958333      28854        52.1               0   \n",
       "1      707        2760.000000      33623        76.7               0   \n",
       "2      682        4710.000000       3511        25.6               1   \n",
       "3      712        2699.958333      33667        73.2               1   \n",
       "4      667        4066.000000       4740        39.5               0   \n",
       "...    ...                ...        ...         ...             ...   \n",
       "9573   672       10474.000000     215372        82.1               2   \n",
       "9574   722        4380.000000        184         1.1               5   \n",
       "9575   687        3450.041667      10036        82.9               8   \n",
       "9576   692        1800.000000          0         3.2               5   \n",
       "9577   732        4740.000000      37879        57.0               6   \n",
       "\n",
       "      delinq.2yrs  pub.rec  \n",
       "0               0        0  \n",
       "1               0        0  \n",
       "2               0        0  \n",
       "3               0        0  \n",
       "4               1        0  \n",
       "...           ...      ...  \n",
       "9573            0        0  \n",
       "9574            0        0  \n",
       "9575            0        0  \n",
       "9576            0        0  \n",
       "9577            0        0  \n",
       "\n",
       "[9578 rows x 19 columns]"
      ]
     },
     "execution_count": 12,
     "metadata": {},
     "output_type": "execute_result"
    }
   ],
   "source": [
    "X"
   ]
  },
  {
   "cell_type": "code",
   "execution_count": 13,
   "metadata": {},
   "outputs": [],
   "source": [
    "X_train, X_test, y_train, y_test = train_test_split(X, y, test_size=0.2, random_state=101)"
   ]
  },
  {
   "cell_type": "code",
   "execution_count": 14,
   "metadata": {},
   "outputs": [
    {
     "data": {
      "text/plain": [
       "0.8460334029227558"
      ]
     },
     "execution_count": 14,
     "metadata": {},
     "output_type": "execute_result"
    }
   ],
   "source": [
    "lr = LogisticRegression()\n",
    "lr.fit(X_train, y_train)\n",
    "y_pred = lr.predict(X_test)\n",
    "accuracy_score(y_test, y_pred)"
   ]
  },
  {
   "cell_type": "code",
   "execution_count": 15,
   "metadata": {},
   "outputs": [],
   "source": [
    "def fit_predict(train, test, y_train, y_test, scaler, max_depth, \n",
    "                criterion = 'entropy', max_features = 1, min_samples_split = 4):\n",
    "    train_scaled = scaler.fit_transform(train)\n",
    "    test_scaled = scaler.transform(test)        \n",
    "    dt = DecisionTreeClassifier(criterion = criterion, max_depth=max_depth, \n",
    "                                random_state=42, max_features=max_features,\n",
    "                               min_samples_split=min_samples_split)\n",
    "    dt.fit(train_scaled, y_train)\n",
    "    y_pred = dt.predict(test_scaled)\n",
    "    print(accuracy_score(y_test, y_pred))"
   ]
  },
  {
   "cell_type": "code",
   "execution_count": 16,
   "metadata": {},
   "outputs": [
    {
     "name": "stdout",
     "output_type": "stream",
     "text": [
      "0.7343423799582464\n"
     ]
    }
   ],
   "source": [
    "tree = DecisionTreeClassifier()\n",
    "tree.fit(X_train, y_train)\n",
    "y_pred = tree.predict(X_test)\n",
    "print(accuracy_score(y_test, y_pred))"
   ]
  },
  {
   "cell_type": "code",
   "execution_count": 17,
   "metadata": {},
   "outputs": [],
   "source": [
    "#MAX Depth Tuning"
   ]
  },
  {
   "cell_type": "code",
   "execution_count": 18,
   "metadata": {},
   "outputs": [
    {
     "name": "stdout",
     "output_type": "stream",
     "text": [
      "Accuracy using Max Depth = 1: 0.8470772442588727\n",
      "Accuracy using Max Depth = 2: 0.8470772442588727\n",
      "Accuracy using Max Depth = 3: 0.8470772442588727\n",
      "Accuracy using Max Depth = 4: 0.8470772442588727\n",
      "Accuracy using Max Depth = 5: 0.8455114822546973\n",
      "Accuracy using Max Depth = 6: 0.8455114822546973\n",
      "Accuracy using Max Depth = 7: 0.8413361169102297\n",
      "Accuracy using Max Depth = 8: 0.8423799582463466\n",
      "Accuracy using Max Depth = 9: 0.8355949895615866\n",
      "Accuracy using Max Depth = 10: 0.837160751565762\n",
      "Accuracy using Max Depth = 11: 0.8308977035490606\n",
      "Accuracy using Max Depth = 12: 0.8413361169102297\n",
      "Accuracy using Max Depth = 13: 0.819937369519833\n",
      "Accuracy using Max Depth = 14: 0.8277661795407099\n",
      "Accuracy using Max Depth = 15: 0.826722338204593\n",
      "Accuracy using Max Depth = 16: 0.7980167014613778\n",
      "Accuracy using Max Depth = 17: 0.8100208768267223\n",
      "Accuracy using Max Depth = 18: 0.7860125260960334\n",
      "Accuracy using Max Depth = 19: 0.8011482254697286\n",
      "Accuracy using Max Depth = 20: 0.7985386221294363\n",
      "Accuracy using Max Depth = 21: 0.7927974947807933\n",
      "Accuracy using Max Depth = 22: 0.778705636743215\n",
      "Accuracy using Max Depth = 23: 0.7781837160751566\n",
      "Accuracy using Max Depth = 24: 0.7881002087682673\n",
      "Accuracy using Max Depth = 25: 0.7656576200417536\n",
      "Accuracy using Max Depth = 26: 0.7646137787056367\n",
      "Accuracy using Max Depth = 27: 0.7703549060542797\n",
      "Accuracy using Max Depth = 28: 0.7599164926931107\n",
      "Accuracy using Max Depth = 29: 0.7755741127348643\n"
     ]
    }
   ],
   "source": [
    "max_depth = []\n",
    "for i in range(1, 30):\n",
    "    print(\"Accuracy using Max Depth =\", i, end = ': ')\n",
    "    fit_predict(X_train, X_test, y_train, y_test, StandardScaler(), i)\n",
    "\n",
    "#Print(\"Max Depth:\",max(max_depth))"
   ]
  },
  {
   "cell_type": "markdown",
   "metadata": {},
   "source": [
    "Max depth here is 5 also 6 is same\n",
    "Accuracy = 0.8455114822546973"
   ]
  },
  {
   "cell_type": "code",
   "execution_count": null,
   "metadata": {},
   "outputs": [],
   "source": [
    "#MAX features split"
   ]
  },
  {
   "cell_type": "code",
   "execution_count": 20,
   "metadata": {},
   "outputs": [
    {
     "name": "stdout",
     "output_type": "stream",
     "text": [
      "Accuracy using Max Feature = 0.1: 0.8455114822546973\n",
      "Accuracy using Max Feature = 0.2: 0.8387265135699373\n",
      "Accuracy using Max Feature = 0.30000000000000004: 0.8444676409185804\n",
      "Accuracy using Max Feature = 0.4: 0.8449895615866388\n",
      "Accuracy using Max Feature = 0.5: 0.8418580375782881\n",
      "Accuracy using Max Feature = 0.6: 0.8449895615866388\n",
      "Accuracy using Max Feature = 0.7000000000000001: 0.8423799582463466\n",
      "Accuracy using Max Feature = 0.8: 0.8434237995824635\n",
      "Accuracy using Max Feature = 0.9: 0.842901878914405\n"
     ]
    }
   ],
   "source": [
    "for i in np.arange(0.1, 1.0, 0.1):\n",
    "    print(\"Accuracy using Max Feature =\", i, end = ': ')\n",
    "    fit_predict(X_train, X_test, y_train, y_test, StandardScaler(), max_depth = 5, max_features= i)"
   ]
  },
  {
   "cell_type": "code",
   "execution_count": null,
   "metadata": {},
   "outputs": [],
   "source": [
    "#Min sample split"
   ]
  },
  {
   "cell_type": "code",
   "execution_count": 21,
   "metadata": {},
   "outputs": [
    {
     "name": "stdout",
     "output_type": "stream",
     "text": [
      "Accuracy using Min Sample Split = 2: 0.8455114822546973\n",
      "Accuracy using Min Sample Split = 3: 0.8455114822546973\n",
      "Accuracy using Min Sample Split = 4: 0.8455114822546973\n",
      "Accuracy using Min Sample Split = 5: 0.8455114822546973\n",
      "Accuracy using Min Sample Split = 6: 0.8455114822546973\n",
      "Accuracy using Min Sample Split = 7: 0.8455114822546973\n",
      "Accuracy using Min Sample Split = 8: 0.8455114822546973\n",
      "Accuracy using Min Sample Split = 9: 0.8455114822546973\n"
     ]
    }
   ],
   "source": [
    "for i in range(2, 10):\n",
    "    print(\"Accuracy using Min Sample Split =\", i, end = ': ')\n",
    "    fit_predict(X_train, X_test, y_train, y_test, StandardScaler(), max_depth = 5, min_samples_split= i)"
   ]
  },
  {
   "cell_type": "code",
   "execution_count": null,
   "metadata": {},
   "outputs": [],
   "source": [
    "#Criterion tuning"
   ]
  },
  {
   "cell_type": "code",
   "execution_count": 22,
   "metadata": {},
   "outputs": [
    {
     "name": "stdout",
     "output_type": "stream",
     "text": [
      "Accuracy using Criterion = gini: 0.8434237995824635\n",
      "Accuracy using Criterion = entropy: 0.8455114822546973\n"
     ]
    }
   ],
   "source": [
    "# Using my original result\n",
    "for i in ['gini', 'entropy']:\n",
    "    print(\"Accuracy using Criterion =\", i, end = ': ')\n",
    "    fit_predict(X_train, X_test, y_train, y_test, StandardScaler(), max_depth = 5, \n",
    "                criterion = i)"
   ]
  },
  {
   "cell_type": "code",
   "execution_count": 23,
   "metadata": {},
   "outputs": [],
   "source": [
    "def create_poly(train, test, degree):\n",
    "    poly = PolynomialFeatures(degree = degree)\n",
    "    train_poly = poly.fit_transform(train)\n",
    "    test_poly = poly.fit_transform(test)\n",
    "    return train_poly, test_poly"
   ]
  },
  {
   "cell_type": "code",
   "execution_count": 24,
   "metadata": {},
   "outputs": [
    {
     "name": "stdout",
     "output_type": "stream",
     "text": [
      "Polynomial Degree: 1\n",
      "0.8470772442588727\n",
      "----------\n",
      "Polynomial Degree: 2\n",
      "0.8465553235908142\n",
      "----------\n",
      "Polynomial Degree: 3\n",
      "0.8465553235908142\n",
      "----------\n",
      "Polynomial Degree: 4\n",
      "0.8449895615866388\n",
      "----------\n"
     ]
    }
   ],
   "source": [
    "for degree in [1, 2, 3, 4]:\n",
    "    train_poly, test_poly = create_poly(X_train, X_test, degree)\n",
    "    print('Polynomial Degree:', degree)\n",
    "    fit_predict(train_poly, test_poly, y_train, y_test, StandardScaler(), max_depth = 5)\n",
    "    print(10*'-')\n",
    "    \n",
    "train_poly, test_poly = create_poly(X_train, X_test, 2)"
   ]
  },
  {
   "cell_type": "code",
   "execution_count": 25,
   "metadata": {},
   "outputs": [
    {
     "name": "stdout",
     "output_type": "stream",
     "text": [
      "0.8465553235908142\n"
     ]
    }
   ],
   "source": [
    "train_poly, test_poly = create_poly(X_train, X_test, 2)\n",
    "\n",
    "fit_predict(train_poly, test_poly, y_train, y_test, StandardScaler(), max_depth = 5)"
   ]
  },
  {
   "cell_type": "code",
   "execution_count": null,
   "metadata": {},
   "outputs": [],
   "source": [
    "#With Poly no improvement is there"
   ]
  },
  {
   "cell_type": "code",
   "execution_count": null,
   "metadata": {},
   "outputs": [],
   "source": [
    "#Random forest"
   ]
  },
  {
   "cell_type": "code",
   "execution_count": 27,
   "metadata": {},
   "outputs": [],
   "source": [
    "from sklearn.ensemble import RandomForestClassifier"
   ]
  },
  {
   "cell_type": "code",
   "execution_count": 28,
   "metadata": {},
   "outputs": [
    {
     "name": "stdout",
     "output_type": "stream",
     "text": [
      "RandomForest Accuracy: 0.8475991649269311\n"
     ]
    }
   ],
   "source": [
    "rf = RandomForestClassifier()\n",
    "rf.fit(X_train, y_train)\n",
    "y_pred = rf.predict(X_test)\n",
    "print(\"RandomForest Accuracy:\",accuracy_score(y_test, y_pred))"
   ]
  },
  {
   "cell_type": "code",
   "execution_count": 29,
   "metadata": {},
   "outputs": [
    {
     "data": {
      "text/plain": [
       "DecisionTreeClassifier(ccp_alpha=0.0, class_weight=None, criterion='gini',\n",
       "                       max_depth=None, max_features=None, max_leaf_nodes=None,\n",
       "                       min_impurity_decrease=0.0, min_impurity_split=None,\n",
       "                       min_samples_leaf=1, min_samples_split=2,\n",
       "                       min_weight_fraction_leaf=0.0, presort='deprecated',\n",
       "                       random_state=None, splitter='best')"
      ]
     },
     "execution_count": 29,
     "metadata": {},
     "output_type": "execute_result"
    }
   ],
   "source": [
    "rf.base_estimator"
   ]
  },
  {
   "cell_type": "code",
   "execution_count": 30,
   "metadata": {},
   "outputs": [],
   "source": [
    "from sklearn.model_selection import GridSearchCV"
   ]
  },
  {
   "cell_type": "code",
   "execution_count": 31,
   "metadata": {},
   "outputs": [],
   "source": [
    "params = {'n_estimators': [200,500,700], 'max_depth': [4, 5, 8], 'min_samples_leaf': [2, 3, 5]}"
   ]
  },
  {
   "cell_type": "code",
   "execution_count": 32,
   "metadata": {},
   "outputs": [],
   "source": [
    "gsv = GridSearchCV(rf, params, verbose = 3)"
   ]
  },
  {
   "cell_type": "code",
   "execution_count": 33,
   "metadata": {},
   "outputs": [
    {
     "name": "stdout",
     "output_type": "stream",
     "text": [
      "Fitting 5 folds for each of 27 candidates, totalling 135 fits\n",
      "[CV] max_depth=4, min_samples_leaf=2, n_estimators=200 ...............\n"
     ]
    },
    {
     "name": "stderr",
     "output_type": "stream",
     "text": [
      "[Parallel(n_jobs=1)]: Using backend SequentialBackend with 1 concurrent workers.\n"
     ]
    },
    {
     "name": "stdout",
     "output_type": "stream",
     "text": [
      "[CV]  max_depth=4, min_samples_leaf=2, n_estimators=200, score=0.838, total=   1.3s\n",
      "[CV] max_depth=4, min_samples_leaf=2, n_estimators=200 ...............\n"
     ]
    },
    {
     "name": "stderr",
     "output_type": "stream",
     "text": [
      "[Parallel(n_jobs=1)]: Done   1 out of   1 | elapsed:    1.2s remaining:    0.0s\n"
     ]
    },
    {
     "name": "stdout",
     "output_type": "stream",
     "text": [
      "[CV]  max_depth=4, min_samples_leaf=2, n_estimators=200, score=0.838, total=   1.3s\n",
      "[CV] max_depth=4, min_samples_leaf=2, n_estimators=200 ...............\n"
     ]
    },
    {
     "name": "stderr",
     "output_type": "stream",
     "text": [
      "[Parallel(n_jobs=1)]: Done   2 out of   2 | elapsed:    2.5s remaining:    0.0s\n"
     ]
    },
    {
     "name": "stdout",
     "output_type": "stream",
     "text": [
      "[CV]  max_depth=4, min_samples_leaf=2, n_estimators=200, score=0.838, total=   1.2s\n",
      "[CV] max_depth=4, min_samples_leaf=2, n_estimators=200 ...............\n",
      "[CV]  max_depth=4, min_samples_leaf=2, n_estimators=200, score=0.838, total=   1.2s\n",
      "[CV] max_depth=4, min_samples_leaf=2, n_estimators=200 ...............\n",
      "[CV]  max_depth=4, min_samples_leaf=2, n_estimators=200, score=0.838, total=   1.4s\n",
      "[CV] max_depth=4, min_samples_leaf=2, n_estimators=500 ...............\n",
      "[CV]  max_depth=4, min_samples_leaf=2, n_estimators=500, score=0.838, total=   3.6s\n",
      "[CV] max_depth=4, min_samples_leaf=2, n_estimators=500 ...............\n",
      "[CV]  max_depth=4, min_samples_leaf=2, n_estimators=500, score=0.838, total=   3.2s\n",
      "[CV] max_depth=4, min_samples_leaf=2, n_estimators=500 ...............\n",
      "[CV]  max_depth=4, min_samples_leaf=2, n_estimators=500, score=0.838, total=   3.1s\n",
      "[CV] max_depth=4, min_samples_leaf=2, n_estimators=500 ...............\n",
      "[CV]  max_depth=4, min_samples_leaf=2, n_estimators=500, score=0.838, total=   3.3s\n",
      "[CV] max_depth=4, min_samples_leaf=2, n_estimators=500 ...............\n",
      "[CV]  max_depth=4, min_samples_leaf=2, n_estimators=500, score=0.838, total=   3.3s\n",
      "[CV] max_depth=4, min_samples_leaf=2, n_estimators=700 ...............\n",
      "[CV]  max_depth=4, min_samples_leaf=2, n_estimators=700, score=0.838, total=   4.3s\n",
      "[CV] max_depth=4, min_samples_leaf=2, n_estimators=700 ...............\n",
      "[CV]  max_depth=4, min_samples_leaf=2, n_estimators=700, score=0.838, total=   4.0s\n",
      "[CV] max_depth=4, min_samples_leaf=2, n_estimators=700 ...............\n",
      "[CV]  max_depth=4, min_samples_leaf=2, n_estimators=700, score=0.838, total=   4.0s\n",
      "[CV] max_depth=4, min_samples_leaf=2, n_estimators=700 ...............\n",
      "[CV]  max_depth=4, min_samples_leaf=2, n_estimators=700, score=0.838, total=   4.1s\n",
      "[CV] max_depth=4, min_samples_leaf=2, n_estimators=700 ...............\n",
      "[CV]  max_depth=4, min_samples_leaf=2, n_estimators=700, score=0.838, total=   4.1s\n",
      "[CV] max_depth=4, min_samples_leaf=3, n_estimators=200 ...............\n",
      "[CV]  max_depth=4, min_samples_leaf=3, n_estimators=200, score=0.838, total=   1.2s\n",
      "[CV] max_depth=4, min_samples_leaf=3, n_estimators=200 ...............\n",
      "[CV]  max_depth=4, min_samples_leaf=3, n_estimators=200, score=0.838, total=   1.2s\n",
      "[CV] max_depth=4, min_samples_leaf=3, n_estimators=200 ...............\n",
      "[CV]  max_depth=4, min_samples_leaf=3, n_estimators=200, score=0.838, total=   1.2s\n",
      "[CV] max_depth=4, min_samples_leaf=3, n_estimators=200 ...............\n",
      "[CV]  max_depth=4, min_samples_leaf=3, n_estimators=200, score=0.838, total=   1.2s\n",
      "[CV] max_depth=4, min_samples_leaf=3, n_estimators=200 ...............\n",
      "[CV]  max_depth=4, min_samples_leaf=3, n_estimators=200, score=0.838, total=   1.2s\n",
      "[CV] max_depth=4, min_samples_leaf=3, n_estimators=500 ...............\n",
      "[CV]  max_depth=4, min_samples_leaf=3, n_estimators=500, score=0.838, total=   2.9s\n",
      "[CV] max_depth=4, min_samples_leaf=3, n_estimators=500 ...............\n",
      "[CV]  max_depth=4, min_samples_leaf=3, n_estimators=500, score=0.838, total=   2.9s\n",
      "[CV] max_depth=4, min_samples_leaf=3, n_estimators=500 ...............\n",
      "[CV]  max_depth=4, min_samples_leaf=3, n_estimators=500, score=0.838, total=   3.0s\n",
      "[CV] max_depth=4, min_samples_leaf=3, n_estimators=500 ...............\n",
      "[CV]  max_depth=4, min_samples_leaf=3, n_estimators=500, score=0.838, total=   3.0s\n",
      "[CV] max_depth=4, min_samples_leaf=3, n_estimators=500 ...............\n",
      "[CV]  max_depth=4, min_samples_leaf=3, n_estimators=500, score=0.838, total=   2.9s\n",
      "[CV] max_depth=4, min_samples_leaf=3, n_estimators=700 ...............\n",
      "[CV]  max_depth=4, min_samples_leaf=3, n_estimators=700, score=0.838, total=   4.0s\n",
      "[CV] max_depth=4, min_samples_leaf=3, n_estimators=700 ...............\n",
      "[CV]  max_depth=4, min_samples_leaf=3, n_estimators=700, score=0.838, total=   4.1s\n",
      "[CV] max_depth=4, min_samples_leaf=3, n_estimators=700 ...............\n",
      "[CV]  max_depth=4, min_samples_leaf=3, n_estimators=700, score=0.838, total=   4.0s\n",
      "[CV] max_depth=4, min_samples_leaf=3, n_estimators=700 ...............\n",
      "[CV]  max_depth=4, min_samples_leaf=3, n_estimators=700, score=0.838, total=   4.1s\n",
      "[CV] max_depth=4, min_samples_leaf=3, n_estimators=700 ...............\n",
      "[CV]  max_depth=4, min_samples_leaf=3, n_estimators=700, score=0.838, total=   4.0s\n",
      "[CV] max_depth=4, min_samples_leaf=5, n_estimators=200 ...............\n",
      "[CV]  max_depth=4, min_samples_leaf=5, n_estimators=200, score=0.838, total=   1.1s\n",
      "[CV] max_depth=4, min_samples_leaf=5, n_estimators=200 ...............\n",
      "[CV]  max_depth=4, min_samples_leaf=5, n_estimators=200, score=0.838, total=   1.2s\n",
      "[CV] max_depth=4, min_samples_leaf=5, n_estimators=200 ...............\n",
      "[CV]  max_depth=4, min_samples_leaf=5, n_estimators=200, score=0.838, total=   1.3s\n",
      "[CV] max_depth=4, min_samples_leaf=5, n_estimators=200 ...............\n",
      "[CV]  max_depth=4, min_samples_leaf=5, n_estimators=200, score=0.838, total=   1.2s\n",
      "[CV] max_depth=4, min_samples_leaf=5, n_estimators=200 ...............\n",
      "[CV]  max_depth=4, min_samples_leaf=5, n_estimators=200, score=0.838, total=   1.2s\n",
      "[CV] max_depth=4, min_samples_leaf=5, n_estimators=500 ...............\n",
      "[CV]  max_depth=4, min_samples_leaf=5, n_estimators=500, score=0.838, total=   2.9s\n",
      "[CV] max_depth=4, min_samples_leaf=5, n_estimators=500 ...............\n",
      "[CV]  max_depth=4, min_samples_leaf=5, n_estimators=500, score=0.838, total=   2.9s\n",
      "[CV] max_depth=4, min_samples_leaf=5, n_estimators=500 ...............\n",
      "[CV]  max_depth=4, min_samples_leaf=5, n_estimators=500, score=0.838, total=   2.9s\n",
      "[CV] max_depth=4, min_samples_leaf=5, n_estimators=500 ...............\n",
      "[CV]  max_depth=4, min_samples_leaf=5, n_estimators=500, score=0.838, total=   2.8s\n",
      "[CV] max_depth=4, min_samples_leaf=5, n_estimators=500 ...............\n",
      "[CV]  max_depth=4, min_samples_leaf=5, n_estimators=500, score=0.838, total=   3.0s\n",
      "[CV] max_depth=4, min_samples_leaf=5, n_estimators=700 ...............\n",
      "[CV]  max_depth=4, min_samples_leaf=5, n_estimators=700, score=0.838, total=   4.1s\n",
      "[CV] max_depth=4, min_samples_leaf=5, n_estimators=700 ...............\n",
      "[CV]  max_depth=4, min_samples_leaf=5, n_estimators=700, score=0.838, total=   3.9s\n",
      "[CV] max_depth=4, min_samples_leaf=5, n_estimators=700 ...............\n",
      "[CV]  max_depth=4, min_samples_leaf=5, n_estimators=700, score=0.838, total=   4.0s\n",
      "[CV] max_depth=4, min_samples_leaf=5, n_estimators=700 ...............\n",
      "[CV]  max_depth=4, min_samples_leaf=5, n_estimators=700, score=0.838, total=   4.1s\n",
      "[CV] max_depth=4, min_samples_leaf=5, n_estimators=700 ...............\n",
      "[CV]  max_depth=4, min_samples_leaf=5, n_estimators=700, score=0.838, total=   4.0s\n",
      "[CV] max_depth=5, min_samples_leaf=2, n_estimators=200 ...............\n",
      "[CV]  max_depth=5, min_samples_leaf=2, n_estimators=200, score=0.838, total=   1.3s\n",
      "[CV] max_depth=5, min_samples_leaf=2, n_estimators=200 ...............\n",
      "[CV]  max_depth=5, min_samples_leaf=2, n_estimators=200, score=0.838, total=   1.3s\n",
      "[CV] max_depth=5, min_samples_leaf=2, n_estimators=200 ...............\n",
      "[CV]  max_depth=5, min_samples_leaf=2, n_estimators=200, score=0.838, total=   1.3s\n",
      "[CV] max_depth=5, min_samples_leaf=2, n_estimators=200 ...............\n",
      "[CV]  max_depth=5, min_samples_leaf=2, n_estimators=200, score=0.839, total=   1.3s\n",
      "[CV] max_depth=5, min_samples_leaf=2, n_estimators=200 ...............\n",
      "[CV]  max_depth=5, min_samples_leaf=2, n_estimators=200, score=0.838, total=   1.3s\n",
      "[CV] max_depth=5, min_samples_leaf=2, n_estimators=500 ...............\n",
      "[CV]  max_depth=5, min_samples_leaf=2, n_estimators=500, score=0.838, total=   3.2s\n",
      "[CV] max_depth=5, min_samples_leaf=2, n_estimators=500 ...............\n",
      "[CV]  max_depth=5, min_samples_leaf=2, n_estimators=500, score=0.838, total=   3.4s\n",
      "[CV] max_depth=5, min_samples_leaf=2, n_estimators=500 ...............\n",
      "[CV]  max_depth=5, min_samples_leaf=2, n_estimators=500, score=0.838, total=   3.3s\n",
      "[CV] max_depth=5, min_samples_leaf=2, n_estimators=500 ...............\n",
      "[CV]  max_depth=5, min_samples_leaf=2, n_estimators=500, score=0.839, total=   3.3s\n",
      "[CV] max_depth=5, min_samples_leaf=2, n_estimators=500 ...............\n",
      "[CV]  max_depth=5, min_samples_leaf=2, n_estimators=500, score=0.838, total=   3.3s\n",
      "[CV] max_depth=5, min_samples_leaf=2, n_estimators=700 ...............\n",
      "[CV]  max_depth=5, min_samples_leaf=2, n_estimators=700, score=0.838, total=   4.7s\n",
      "[CV] max_depth=5, min_samples_leaf=2, n_estimators=700 ...............\n",
      "[CV]  max_depth=5, min_samples_leaf=2, n_estimators=700, score=0.838, total=   4.5s\n",
      "[CV] max_depth=5, min_samples_leaf=2, n_estimators=700 ...............\n",
      "[CV]  max_depth=5, min_samples_leaf=2, n_estimators=700, score=0.838, total=   4.5s\n",
      "[CV] max_depth=5, min_samples_leaf=2, n_estimators=700 ...............\n",
      "[CV]  max_depth=5, min_samples_leaf=2, n_estimators=700, score=0.839, total=   4.5s\n",
      "[CV] max_depth=5, min_samples_leaf=2, n_estimators=700 ...............\n",
      "[CV]  max_depth=5, min_samples_leaf=2, n_estimators=700, score=0.838, total=   4.7s\n",
      "[CV] max_depth=5, min_samples_leaf=3, n_estimators=200 ...............\n",
      "[CV]  max_depth=5, min_samples_leaf=3, n_estimators=200, score=0.838, total=   1.3s\n",
      "[CV] max_depth=5, min_samples_leaf=3, n_estimators=200 ...............\n",
      "[CV]  max_depth=5, min_samples_leaf=3, n_estimators=200, score=0.838, total=   1.3s\n",
      "[CV] max_depth=5, min_samples_leaf=3, n_estimators=200 ...............\n",
      "[CV]  max_depth=5, min_samples_leaf=3, n_estimators=200, score=0.838, total=   1.3s\n",
      "[CV] max_depth=5, min_samples_leaf=3, n_estimators=200 ...............\n",
      "[CV]  max_depth=5, min_samples_leaf=3, n_estimators=200, score=0.839, total=   1.3s\n",
      "[CV] max_depth=5, min_samples_leaf=3, n_estimators=200 ...............\n",
      "[CV]  max_depth=5, min_samples_leaf=3, n_estimators=200, score=0.838, total=   1.3s\n",
      "[CV] max_depth=5, min_samples_leaf=3, n_estimators=500 ...............\n",
      "[CV]  max_depth=5, min_samples_leaf=3, n_estimators=500, score=0.838, total=   3.3s\n",
      "[CV] max_depth=5, min_samples_leaf=3, n_estimators=500 ...............\n",
      "[CV]  max_depth=5, min_samples_leaf=3, n_estimators=500, score=0.838, total=   3.4s\n",
      "[CV] max_depth=5, min_samples_leaf=3, n_estimators=500 ...............\n",
      "[CV]  max_depth=5, min_samples_leaf=3, n_estimators=500, score=0.838, total=   3.2s\n",
      "[CV] max_depth=5, min_samples_leaf=3, n_estimators=500 ...............\n",
      "[CV]  max_depth=5, min_samples_leaf=3, n_estimators=500, score=0.839, total=   3.3s\n",
      "[CV] max_depth=5, min_samples_leaf=3, n_estimators=500 ...............\n",
      "[CV]  max_depth=5, min_samples_leaf=3, n_estimators=500, score=0.838, total=   3.3s\n",
      "[CV] max_depth=5, min_samples_leaf=3, n_estimators=700 ...............\n",
      "[CV]  max_depth=5, min_samples_leaf=3, n_estimators=700, score=0.838, total=   4.6s\n",
      "[CV] max_depth=5, min_samples_leaf=3, n_estimators=700 ...............\n",
      "[CV]  max_depth=5, min_samples_leaf=3, n_estimators=700, score=0.838, total=   4.6s\n",
      "[CV] max_depth=5, min_samples_leaf=3, n_estimators=700 ...............\n",
      "[CV]  max_depth=5, min_samples_leaf=3, n_estimators=700, score=0.838, total=   4.6s\n",
      "[CV] max_depth=5, min_samples_leaf=3, n_estimators=700 ...............\n",
      "[CV]  max_depth=5, min_samples_leaf=3, n_estimators=700, score=0.839, total=   4.7s\n",
      "[CV] max_depth=5, min_samples_leaf=3, n_estimators=700 ...............\n",
      "[CV]  max_depth=5, min_samples_leaf=3, n_estimators=700, score=0.838, total=   4.7s\n",
      "[CV] max_depth=5, min_samples_leaf=5, n_estimators=200 ...............\n",
      "[CV]  max_depth=5, min_samples_leaf=5, n_estimators=200, score=0.838, total=   1.3s\n",
      "[CV] max_depth=5, min_samples_leaf=5, n_estimators=200 ...............\n",
      "[CV]  max_depth=5, min_samples_leaf=5, n_estimators=200, score=0.838, total=   1.3s\n",
      "[CV] max_depth=5, min_samples_leaf=5, n_estimators=200 ...............\n",
      "[CV]  max_depth=5, min_samples_leaf=5, n_estimators=200, score=0.838, total=   1.3s\n",
      "[CV] max_depth=5, min_samples_leaf=5, n_estimators=200 ...............\n",
      "[CV]  max_depth=5, min_samples_leaf=5, n_estimators=200, score=0.839, total=   1.3s\n",
      "[CV] max_depth=5, min_samples_leaf=5, n_estimators=200 ...............\n",
      "[CV]  max_depth=5, min_samples_leaf=5, n_estimators=200, score=0.838, total=   1.3s\n",
      "[CV] max_depth=5, min_samples_leaf=5, n_estimators=500 ...............\n",
      "[CV]  max_depth=5, min_samples_leaf=5, n_estimators=500, score=0.838, total=   3.3s\n",
      "[CV] max_depth=5, min_samples_leaf=5, n_estimators=500 ...............\n",
      "[CV]  max_depth=5, min_samples_leaf=5, n_estimators=500, score=0.838, total=   3.2s\n",
      "[CV] max_depth=5, min_samples_leaf=5, n_estimators=500 ...............\n",
      "[CV]  max_depth=5, min_samples_leaf=5, n_estimators=500, score=0.838, total=   3.4s\n",
      "[CV] max_depth=5, min_samples_leaf=5, n_estimators=500 ...............\n",
      "[CV]  max_depth=5, min_samples_leaf=5, n_estimators=500, score=0.839, total=   3.2s\n",
      "[CV] max_depth=5, min_samples_leaf=5, n_estimators=500 ...............\n",
      "[CV]  max_depth=5, min_samples_leaf=5, n_estimators=500, score=0.838, total=   3.2s\n",
      "[CV] max_depth=5, min_samples_leaf=5, n_estimators=700 ...............\n",
      "[CV]  max_depth=5, min_samples_leaf=5, n_estimators=700, score=0.838, total=   4.6s\n",
      "[CV] max_depth=5, min_samples_leaf=5, n_estimators=700 ...............\n",
      "[CV]  max_depth=5, min_samples_leaf=5, n_estimators=700, score=0.838, total=   4.6s\n",
      "[CV] max_depth=5, min_samples_leaf=5, n_estimators=700 ...............\n",
      "[CV]  max_depth=5, min_samples_leaf=5, n_estimators=700, score=0.838, total=   4.5s\n",
      "[CV] max_depth=5, min_samples_leaf=5, n_estimators=700 ...............\n",
      "[CV]  max_depth=5, min_samples_leaf=5, n_estimators=700, score=0.839, total=   4.5s\n",
      "[CV] max_depth=5, min_samples_leaf=5, n_estimators=700 ...............\n",
      "[CV]  max_depth=5, min_samples_leaf=5, n_estimators=700, score=0.838, total=   4.5s\n",
      "[CV] max_depth=8, min_samples_leaf=2, n_estimators=200 ...............\n",
      "[CV]  max_depth=8, min_samples_leaf=2, n_estimators=200, score=0.838, total=   1.9s\n",
      "[CV] max_depth=8, min_samples_leaf=2, n_estimators=200 ...............\n",
      "[CV]  max_depth=8, min_samples_leaf=2, n_estimators=200, score=0.838, total=   1.8s\n",
      "[CV] max_depth=8, min_samples_leaf=2, n_estimators=200 ...............\n",
      "[CV]  max_depth=8, min_samples_leaf=2, n_estimators=200, score=0.839, total=   1.8s\n",
      "[CV] max_depth=8, min_samples_leaf=2, n_estimators=200 ...............\n",
      "[CV]  max_depth=8, min_samples_leaf=2, n_estimators=200, score=0.838, total=   1.8s\n",
      "[CV] max_depth=8, min_samples_leaf=2, n_estimators=200 ...............\n",
      "[CV]  max_depth=8, min_samples_leaf=2, n_estimators=200, score=0.839, total=   1.8s\n",
      "[CV] max_depth=8, min_samples_leaf=2, n_estimators=500 ...............\n",
      "[CV]  max_depth=8, min_samples_leaf=2, n_estimators=500, score=0.837, total=   4.4s\n",
      "[CV] max_depth=8, min_samples_leaf=2, n_estimators=500 ...............\n",
      "[CV]  max_depth=8, min_samples_leaf=2, n_estimators=500, score=0.838, total=   4.6s\n",
      "[CV] max_depth=8, min_samples_leaf=2, n_estimators=500 ...............\n",
      "[CV]  max_depth=8, min_samples_leaf=2, n_estimators=500, score=0.838, total=   4.4s\n",
      "[CV] max_depth=8, min_samples_leaf=2, n_estimators=500 ...............\n",
      "[CV]  max_depth=8, min_samples_leaf=2, n_estimators=500, score=0.838, total=   4.4s\n",
      "[CV] max_depth=8, min_samples_leaf=2, n_estimators=500 ...............\n",
      "[CV]  max_depth=8, min_samples_leaf=2, n_estimators=500, score=0.839, total=   4.4s\n",
      "[CV] max_depth=8, min_samples_leaf=2, n_estimators=700 ...............\n",
      "[CV]  max_depth=8, min_samples_leaf=2, n_estimators=700, score=0.838, total=   6.4s\n",
      "[CV] max_depth=8, min_samples_leaf=2, n_estimators=700 ...............\n",
      "[CV]  max_depth=8, min_samples_leaf=2, n_estimators=700, score=0.838, total=   6.2s\n",
      "[CV] max_depth=8, min_samples_leaf=2, n_estimators=700 ...............\n",
      "[CV]  max_depth=8, min_samples_leaf=2, n_estimators=700, score=0.838, total=   6.3s\n",
      "[CV] max_depth=8, min_samples_leaf=2, n_estimators=700 ...............\n",
      "[CV]  max_depth=8, min_samples_leaf=2, n_estimators=700, score=0.838, total=   6.2s\n",
      "[CV] max_depth=8, min_samples_leaf=2, n_estimators=700 ...............\n",
      "[CV]  max_depth=8, min_samples_leaf=2, n_estimators=700, score=0.839, total=   6.3s\n",
      "[CV] max_depth=8, min_samples_leaf=3, n_estimators=200 ...............\n",
      "[CV]  max_depth=8, min_samples_leaf=3, n_estimators=200, score=0.838, total=   1.8s\n",
      "[CV] max_depth=8, min_samples_leaf=3, n_estimators=200 ...............\n",
      "[CV]  max_depth=8, min_samples_leaf=3, n_estimators=200, score=0.838, total=   1.9s\n",
      "[CV] max_depth=8, min_samples_leaf=3, n_estimators=200 ...............\n",
      "[CV]  max_depth=8, min_samples_leaf=3, n_estimators=200, score=0.838, total=   1.8s\n",
      "[CV] max_depth=8, min_samples_leaf=3, n_estimators=200 ...............\n",
      "[CV]  max_depth=8, min_samples_leaf=3, n_estimators=200, score=0.837, total=   1.8s\n",
      "[CV] max_depth=8, min_samples_leaf=3, n_estimators=200 ...............\n",
      "[CV]  max_depth=8, min_samples_leaf=3, n_estimators=200, score=0.837, total=   1.8s\n",
      "[CV] max_depth=8, min_samples_leaf=3, n_estimators=500 ...............\n",
      "[CV]  max_depth=8, min_samples_leaf=3, n_estimators=500, score=0.838, total=   4.5s\n",
      "[CV] max_depth=8, min_samples_leaf=3, n_estimators=500 ...............\n",
      "[CV]  max_depth=8, min_samples_leaf=3, n_estimators=500, score=0.838, total=   4.4s\n",
      "[CV] max_depth=8, min_samples_leaf=3, n_estimators=500 ...............\n",
      "[CV]  max_depth=8, min_samples_leaf=3, n_estimators=500, score=0.838, total=   4.5s\n",
      "[CV] max_depth=8, min_samples_leaf=3, n_estimators=500 ...............\n",
      "[CV]  max_depth=8, min_samples_leaf=3, n_estimators=500, score=0.837, total=   4.4s\n",
      "[CV] max_depth=8, min_samples_leaf=3, n_estimators=500 ...............\n",
      "[CV]  max_depth=8, min_samples_leaf=3, n_estimators=500, score=0.838, total=   4.5s\n",
      "[CV] max_depth=8, min_samples_leaf=3, n_estimators=700 ...............\n",
      "[CV]  max_depth=8, min_samples_leaf=3, n_estimators=700, score=0.838, total=   6.3s\n",
      "[CV] max_depth=8, min_samples_leaf=3, n_estimators=700 ...............\n",
      "[CV]  max_depth=8, min_samples_leaf=3, n_estimators=700, score=0.838, total=   6.1s\n",
      "[CV] max_depth=8, min_samples_leaf=3, n_estimators=700 ...............\n",
      "[CV]  max_depth=8, min_samples_leaf=3, n_estimators=700, score=0.838, total=   6.2s\n",
      "[CV] max_depth=8, min_samples_leaf=3, n_estimators=700 ...............\n",
      "[CV]  max_depth=8, min_samples_leaf=3, n_estimators=700, score=0.838, total=   6.3s\n",
      "[CV] max_depth=8, min_samples_leaf=3, n_estimators=700 ...............\n",
      "[CV]  max_depth=8, min_samples_leaf=3, n_estimators=700, score=0.838, total=   6.4s\n",
      "[CV] max_depth=8, min_samples_leaf=5, n_estimators=200 ...............\n",
      "[CV]  max_depth=8, min_samples_leaf=5, n_estimators=200, score=0.837, total=   1.8s\n",
      "[CV] max_depth=8, min_samples_leaf=5, n_estimators=200 ...............\n",
      "[CV]  max_depth=8, min_samples_leaf=5, n_estimators=200, score=0.838, total=   1.8s\n",
      "[CV] max_depth=8, min_samples_leaf=5, n_estimators=200 ...............\n",
      "[CV]  max_depth=8, min_samples_leaf=5, n_estimators=200, score=0.838, total=   1.8s\n",
      "[CV] max_depth=8, min_samples_leaf=5, n_estimators=200 ...............\n",
      "[CV]  max_depth=8, min_samples_leaf=5, n_estimators=200, score=0.837, total=   1.8s\n",
      "[CV] max_depth=8, min_samples_leaf=5, n_estimators=200 ...............\n",
      "[CV]  max_depth=8, min_samples_leaf=5, n_estimators=200, score=0.839, total=   1.8s\n",
      "[CV] max_depth=8, min_samples_leaf=5, n_estimators=500 ...............\n",
      "[CV]  max_depth=8, min_samples_leaf=5, n_estimators=500, score=0.838, total=   4.4s\n",
      "[CV] max_depth=8, min_samples_leaf=5, n_estimators=500 ...............\n",
      "[CV]  max_depth=8, min_samples_leaf=5, n_estimators=500, score=0.838, total=   4.4s\n",
      "[CV] max_depth=8, min_samples_leaf=5, n_estimators=500 ...............\n",
      "[CV]  max_depth=8, min_samples_leaf=5, n_estimators=500, score=0.838, total=   4.5s\n",
      "[CV] max_depth=8, min_samples_leaf=5, n_estimators=500 ...............\n",
      "[CV]  max_depth=8, min_samples_leaf=5, n_estimators=500, score=0.838, total=   4.4s\n",
      "[CV] max_depth=8, min_samples_leaf=5, n_estimators=500 ...............\n",
      "[CV]  max_depth=8, min_samples_leaf=5, n_estimators=500, score=0.837, total=   4.4s\n",
      "[CV] max_depth=8, min_samples_leaf=5, n_estimators=700 ...............\n",
      "[CV]  max_depth=8, min_samples_leaf=5, n_estimators=700, score=0.838, total=   6.3s\n",
      "[CV] max_depth=8, min_samples_leaf=5, n_estimators=700 ...............\n",
      "[CV]  max_depth=8, min_samples_leaf=5, n_estimators=700, score=0.838, total=   6.2s\n",
      "[CV] max_depth=8, min_samples_leaf=5, n_estimators=700 ...............\n",
      "[CV]  max_depth=8, min_samples_leaf=5, n_estimators=700, score=0.838, total=   6.1s\n",
      "[CV] max_depth=8, min_samples_leaf=5, n_estimators=700 ...............\n",
      "[CV]  max_depth=8, min_samples_leaf=5, n_estimators=700, score=0.838, total=   6.3s\n",
      "[CV] max_depth=8, min_samples_leaf=5, n_estimators=700 ...............\n",
      "[CV]  max_depth=8, min_samples_leaf=5, n_estimators=700, score=0.838, total=   6.1s\n"
     ]
    },
    {
     "name": "stderr",
     "output_type": "stream",
     "text": [
      "[Parallel(n_jobs=1)]: Done 135 out of 135 | elapsed:  7.5min finished\n"
     ]
    },
    {
     "data": {
      "text/plain": [
       "GridSearchCV(cv=None, error_score=nan,\n",
       "             estimator=RandomForestClassifier(bootstrap=True, ccp_alpha=0.0,\n",
       "                                              class_weight=None,\n",
       "                                              criterion='gini', max_depth=None,\n",
       "                                              max_features='auto',\n",
       "                                              max_leaf_nodes=None,\n",
       "                                              max_samples=None,\n",
       "                                              min_impurity_decrease=0.0,\n",
       "                                              min_impurity_split=None,\n",
       "                                              min_samples_leaf=1,\n",
       "                                              min_samples_split=2,\n",
       "                                              min_weight_fraction_leaf=0.0,\n",
       "                                              n_estimators=100, n_jobs=None,\n",
       "                                              oob_score=False,\n",
       "                                              random_state=None, verbose=0,\n",
       "                                              warm_start=False),\n",
       "             iid='deprecated', n_jobs=None,\n",
       "             param_grid={'max_depth': [4, 5, 8], 'min_samples_leaf': [2, 3, 5],\n",
       "                         'n_estimators': [200, 500, 700]},\n",
       "             pre_dispatch='2*n_jobs', refit=True, return_train_score=False,\n",
       "             scoring=None, verbose=3)"
      ]
     },
     "execution_count": 33,
     "metadata": {},
     "output_type": "execute_result"
    }
   ],
   "source": [
    "gsv.fit(X_train, y_train)"
   ]
  },
  {
   "cell_type": "code",
   "execution_count": 35,
   "metadata": {},
   "outputs": [
    {
     "data": {
      "text/plain": [
       "{'max_depth': 8, 'min_samples_leaf': 2, 'n_estimators': 200}"
      ]
     },
     "execution_count": 35,
     "metadata": {},
     "output_type": "execute_result"
    }
   ],
   "source": [
    "gsv.best_params_"
   ]
  },
  {
   "cell_type": "code",
   "execution_count": 37,
   "metadata": {},
   "outputs": [
    {
     "data": {
      "text/plain": [
       "RandomForestClassifier(bootstrap=True, ccp_alpha=0.0, class_weight=None,\n",
       "                       criterion='gini', max_depth=8, max_features='auto',\n",
       "                       max_leaf_nodes=None, max_samples=None,\n",
       "                       min_impurity_decrease=0.0, min_impurity_split=None,\n",
       "                       min_samples_leaf=2, min_samples_split=2,\n",
       "                       min_weight_fraction_leaf=0.0, n_estimators=200,\n",
       "                       n_jobs=None, oob_score=False, random_state=None,\n",
       "                       verbose=0, warm_start=False)"
      ]
     },
     "execution_count": 37,
     "metadata": {},
     "output_type": "execute_result"
    }
   ],
   "source": [
    "gsv.best_estimator_"
   ]
  },
  {
   "cell_type": "code",
   "execution_count": 38,
   "metadata": {},
   "outputs": [],
   "source": [
    "rf1 = RandomForestClassifier(bootstrap=True, class_weight=None, criterion='gini',\n",
    "                            max_depth=8, max_features='auto', max_leaf_nodes=None,\n",
    "                            min_impurity_decrease=0.0, min_impurity_split=None,\n",
    "                            min_samples_leaf=2, min_samples_split=2,\n",
    "                            min_weight_fraction_leaf=0.0, n_estimators=200, n_jobs=None,\n",
    "                            oob_score=True, random_state=101, verbose=0, warm_start=False)"
   ]
  },
  {
   "cell_type": "code",
   "execution_count": 39,
   "metadata": {},
   "outputs": [
    {
     "name": "stdout",
     "output_type": "stream",
     "text": [
      "RandomForest Accuracy: 0.8465553235908142\n"
     ]
    }
   ],
   "source": [
    "rf1.fit(X_train,y_train)\n",
    "y_pred = rf1.predict(X_test)\n",
    "print(\"RandomForest Accuracy:\",accuracy_score(y_test, y_pred))"
   ]
  },
  {
   "cell_type": "code",
   "execution_count": 40,
   "metadata": {},
   "outputs": [
    {
     "data": {
      "text/plain": [
       "0.838162359697207"
      ]
     },
     "execution_count": 40,
     "metadata": {},
     "output_type": "execute_result"
    }
   ],
   "source": [
    "rf1.oob_score_"
   ]
  },
  {
   "cell_type": "code",
   "execution_count": 41,
   "metadata": {},
   "outputs": [],
   "source": [
    "FI = rf1.feature_importances_"
   ]
  },
  {
   "cell_type": "code",
   "execution_count": 42,
   "metadata": {},
   "outputs": [
    {
     "data": {
      "text/plain": [
       "array([0.07097821, 0.00861289, 0.0053644 , 0.00945318, 0.0041964 ,\n",
       "       0.00555532, 0.00273178, 0.03272634, 0.11955092, 0.10158486,\n",
       "       0.08780292, 0.07304338, 0.09101804, 0.08812812, 0.08800779,\n",
       "       0.09732716, 0.09525968, 0.00993244, 0.00872619])"
      ]
     },
     "execution_count": 42,
     "metadata": {},
     "output_type": "execute_result"
    }
   ],
   "source": [
    "FI"
   ]
  },
  {
   "cell_type": "code",
   "execution_count": 43,
   "metadata": {},
   "outputs": [
    {
     "data": {
      "text/plain": [
       "[(0.11955091945517711, 'int.rate'),\n",
       " (0.10158485969390921, 'installment'),\n",
       " (0.09732715977400413, 'revol.util'),\n",
       " (0.09525967622364867, 'inq.last.6mths'),\n",
       " (0.09101803789563567, 'fico'),\n",
       " (0.08812811939787592, 'days.with.cr.line'),\n",
       " (0.0880077918675052, 'revol.bal'),\n",
       " (0.08780291839021943, 'log.annual.inc'),\n",
       " (0.07304337731104658, 'dti'),\n",
       " (0.07097821237190456, 'credit.policy'),\n",
       " (0.03272633636595737, 'purpose_small_business'),\n",
       " (0.009932435783639582, 'delinq.2yrs'),\n",
       " (0.00945317667390575, 'purpose_debt_consolidation'),\n",
       " (0.008726193110468421, 'pub.rec'),\n",
       " (0.008612887511500666, 'purpose_all_other'),\n",
       " (0.005555320985297026, 'purpose_home_improvement'),\n",
       " (0.0053643964544972085, 'purpose_credit_card'),\n",
       " (0.004196396634815846, 'purpose_educational'),\n",
       " (0.0027317840989916054, 'purpose_major_purchase')]"
      ]
     },
     "execution_count": 43,
     "metadata": {},
     "output_type": "execute_result"
    }
   ],
   "source": [
    "sorted(list(zip(FI, X_train.columns)), reverse=True)"
   ]
  },
  {
   "cell_type": "code",
   "execution_count": 44,
   "metadata": {},
   "outputs": [],
   "source": [
    "from sklearn.metrics import accuracy_score, classification_report, confusion_matrix,roc_auc_score, roc_curve"
   ]
  },
  {
   "cell_type": "code",
   "execution_count": null,
   "metadata": {},
   "outputs": [],
   "source": [
    "#Confusion matrix & Classification Report"
   ]
  },
  {
   "cell_type": "code",
   "execution_count": 46,
   "metadata": {},
   "outputs": [
    {
     "name": "stdout",
     "output_type": "stream",
     "text": [
      "[[1622    1]\n",
      " [ 293    0]]\n",
      "              precision    recall  f1-score   support\n",
      "\n",
      "           0       0.85      1.00      0.92      1623\n",
      "           1       0.00      0.00      0.00       293\n",
      "\n",
      "    accuracy                           0.85      1916\n",
      "   macro avg       0.42      0.50      0.46      1916\n",
      "weighted avg       0.72      0.85      0.78      1916\n",
      "\n"
     ]
    }
   ],
   "source": [
    "print(confusion_matrix(y_test, y_pred))\n",
    "print(classification_report(y_test, y_pred))"
   ]
  },
  {
   "cell_type": "code",
   "execution_count": null,
   "metadata": {},
   "outputs": [],
   "source": []
  },
  {
   "cell_type": "code",
   "execution_count": null,
   "metadata": {},
   "outputs": [],
   "source": []
  },
  {
   "cell_type": "code",
   "execution_count": null,
   "metadata": {},
   "outputs": [],
   "source": []
  },
  {
   "cell_type": "code",
   "execution_count": null,
   "metadata": {},
   "outputs": [],
   "source": []
  },
  {
   "cell_type": "code",
   "execution_count": null,
   "metadata": {},
   "outputs": [],
   "source": []
  },
  {
   "cell_type": "code",
   "execution_count": null,
   "metadata": {},
   "outputs": [],
   "source": []
  },
  {
   "cell_type": "code",
   "execution_count": null,
   "metadata": {},
   "outputs": [],
   "source": []
  },
  {
   "cell_type": "code",
   "execution_count": null,
   "metadata": {},
   "outputs": [],
   "source": []
  },
  {
   "cell_type": "code",
   "execution_count": null,
   "metadata": {},
   "outputs": [],
   "source": []
  },
  {
   "cell_type": "code",
   "execution_count": null,
   "metadata": {},
   "outputs": [],
   "source": []
  },
  {
   "cell_type": "code",
   "execution_count": null,
   "metadata": {},
   "outputs": [],
   "source": []
  }
 ],
 "metadata": {
  "kernelspec": {
   "display_name": "Python 3",
   "language": "python",
   "name": "python3"
  },
  "language_info": {
   "codemirror_mode": {
    "name": "ipython",
    "version": 3
   },
   "file_extension": ".py",
   "mimetype": "text/x-python",
   "name": "python",
   "nbconvert_exporter": "python",
   "pygments_lexer": "ipython3",
   "version": "3.7.6"
  }
 },
 "nbformat": 4,
 "nbformat_minor": 4
}
