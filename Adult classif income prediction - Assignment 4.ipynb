{
 "cells": [
  {
   "cell_type": "code",
   "execution_count": 1,
   "metadata": {},
   "outputs": [],
   "source": [
    "import pandas as pd\n",
    "import numpy as np\n",
    "import matplotlib.pyplot as plt\n",
    "%matplotlib inline\n",
    "from sklearn.preprocessing import StandardScaler\n",
    "from sklearn.linear_model import LogisticRegression\n",
    "from sklearn.tree import DecisionTreeClassifier\n",
    "from sklearn.model_selection import train_test_split\n",
    "from sklearn.metrics import accuracy_score\n",
    "from sklearn.preprocessing import PolynomialFeatures\n",
    "import warnings\n",
    "warnings.filterwarnings(\"ignore\")\n",
    "np.random.seed(42)"
   ]
  },
  {
   "cell_type": "code",
   "execution_count": 2,
   "metadata": {},
   "outputs": [],
   "source": [
    "df = pd.read_csv(\"adult.csv\")"
   ]
  },
  {
   "cell_type": "code",
   "execution_count": 3,
   "metadata": {
    "scrolled": true
   },
   "outputs": [
    {
     "data": {
      "text/html": [
       "<div>\n",
       "<style scoped>\n",
       "    .dataframe tbody tr th:only-of-type {\n",
       "        vertical-align: middle;\n",
       "    }\n",
       "\n",
       "    .dataframe tbody tr th {\n",
       "        vertical-align: top;\n",
       "    }\n",
       "\n",
       "    .dataframe thead th {\n",
       "        text-align: right;\n",
       "    }\n",
       "</style>\n",
       "<table border=\"1\" class=\"dataframe\">\n",
       "  <thead>\n",
       "    <tr style=\"text-align: right;\">\n",
       "      <th></th>\n",
       "      <th>age</th>\n",
       "      <th>workclass</th>\n",
       "      <th>fnlwgt</th>\n",
       "      <th>education</th>\n",
       "      <th>education_num</th>\n",
       "      <th>marital_status</th>\n",
       "      <th>occupation</th>\n",
       "      <th>relationship</th>\n",
       "      <th>race</th>\n",
       "      <th>sex</th>\n",
       "      <th>capital_gain</th>\n",
       "      <th>capital_loss</th>\n",
       "      <th>hours_per_week</th>\n",
       "      <th>native_country</th>\n",
       "      <th>income</th>\n",
       "    </tr>\n",
       "  </thead>\n",
       "  <tbody>\n",
       "    <tr>\n",
       "      <th>0</th>\n",
       "      <td>39</td>\n",
       "      <td>State-gov</td>\n",
       "      <td>77516</td>\n",
       "      <td>Bachelors</td>\n",
       "      <td>13</td>\n",
       "      <td>Never-married</td>\n",
       "      <td>Adm-clerical</td>\n",
       "      <td>Not-in-family</td>\n",
       "      <td>White</td>\n",
       "      <td>Male</td>\n",
       "      <td>2174</td>\n",
       "      <td>0</td>\n",
       "      <td>40</td>\n",
       "      <td>United-States</td>\n",
       "      <td>&lt;=50K</td>\n",
       "    </tr>\n",
       "    <tr>\n",
       "      <th>1</th>\n",
       "      <td>50</td>\n",
       "      <td>Self-emp-not-inc</td>\n",
       "      <td>83311</td>\n",
       "      <td>Bachelors</td>\n",
       "      <td>13</td>\n",
       "      <td>Married-civ-spouse</td>\n",
       "      <td>Exec-managerial</td>\n",
       "      <td>Husband</td>\n",
       "      <td>White</td>\n",
       "      <td>Male</td>\n",
       "      <td>0</td>\n",
       "      <td>0</td>\n",
       "      <td>13</td>\n",
       "      <td>United-States</td>\n",
       "      <td>&lt;=50K</td>\n",
       "    </tr>\n",
       "    <tr>\n",
       "      <th>2</th>\n",
       "      <td>38</td>\n",
       "      <td>Private</td>\n",
       "      <td>215646</td>\n",
       "      <td>HS-grad</td>\n",
       "      <td>9</td>\n",
       "      <td>Divorced</td>\n",
       "      <td>Handlers-cleaners</td>\n",
       "      <td>Not-in-family</td>\n",
       "      <td>White</td>\n",
       "      <td>Male</td>\n",
       "      <td>0</td>\n",
       "      <td>0</td>\n",
       "      <td>40</td>\n",
       "      <td>United-States</td>\n",
       "      <td>&lt;=50K</td>\n",
       "    </tr>\n",
       "    <tr>\n",
       "      <th>3</th>\n",
       "      <td>53</td>\n",
       "      <td>Private</td>\n",
       "      <td>234721</td>\n",
       "      <td>11th</td>\n",
       "      <td>7</td>\n",
       "      <td>Married-civ-spouse</td>\n",
       "      <td>Handlers-cleaners</td>\n",
       "      <td>Husband</td>\n",
       "      <td>Black</td>\n",
       "      <td>#NAME?</td>\n",
       "      <td>0</td>\n",
       "      <td>0</td>\n",
       "      <td>40</td>\n",
       "      <td>United-States</td>\n",
       "      <td>&lt;=50K</td>\n",
       "    </tr>\n",
       "    <tr>\n",
       "      <th>4</th>\n",
       "      <td>28</td>\n",
       "      <td>Private</td>\n",
       "      <td>338409</td>\n",
       "      <td>Bachelors</td>\n",
       "      <td>13</td>\n",
       "      <td>Married-civ-spouse</td>\n",
       "      <td>Prof-specialty</td>\n",
       "      <td>Wife</td>\n",
       "      <td>Black</td>\n",
       "      <td>Female</td>\n",
       "      <td>0</td>\n",
       "      <td>0</td>\n",
       "      <td>40</td>\n",
       "      <td>Cuba</td>\n",
       "      <td>&lt;=50K</td>\n",
       "    </tr>\n",
       "    <tr>\n",
       "      <th>...</th>\n",
       "      <td>...</td>\n",
       "      <td>...</td>\n",
       "      <td>...</td>\n",
       "      <td>...</td>\n",
       "      <td>...</td>\n",
       "      <td>...</td>\n",
       "      <td>...</td>\n",
       "      <td>...</td>\n",
       "      <td>...</td>\n",
       "      <td>...</td>\n",
       "      <td>...</td>\n",
       "      <td>...</td>\n",
       "      <td>...</td>\n",
       "      <td>...</td>\n",
       "      <td>...</td>\n",
       "    </tr>\n",
       "    <tr>\n",
       "      <th>4995</th>\n",
       "      <td>43</td>\n",
       "      <td>Private</td>\n",
       "      <td>222971</td>\n",
       "      <td>5th-6th</td>\n",
       "      <td>3</td>\n",
       "      <td>Never-married</td>\n",
       "      <td>Machine-op-inspct</td>\n",
       "      <td>Unmarried</td>\n",
       "      <td>White</td>\n",
       "      <td>Female</td>\n",
       "      <td>0</td>\n",
       "      <td>0</td>\n",
       "      <td>40</td>\n",
       "      <td>Mexico</td>\n",
       "      <td>&lt;=50K</td>\n",
       "    </tr>\n",
       "    <tr>\n",
       "      <th>4996</th>\n",
       "      <td>31</td>\n",
       "      <td>Private</td>\n",
       "      <td>259425</td>\n",
       "      <td>HS-grad</td>\n",
       "      <td>9</td>\n",
       "      <td>Married-civ-spouse</td>\n",
       "      <td>Craft-repair</td>\n",
       "      <td>Husband</td>\n",
       "      <td>White</td>\n",
       "      <td>Male</td>\n",
       "      <td>0</td>\n",
       "      <td>0</td>\n",
       "      <td>40</td>\n",
       "      <td>United-States</td>\n",
       "      <td>&gt;50K</td>\n",
       "    </tr>\n",
       "    <tr>\n",
       "      <th>4997</th>\n",
       "      <td>47</td>\n",
       "      <td>Self-emp-inc</td>\n",
       "      <td>212120</td>\n",
       "      <td>HS-grad</td>\n",
       "      <td>9</td>\n",
       "      <td>Married-civ-spouse</td>\n",
       "      <td>Craft-repair</td>\n",
       "      <td>Husband</td>\n",
       "      <td>White</td>\n",
       "      <td>Male</td>\n",
       "      <td>0</td>\n",
       "      <td>0</td>\n",
       "      <td>40</td>\n",
       "      <td>United-States</td>\n",
       "      <td>&gt;50K</td>\n",
       "    </tr>\n",
       "    <tr>\n",
       "      <th>4998</th>\n",
       "      <td>#NAME?</td>\n",
       "      <td>Private</td>\n",
       "      <td>245880</td>\n",
       "      <td>HS-grad</td>\n",
       "      <td>9</td>\n",
       "      <td>Never-married</td>\n",
       "      <td>Adm-clerical</td>\n",
       "      <td>Not-in-family</td>\n",
       "      <td>White</td>\n",
       "      <td>Male</td>\n",
       "      <td>0</td>\n",
       "      <td>0</td>\n",
       "      <td>60</td>\n",
       "      <td>United-States</td>\n",
       "      <td>&lt;=50K</td>\n",
       "    </tr>\n",
       "    <tr>\n",
       "      <th>4999</th>\n",
       "      <td>58</td>\n",
       "      <td>Local-gov</td>\n",
       "      <td>54947</td>\n",
       "      <td>Some-college</td>\n",
       "      <td>10</td>\n",
       "      <td>Never-married</td>\n",
       "      <td>Prof-specialty</td>\n",
       "      <td>Not-in-family</td>\n",
       "      <td>White</td>\n",
       "      <td>Female</td>\n",
       "      <td>0</td>\n",
       "      <td>0</td>\n",
       "      <td>55</td>\n",
       "      <td>United-States</td>\n",
       "      <td>&lt;=50K</td>\n",
       "    </tr>\n",
       "  </tbody>\n",
       "</table>\n",
       "<p>5000 rows × 15 columns</p>\n",
       "</div>"
      ],
      "text/plain": [
       "         age         workclass  fnlwgt     education education_num  \\\n",
       "0         39         State-gov   77516     Bachelors            13   \n",
       "1         50  Self-emp-not-inc   83311     Bachelors            13   \n",
       "2         38           Private  215646       HS-grad             9   \n",
       "3         53           Private  234721          11th             7   \n",
       "4         28           Private  338409     Bachelors            13   \n",
       "...      ...               ...     ...           ...           ...   \n",
       "4995      43           Private  222971       5th-6th             3   \n",
       "4996      31           Private  259425       HS-grad             9   \n",
       "4997      47      Self-emp-inc  212120       HS-grad             9   \n",
       "4998  #NAME?           Private  245880       HS-grad             9   \n",
       "4999      58         Local-gov   54947  Some-college            10   \n",
       "\n",
       "          marital_status         occupation   relationship   race     sex  \\\n",
       "0          Never-married       Adm-clerical  Not-in-family  White    Male   \n",
       "1     Married-civ-spouse    Exec-managerial        Husband  White    Male   \n",
       "2               Divorced  Handlers-cleaners  Not-in-family  White    Male   \n",
       "3     Married-civ-spouse  Handlers-cleaners        Husband  Black  #NAME?   \n",
       "4     Married-civ-spouse     Prof-specialty           Wife  Black  Female   \n",
       "...                  ...                ...            ...    ...     ...   \n",
       "4995       Never-married  Machine-op-inspct      Unmarried  White  Female   \n",
       "4996  Married-civ-spouse       Craft-repair        Husband  White    Male   \n",
       "4997  Married-civ-spouse       Craft-repair        Husband  White    Male   \n",
       "4998       Never-married       Adm-clerical  Not-in-family  White    Male   \n",
       "4999       Never-married     Prof-specialty  Not-in-family  White  Female   \n",
       "\n",
       "      capital_gain  capital_loss  hours_per_week native_country income  \n",
       "0             2174             0              40  United-States  <=50K  \n",
       "1                0             0              13  United-States  <=50K  \n",
       "2                0             0              40  United-States  <=50K  \n",
       "3                0             0              40  United-States  <=50K  \n",
       "4                0             0              40           Cuba  <=50K  \n",
       "...            ...           ...             ...            ...    ...  \n",
       "4995             0             0              40         Mexico  <=50K  \n",
       "4996             0             0              40  United-States   >50K  \n",
       "4997             0             0              40  United-States   >50K  \n",
       "4998             0             0              60  United-States  <=50K  \n",
       "4999             0             0              55  United-States  <=50K  \n",
       "\n",
       "[5000 rows x 15 columns]"
      ]
     },
     "execution_count": 3,
     "metadata": {},
     "output_type": "execute_result"
    }
   ],
   "source": [
    "df"
   ]
  },
  {
   "cell_type": "code",
   "execution_count": 4,
   "metadata": {},
   "outputs": [
    {
     "data": {
      "text/plain": [
       "Index(['age', 'workclass', 'fnlwgt', 'education', 'education_num',\n",
       "       'marital_status', 'occupation', 'relationship', 'race', 'sex',\n",
       "       'capital_gain', 'capital_loss', 'hours_per_week', 'native_country',\n",
       "       'income'],\n",
       "      dtype='object')"
      ]
     },
     "execution_count": 4,
     "metadata": {},
     "output_type": "execute_result"
    }
   ],
   "source": [
    "df.columns"
   ]
  },
  {
   "cell_type": "code",
   "execution_count": 5,
   "metadata": {
    "scrolled": false
   },
   "outputs": [
    {
     "name": "stdout",
     "output_type": "stream",
     "text": [
      "<class 'pandas.core.frame.DataFrame'>\n",
      "RangeIndex: 5000 entries, 0 to 4999\n",
      "Data columns (total 15 columns):\n",
      " #   Column          Non-Null Count  Dtype \n",
      "---  ------          --------------  ----- \n",
      " 0   age             5000 non-null   object\n",
      " 1   workclass       5000 non-null   object\n",
      " 2   fnlwgt          5000 non-null   object\n",
      " 3   education       5000 non-null   object\n",
      " 4   education_num   5000 non-null   object\n",
      " 5   marital_status  5000 non-null   object\n",
      " 6   occupation      5000 non-null   object\n",
      " 7   relationship    5000 non-null   object\n",
      " 8   race            5000 non-null   object\n",
      " 9   sex             5000 non-null   object\n",
      " 10  capital_gain    5000 non-null   int64 \n",
      " 11  capital_loss    5000 non-null   int64 \n",
      " 12  hours_per_week  5000 non-null   int64 \n",
      " 13  native_country  5000 non-null   object\n",
      " 14  income          5000 non-null   object\n",
      "dtypes: int64(3), object(12)\n",
      "memory usage: 586.1+ KB\n"
     ]
    }
   ],
   "source": [
    "df.info()"
   ]
  },
  {
   "cell_type": "code",
   "execution_count": null,
   "metadata": {},
   "outputs": [],
   "source": []
  },
  {
   "cell_type": "code",
   "execution_count": 6,
   "metadata": {
    "scrolled": true
   },
   "outputs": [
    {
     "data": {
      "text/plain": [
       "age               0\n",
       "workclass         0\n",
       "fnlwgt            0\n",
       "education         0\n",
       "education_num     0\n",
       "marital_status    0\n",
       "occupation        0\n",
       "relationship      0\n",
       "race              0\n",
       "sex               0\n",
       "capital_gain      0\n",
       "capital_loss      0\n",
       "hours_per_week    0\n",
       "native_country    0\n",
       "income            0\n",
       "dtype: int64"
      ]
     },
     "execution_count": 6,
     "metadata": {},
     "output_type": "execute_result"
    }
   ],
   "source": [
    "df.isna().sum()"
   ]
  },
  {
   "cell_type": "code",
   "execution_count": 7,
   "metadata": {
    "scrolled": true
   },
   "outputs": [
    {
     "data": {
      "text/html": [
       "<div>\n",
       "<style scoped>\n",
       "    .dataframe tbody tr th:only-of-type {\n",
       "        vertical-align: middle;\n",
       "    }\n",
       "\n",
       "    .dataframe tbody tr th {\n",
       "        vertical-align: top;\n",
       "    }\n",
       "\n",
       "    .dataframe thead th {\n",
       "        text-align: right;\n",
       "    }\n",
       "</style>\n",
       "<table border=\"1\" class=\"dataframe\">\n",
       "  <thead>\n",
       "    <tr style=\"text-align: right;\">\n",
       "      <th></th>\n",
       "      <th>capital_gain</th>\n",
       "      <th>capital_loss</th>\n",
       "      <th>hours_per_week</th>\n",
       "    </tr>\n",
       "  </thead>\n",
       "  <tbody>\n",
       "    <tr>\n",
       "      <th>count</th>\n",
       "      <td>5000.000000</td>\n",
       "      <td>5000.000000</td>\n",
       "      <td>5000.000000</td>\n",
       "    </tr>\n",
       "    <tr>\n",
       "      <th>mean</th>\n",
       "      <td>1033.640200</td>\n",
       "      <td>93.696800</td>\n",
       "      <td>40.519000</td>\n",
       "    </tr>\n",
       "    <tr>\n",
       "      <th>std</th>\n",
       "      <td>7051.802077</td>\n",
       "      <td>410.801418</td>\n",
       "      <td>12.109193</td>\n",
       "    </tr>\n",
       "    <tr>\n",
       "      <th>min</th>\n",
       "      <td>0.000000</td>\n",
       "      <td>0.000000</td>\n",
       "      <td>1.000000</td>\n",
       "    </tr>\n",
       "    <tr>\n",
       "      <th>25%</th>\n",
       "      <td>0.000000</td>\n",
       "      <td>0.000000</td>\n",
       "      <td>40.000000</td>\n",
       "    </tr>\n",
       "    <tr>\n",
       "      <th>50%</th>\n",
       "      <td>0.000000</td>\n",
       "      <td>0.000000</td>\n",
       "      <td>40.000000</td>\n",
       "    </tr>\n",
       "    <tr>\n",
       "      <th>75%</th>\n",
       "      <td>0.000000</td>\n",
       "      <td>0.000000</td>\n",
       "      <td>45.000000</td>\n",
       "    </tr>\n",
       "    <tr>\n",
       "      <th>max</th>\n",
       "      <td>99999.000000</td>\n",
       "      <td>2547.000000</td>\n",
       "      <td>99.000000</td>\n",
       "    </tr>\n",
       "  </tbody>\n",
       "</table>\n",
       "</div>"
      ],
      "text/plain": [
       "       capital_gain  capital_loss  hours_per_week\n",
       "count   5000.000000   5000.000000     5000.000000\n",
       "mean    1033.640200     93.696800       40.519000\n",
       "std     7051.802077    410.801418       12.109193\n",
       "min        0.000000      0.000000        1.000000\n",
       "25%        0.000000      0.000000       40.000000\n",
       "50%        0.000000      0.000000       40.000000\n",
       "75%        0.000000      0.000000       45.000000\n",
       "max    99999.000000   2547.000000       99.000000"
      ]
     },
     "execution_count": 7,
     "metadata": {},
     "output_type": "execute_result"
    }
   ],
   "source": [
    "df.describe()"
   ]
  },
  {
   "cell_type": "code",
   "execution_count": 8,
   "metadata": {},
   "outputs": [],
   "source": [
    "df1 = df.drop([\"relationship\",\"native_country\",\"race\",\"marital_status\"],axis=1)"
   ]
  },
  {
   "cell_type": "code",
   "execution_count": 9,
   "metadata": {
    "scrolled": true
   },
   "outputs": [
    {
     "data": {
      "text/html": [
       "<div>\n",
       "<style scoped>\n",
       "    .dataframe tbody tr th:only-of-type {\n",
       "        vertical-align: middle;\n",
       "    }\n",
       "\n",
       "    .dataframe tbody tr th {\n",
       "        vertical-align: top;\n",
       "    }\n",
       "\n",
       "    .dataframe thead th {\n",
       "        text-align: right;\n",
       "    }\n",
       "</style>\n",
       "<table border=\"1\" class=\"dataframe\">\n",
       "  <thead>\n",
       "    <tr style=\"text-align: right;\">\n",
       "      <th></th>\n",
       "      <th>age</th>\n",
       "      <th>workclass</th>\n",
       "      <th>fnlwgt</th>\n",
       "      <th>education</th>\n",
       "      <th>education_num</th>\n",
       "      <th>occupation</th>\n",
       "      <th>sex</th>\n",
       "      <th>capital_gain</th>\n",
       "      <th>capital_loss</th>\n",
       "      <th>hours_per_week</th>\n",
       "      <th>income</th>\n",
       "    </tr>\n",
       "  </thead>\n",
       "  <tbody>\n",
       "    <tr>\n",
       "      <th>0</th>\n",
       "      <td>39</td>\n",
       "      <td>State-gov</td>\n",
       "      <td>77516</td>\n",
       "      <td>Bachelors</td>\n",
       "      <td>13</td>\n",
       "      <td>Adm-clerical</td>\n",
       "      <td>Male</td>\n",
       "      <td>2174</td>\n",
       "      <td>0</td>\n",
       "      <td>40</td>\n",
       "      <td>&lt;=50K</td>\n",
       "    </tr>\n",
       "    <tr>\n",
       "      <th>1</th>\n",
       "      <td>50</td>\n",
       "      <td>Self-emp-not-inc</td>\n",
       "      <td>83311</td>\n",
       "      <td>Bachelors</td>\n",
       "      <td>13</td>\n",
       "      <td>Exec-managerial</td>\n",
       "      <td>Male</td>\n",
       "      <td>0</td>\n",
       "      <td>0</td>\n",
       "      <td>13</td>\n",
       "      <td>&lt;=50K</td>\n",
       "    </tr>\n",
       "    <tr>\n",
       "      <th>2</th>\n",
       "      <td>38</td>\n",
       "      <td>Private</td>\n",
       "      <td>215646</td>\n",
       "      <td>HS-grad</td>\n",
       "      <td>9</td>\n",
       "      <td>Handlers-cleaners</td>\n",
       "      <td>Male</td>\n",
       "      <td>0</td>\n",
       "      <td>0</td>\n",
       "      <td>40</td>\n",
       "      <td>&lt;=50K</td>\n",
       "    </tr>\n",
       "    <tr>\n",
       "      <th>3</th>\n",
       "      <td>53</td>\n",
       "      <td>Private</td>\n",
       "      <td>234721</td>\n",
       "      <td>11th</td>\n",
       "      <td>7</td>\n",
       "      <td>Handlers-cleaners</td>\n",
       "      <td>#NAME?</td>\n",
       "      <td>0</td>\n",
       "      <td>0</td>\n",
       "      <td>40</td>\n",
       "      <td>&lt;=50K</td>\n",
       "    </tr>\n",
       "    <tr>\n",
       "      <th>4</th>\n",
       "      <td>28</td>\n",
       "      <td>Private</td>\n",
       "      <td>338409</td>\n",
       "      <td>Bachelors</td>\n",
       "      <td>13</td>\n",
       "      <td>Prof-specialty</td>\n",
       "      <td>Female</td>\n",
       "      <td>0</td>\n",
       "      <td>0</td>\n",
       "      <td>40</td>\n",
       "      <td>&lt;=50K</td>\n",
       "    </tr>\n",
       "    <tr>\n",
       "      <th>...</th>\n",
       "      <td>...</td>\n",
       "      <td>...</td>\n",
       "      <td>...</td>\n",
       "      <td>...</td>\n",
       "      <td>...</td>\n",
       "      <td>...</td>\n",
       "      <td>...</td>\n",
       "      <td>...</td>\n",
       "      <td>...</td>\n",
       "      <td>...</td>\n",
       "      <td>...</td>\n",
       "    </tr>\n",
       "    <tr>\n",
       "      <th>4995</th>\n",
       "      <td>43</td>\n",
       "      <td>Private</td>\n",
       "      <td>222971</td>\n",
       "      <td>5th-6th</td>\n",
       "      <td>3</td>\n",
       "      <td>Machine-op-inspct</td>\n",
       "      <td>Female</td>\n",
       "      <td>0</td>\n",
       "      <td>0</td>\n",
       "      <td>40</td>\n",
       "      <td>&lt;=50K</td>\n",
       "    </tr>\n",
       "    <tr>\n",
       "      <th>4996</th>\n",
       "      <td>31</td>\n",
       "      <td>Private</td>\n",
       "      <td>259425</td>\n",
       "      <td>HS-grad</td>\n",
       "      <td>9</td>\n",
       "      <td>Craft-repair</td>\n",
       "      <td>Male</td>\n",
       "      <td>0</td>\n",
       "      <td>0</td>\n",
       "      <td>40</td>\n",
       "      <td>&gt;50K</td>\n",
       "    </tr>\n",
       "    <tr>\n",
       "      <th>4997</th>\n",
       "      <td>47</td>\n",
       "      <td>Self-emp-inc</td>\n",
       "      <td>212120</td>\n",
       "      <td>HS-grad</td>\n",
       "      <td>9</td>\n",
       "      <td>Craft-repair</td>\n",
       "      <td>Male</td>\n",
       "      <td>0</td>\n",
       "      <td>0</td>\n",
       "      <td>40</td>\n",
       "      <td>&gt;50K</td>\n",
       "    </tr>\n",
       "    <tr>\n",
       "      <th>4998</th>\n",
       "      <td>#NAME?</td>\n",
       "      <td>Private</td>\n",
       "      <td>245880</td>\n",
       "      <td>HS-grad</td>\n",
       "      <td>9</td>\n",
       "      <td>Adm-clerical</td>\n",
       "      <td>Male</td>\n",
       "      <td>0</td>\n",
       "      <td>0</td>\n",
       "      <td>60</td>\n",
       "      <td>&lt;=50K</td>\n",
       "    </tr>\n",
       "    <tr>\n",
       "      <th>4999</th>\n",
       "      <td>58</td>\n",
       "      <td>Local-gov</td>\n",
       "      <td>54947</td>\n",
       "      <td>Some-college</td>\n",
       "      <td>10</td>\n",
       "      <td>Prof-specialty</td>\n",
       "      <td>Female</td>\n",
       "      <td>0</td>\n",
       "      <td>0</td>\n",
       "      <td>55</td>\n",
       "      <td>&lt;=50K</td>\n",
       "    </tr>\n",
       "  </tbody>\n",
       "</table>\n",
       "<p>5000 rows × 11 columns</p>\n",
       "</div>"
      ],
      "text/plain": [
       "         age         workclass  fnlwgt     education education_num  \\\n",
       "0         39         State-gov   77516     Bachelors            13   \n",
       "1         50  Self-emp-not-inc   83311     Bachelors            13   \n",
       "2         38           Private  215646       HS-grad             9   \n",
       "3         53           Private  234721          11th             7   \n",
       "4         28           Private  338409     Bachelors            13   \n",
       "...      ...               ...     ...           ...           ...   \n",
       "4995      43           Private  222971       5th-6th             3   \n",
       "4996      31           Private  259425       HS-grad             9   \n",
       "4997      47      Self-emp-inc  212120       HS-grad             9   \n",
       "4998  #NAME?           Private  245880       HS-grad             9   \n",
       "4999      58         Local-gov   54947  Some-college            10   \n",
       "\n",
       "             occupation     sex  capital_gain  capital_loss  hours_per_week  \\\n",
       "0          Adm-clerical    Male          2174             0              40   \n",
       "1       Exec-managerial    Male             0             0              13   \n",
       "2     Handlers-cleaners    Male             0             0              40   \n",
       "3     Handlers-cleaners  #NAME?             0             0              40   \n",
       "4        Prof-specialty  Female             0             0              40   \n",
       "...                 ...     ...           ...           ...             ...   \n",
       "4995  Machine-op-inspct  Female             0             0              40   \n",
       "4996       Craft-repair    Male             0             0              40   \n",
       "4997       Craft-repair    Male             0             0              40   \n",
       "4998       Adm-clerical    Male             0             0              60   \n",
       "4999     Prof-specialty  Female             0             0              55   \n",
       "\n",
       "     income  \n",
       "0     <=50K  \n",
       "1     <=50K  \n",
       "2     <=50K  \n",
       "3     <=50K  \n",
       "4     <=50K  \n",
       "...     ...  \n",
       "4995  <=50K  \n",
       "4996   >50K  \n",
       "4997   >50K  \n",
       "4998  <=50K  \n",
       "4999  <=50K  \n",
       "\n",
       "[5000 rows x 11 columns]"
      ]
     },
     "execution_count": 9,
     "metadata": {},
     "output_type": "execute_result"
    }
   ],
   "source": [
    "df1"
   ]
  },
  {
   "cell_type": "code",
   "execution_count": 10,
   "metadata": {
    "scrolled": true
   },
   "outputs": [
    {
     "data": {
      "text/html": [
       "<div>\n",
       "<style scoped>\n",
       "    .dataframe tbody tr th:only-of-type {\n",
       "        vertical-align: middle;\n",
       "    }\n",
       "\n",
       "    .dataframe tbody tr th {\n",
       "        vertical-align: top;\n",
       "    }\n",
       "\n",
       "    .dataframe thead th {\n",
       "        text-align: right;\n",
       "    }\n",
       "</style>\n",
       "<table border=\"1\" class=\"dataframe\">\n",
       "  <thead>\n",
       "    <tr style=\"text-align: right;\">\n",
       "      <th></th>\n",
       "      <th>capital_gain</th>\n",
       "      <th>capital_loss</th>\n",
       "      <th>hours_per_week</th>\n",
       "    </tr>\n",
       "  </thead>\n",
       "  <tbody>\n",
       "    <tr>\n",
       "      <th>count</th>\n",
       "      <td>5000.000000</td>\n",
       "      <td>5000.000000</td>\n",
       "      <td>5000.000000</td>\n",
       "    </tr>\n",
       "    <tr>\n",
       "      <th>mean</th>\n",
       "      <td>1033.640200</td>\n",
       "      <td>93.696800</td>\n",
       "      <td>40.519000</td>\n",
       "    </tr>\n",
       "    <tr>\n",
       "      <th>std</th>\n",
       "      <td>7051.802077</td>\n",
       "      <td>410.801418</td>\n",
       "      <td>12.109193</td>\n",
       "    </tr>\n",
       "    <tr>\n",
       "      <th>min</th>\n",
       "      <td>0.000000</td>\n",
       "      <td>0.000000</td>\n",
       "      <td>1.000000</td>\n",
       "    </tr>\n",
       "    <tr>\n",
       "      <th>25%</th>\n",
       "      <td>0.000000</td>\n",
       "      <td>0.000000</td>\n",
       "      <td>40.000000</td>\n",
       "    </tr>\n",
       "    <tr>\n",
       "      <th>50%</th>\n",
       "      <td>0.000000</td>\n",
       "      <td>0.000000</td>\n",
       "      <td>40.000000</td>\n",
       "    </tr>\n",
       "    <tr>\n",
       "      <th>75%</th>\n",
       "      <td>0.000000</td>\n",
       "      <td>0.000000</td>\n",
       "      <td>45.000000</td>\n",
       "    </tr>\n",
       "    <tr>\n",
       "      <th>max</th>\n",
       "      <td>99999.000000</td>\n",
       "      <td>2547.000000</td>\n",
       "      <td>99.000000</td>\n",
       "    </tr>\n",
       "  </tbody>\n",
       "</table>\n",
       "</div>"
      ],
      "text/plain": [
       "       capital_gain  capital_loss  hours_per_week\n",
       "count   5000.000000   5000.000000     5000.000000\n",
       "mean    1033.640200     93.696800       40.519000\n",
       "std     7051.802077    410.801418       12.109193\n",
       "min        0.000000      0.000000        1.000000\n",
       "25%        0.000000      0.000000       40.000000\n",
       "50%        0.000000      0.000000       40.000000\n",
       "75%        0.000000      0.000000       45.000000\n",
       "max    99999.000000   2547.000000       99.000000"
      ]
     },
     "execution_count": 10,
     "metadata": {},
     "output_type": "execute_result"
    }
   ],
   "source": [
    "df1.describe()"
   ]
  },
  {
   "cell_type": "code",
   "execution_count": null,
   "metadata": {},
   "outputs": [],
   "source": [
    "#Converting age and fnlwgt columns to float to fill mean values in Null value places"
   ]
  },
  {
   "cell_type": "code",
   "execution_count": 11,
   "metadata": {},
   "outputs": [],
   "source": [
    "df1[\"age\"] = df1[\"age\"].replace({\"#NAME?\":np.nan})"
   ]
  },
  {
   "cell_type": "code",
   "execution_count": 12,
   "metadata": {
    "scrolled": true
   },
   "outputs": [],
   "source": [
    "df1[\"age\"] = df1[[\"age\"]].astype(np.float)"
   ]
  },
  {
   "cell_type": "code",
   "execution_count": 13,
   "metadata": {},
   "outputs": [],
   "source": [
    "df1[\"age\"]=df1.groupby(\"workclass\")[\"age\"].transform(lambda x:x.fillna(x.mean()))"
   ]
  },
  {
   "cell_type": "code",
   "execution_count": 14,
   "metadata": {},
   "outputs": [
    {
     "data": {
      "text/plain": [
       "#NAME?    107\n",
       "123983      5\n",
       "163003      4\n",
       "155343      4\n",
       "111567      4\n",
       "         ... \n",
       "36425       1\n",
       "379066      1\n",
       "217826      1\n",
       "51170       1\n",
       "80145       1\n",
       "Name: fnlwgt, Length: 4507, dtype: int64"
      ]
     },
     "execution_count": 14,
     "metadata": {},
     "output_type": "execute_result"
    }
   ],
   "source": [
    "df1[\"fnlwgt\"].value_counts()"
   ]
  },
  {
   "cell_type": "code",
   "execution_count": 15,
   "metadata": {},
   "outputs": [],
   "source": [
    "df1[\"fnlwgt\"] = df1[\"fnlwgt\"].replace({\"#NAME?\":np.nan})"
   ]
  },
  {
   "cell_type": "code",
   "execution_count": 16,
   "metadata": {},
   "outputs": [],
   "source": [
    "df1[\"fnlwgt\"] = df1[\"fnlwgt\"].astype(np.float)"
   ]
  },
  {
   "cell_type": "code",
   "execution_count": 17,
   "metadata": {},
   "outputs": [],
   "source": [
    "df1[\"fnlwgt\"]=df1.groupby(\"age\")[\"fnlwgt\"].transform(lambda x:x.fillna(x.mean()))"
   ]
  },
  {
   "cell_type": "code",
   "execution_count": 18,
   "metadata": {
    "scrolled": true
   },
   "outputs": [
    {
     "data": {
      "text/plain": [
       "Male      3332\n",
       "Female    1621\n",
       "#NAME?      47\n",
       "Name: sex, dtype: int64"
      ]
     },
     "execution_count": 18,
     "metadata": {},
     "output_type": "execute_result"
    }
   ],
   "source": [
    "df1[\"sex\"].value_counts()"
   ]
  },
  {
   "cell_type": "code",
   "execution_count": null,
   "metadata": {},
   "outputs": [],
   "source": [
    "#Filling other in null places as it is category type columns"
   ]
  },
  {
   "cell_type": "code",
   "execution_count": 19,
   "metadata": {},
   "outputs": [],
   "source": [
    "df1[\"sex\"] = df1[\"sex\"].replace({\"#NAME?\":\"other\"})"
   ]
  },
  {
   "cell_type": "code",
   "execution_count": 20,
   "metadata": {},
   "outputs": [
    {
     "data": {
      "text/plain": [
       "Male      3332\n",
       "Female    1621\n",
       "other       47\n",
       "Name: sex, dtype: int64"
      ]
     },
     "execution_count": 20,
     "metadata": {},
     "output_type": "execute_result"
    }
   ],
   "source": [
    "df1[\"sex\"].value_counts()"
   ]
  },
  {
   "cell_type": "code",
   "execution_count": 21,
   "metadata": {},
   "outputs": [
    {
     "data": {
      "text/plain": [
       "Male      3332\n",
       "Female    1621\n",
       "other       47\n",
       "Name: sex, dtype: int64"
      ]
     },
     "execution_count": 21,
     "metadata": {},
     "output_type": "execute_result"
    }
   ],
   "source": [
    "df1[\"sex\"].value_counts()"
   ]
  },
  {
   "cell_type": "code",
   "execution_count": 22,
   "metadata": {},
   "outputs": [],
   "source": [
    "df1[\"workclass\"] = df1[\"workclass\"].replace({\"?\":[\"Other\"]})"
   ]
  },
  {
   "cell_type": "code",
   "execution_count": 23,
   "metadata": {},
   "outputs": [
    {
     "data": {
      "text/plain": [
       "Private             3435\n",
       "Self-emp-not-inc     383\n",
       "Other                331\n",
       "Local-gov            329\n",
       "State-gov            193\n",
       "Self-emp-inc         182\n",
       "Federal-gov          146\n",
       "Without-pay            1\n",
       "Name: workclass, dtype: int64"
      ]
     },
     "execution_count": 23,
     "metadata": {},
     "output_type": "execute_result"
    }
   ],
   "source": [
    "df1[\"workclass\"].value_counts()"
   ]
  },
  {
   "cell_type": "code",
   "execution_count": 24,
   "metadata": {},
   "outputs": [
    {
     "data": {
      "text/plain": [
       "HS-grad         1597\n",
       "Some-college    1114\n",
       "Bachelors        819\n",
       "Masters          251\n",
       "Assoc-voc        215\n",
       "11th             198\n",
       "Assoc-acdm       163\n",
       "10th             144\n",
       "7th-8th           98\n",
       "Prof-school       88\n",
       "9th               74\n",
       "?                 57\n",
       "12th              55\n",
       "Doctorate         55\n",
       "5th-6th           43\n",
       "1st-4th           22\n",
       "Preschool          7\n",
       "Name: education, dtype: int64"
      ]
     },
     "execution_count": 24,
     "metadata": {},
     "output_type": "execute_result"
    }
   ],
   "source": [
    "df1[\"education\"].value_counts()"
   ]
  },
  {
   "cell_type": "code",
   "execution_count": 25,
   "metadata": {},
   "outputs": [],
   "source": [
    "df1[\"education\"] = df1[\"education\"].replace({\"?\":[\"Other\"]})"
   ]
  },
  {
   "cell_type": "code",
   "execution_count": 26,
   "metadata": {
    "scrolled": true
   },
   "outputs": [
    {
     "data": {
      "text/plain": [
       "Prof-specialty       625\n",
       "Craft-repair         619\n",
       "Exec-managerial      618\n",
       "Sales                588\n",
       "Adm-clerical         576\n",
       "Other-service        495\n",
       "?                    331\n",
       "Machine-op-inspct    312\n",
       "Transport-moving     247\n",
       "Handlers-cleaners    196\n",
       "Farming-fishing      143\n",
       "Tech-support         140\n",
       "Protective-serv       90\n",
       "Priv-house-serv       18\n",
       "Armed-Forces           2\n",
       "Name: occupation, dtype: int64"
      ]
     },
     "execution_count": 26,
     "metadata": {},
     "output_type": "execute_result"
    }
   ],
   "source": [
    "df1[\"occupation\"].value_counts()"
   ]
  },
  {
   "cell_type": "code",
   "execution_count": 27,
   "metadata": {},
   "outputs": [],
   "source": [
    "df1[\"occupation\"] = df1[\"occupation\"].replace({\"?\":[\"Other\"]})"
   ]
  },
  {
   "cell_type": "code",
   "execution_count": 28,
   "metadata": {},
   "outputs": [
    {
     "data": {
      "text/plain": [
       "9         1597\n",
       "10        1114\n",
       "13         819\n",
       "14         251\n",
       "11         215\n",
       "7          198\n",
       "12         163\n",
       "6          144\n",
       "4           98\n",
       "15          88\n",
       "5           74\n",
       "#NAME?      57\n",
       "16          55\n",
       "8           55\n",
       "3           43\n",
       "2           22\n",
       "1            7\n",
       "Name: education_num, dtype: int64"
      ]
     },
     "execution_count": 28,
     "metadata": {},
     "output_type": "execute_result"
    }
   ],
   "source": [
    "df1[\"education_num\"].value_counts()"
   ]
  },
  {
   "cell_type": "code",
   "execution_count": 29,
   "metadata": {},
   "outputs": [],
   "source": [
    "df1[\"education_num\"] = df1[\"education_num\"].replace({\"#NAME?\":np.nan})"
   ]
  },
  {
   "cell_type": "code",
   "execution_count": 30,
   "metadata": {},
   "outputs": [],
   "source": [
    "df1[\"education_num\"] = df1[\"education_num\"].fillna(0)"
   ]
  },
  {
   "cell_type": "code",
   "execution_count": 31,
   "metadata": {
    "scrolled": true
   },
   "outputs": [
    {
     "name": "stdout",
     "output_type": "stream",
     "text": [
      "<class 'pandas.core.frame.DataFrame'>\n",
      "RangeIndex: 5000 entries, 0 to 4999\n",
      "Data columns (total 11 columns):\n",
      " #   Column          Non-Null Count  Dtype  \n",
      "---  ------          --------------  -----  \n",
      " 0   age             5000 non-null   float64\n",
      " 1   workclass       5000 non-null   object \n",
      " 2   fnlwgt          5000 non-null   float64\n",
      " 3   education       5000 non-null   object \n",
      " 4   education_num   5000 non-null   object \n",
      " 5   occupation      5000 non-null   object \n",
      " 6   sex             5000 non-null   object \n",
      " 7   capital_gain    5000 non-null   int64  \n",
      " 8   capital_loss    5000 non-null   int64  \n",
      " 9   hours_per_week  5000 non-null   int64  \n",
      " 10  income          5000 non-null   object \n",
      "dtypes: float64(2), int64(3), object(6)\n",
      "memory usage: 429.8+ KB\n"
     ]
    }
   ],
   "source": [
    "df1.info()"
   ]
  },
  {
   "cell_type": "code",
   "execution_count": 32,
   "metadata": {},
   "outputs": [
    {
     "data": {
      "text/plain": [
       "age               0\n",
       "workclass         0\n",
       "fnlwgt            0\n",
       "education         0\n",
       "education_num     0\n",
       "occupation        0\n",
       "sex               0\n",
       "capital_gain      0\n",
       "capital_loss      0\n",
       "hours_per_week    0\n",
       "income            0\n",
       "dtype: int64"
      ]
     },
     "execution_count": 32,
     "metadata": {},
     "output_type": "execute_result"
    }
   ],
   "source": [
    "df1.isna().sum()"
   ]
  },
  {
   "cell_type": "code",
   "execution_count": 33,
   "metadata": {
    "scrolled": false
   },
   "outputs": [
    {
     "name": "stdout",
     "output_type": "stream",
     "text": [
      "<class 'pandas.core.frame.DataFrame'>\n",
      "RangeIndex: 5000 entries, 0 to 4999\n",
      "Data columns (total 11 columns):\n",
      " #   Column          Non-Null Count  Dtype  \n",
      "---  ------          --------------  -----  \n",
      " 0   age             5000 non-null   float64\n",
      " 1   workclass       5000 non-null   object \n",
      " 2   fnlwgt          5000 non-null   float64\n",
      " 3   education       5000 non-null   object \n",
      " 4   education_num   5000 non-null   object \n",
      " 5   occupation      5000 non-null   object \n",
      " 6   sex             5000 non-null   object \n",
      " 7   capital_gain    5000 non-null   int64  \n",
      " 8   capital_loss    5000 non-null   int64  \n",
      " 9   hours_per_week  5000 non-null   int64  \n",
      " 10  income          5000 non-null   object \n",
      "dtypes: float64(2), int64(3), object(6)\n",
      "memory usage: 429.8+ KB\n"
     ]
    }
   ],
   "source": [
    "df1.info()"
   ]
  },
  {
   "cell_type": "code",
   "execution_count": 34,
   "metadata": {},
   "outputs": [
    {
     "data": {
      "text/plain": [
       "Index(['age', 'workclass', 'fnlwgt', 'education', 'education_num',\n",
       "       'occupation', 'sex', 'capital_gain', 'capital_loss', 'hours_per_week',\n",
       "       'income'],\n",
       "      dtype='object')"
      ]
     },
     "execution_count": 34,
     "metadata": {},
     "output_type": "execute_result"
    }
   ],
   "source": [
    "df1.columns"
   ]
  },
  {
   "cell_type": "code",
   "execution_count": 35,
   "metadata": {},
   "outputs": [],
   "source": [
    "columns_to_encode = [\"workclass\",\"occupation\",\"education\",\"sex\"]"
   ]
  },
  {
   "cell_type": "code",
   "execution_count": 36,
   "metadata": {},
   "outputs": [],
   "source": [
    "encoded_df = pd.get_dummies(df1[columns_to_encode])"
   ]
  },
  {
   "cell_type": "code",
   "execution_count": 37,
   "metadata": {},
   "outputs": [],
   "source": [
    "modelling_df = pd.concat([df1.drop([\"workclass\",\"occupation\",\"education\",\"sex\"],axis=1),encoded_df],axis=1)"
   ]
  },
  {
   "cell_type": "code",
   "execution_count": 38,
   "metadata": {},
   "outputs": [
    {
     "data": {
      "text/html": [
       "<div>\n",
       "<style scoped>\n",
       "    .dataframe tbody tr th:only-of-type {\n",
       "        vertical-align: middle;\n",
       "    }\n",
       "\n",
       "    .dataframe tbody tr th {\n",
       "        vertical-align: top;\n",
       "    }\n",
       "\n",
       "    .dataframe thead th {\n",
       "        text-align: right;\n",
       "    }\n",
       "</style>\n",
       "<table border=\"1\" class=\"dataframe\">\n",
       "  <thead>\n",
       "    <tr style=\"text-align: right;\">\n",
       "      <th></th>\n",
       "      <th>age</th>\n",
       "      <th>fnlwgt</th>\n",
       "      <th>education_num</th>\n",
       "      <th>capital_gain</th>\n",
       "      <th>capital_loss</th>\n",
       "      <th>hours_per_week</th>\n",
       "      <th>income</th>\n",
       "      <th>workclass_Federal-gov</th>\n",
       "      <th>workclass_Local-gov</th>\n",
       "      <th>workclass_Other</th>\n",
       "      <th>...</th>\n",
       "      <th>education_Doctorate</th>\n",
       "      <th>education_HS-grad</th>\n",
       "      <th>education_Masters</th>\n",
       "      <th>education_Other</th>\n",
       "      <th>education_Preschool</th>\n",
       "      <th>education_Prof-school</th>\n",
       "      <th>education_Some-college</th>\n",
       "      <th>sex_Female</th>\n",
       "      <th>sex_Male</th>\n",
       "      <th>sex_other</th>\n",
       "    </tr>\n",
       "  </thead>\n",
       "  <tbody>\n",
       "    <tr>\n",
       "      <th>0</th>\n",
       "      <td>39.000000</td>\n",
       "      <td>77516.0</td>\n",
       "      <td>13</td>\n",
       "      <td>2174</td>\n",
       "      <td>0</td>\n",
       "      <td>40</td>\n",
       "      <td>&lt;=50K</td>\n",
       "      <td>0</td>\n",
       "      <td>0</td>\n",
       "      <td>0</td>\n",
       "      <td>...</td>\n",
       "      <td>0</td>\n",
       "      <td>0</td>\n",
       "      <td>0</td>\n",
       "      <td>0</td>\n",
       "      <td>0</td>\n",
       "      <td>0</td>\n",
       "      <td>0</td>\n",
       "      <td>0</td>\n",
       "      <td>1</td>\n",
       "      <td>0</td>\n",
       "    </tr>\n",
       "    <tr>\n",
       "      <th>1</th>\n",
       "      <td>50.000000</td>\n",
       "      <td>83311.0</td>\n",
       "      <td>13</td>\n",
       "      <td>0</td>\n",
       "      <td>0</td>\n",
       "      <td>13</td>\n",
       "      <td>&lt;=50K</td>\n",
       "      <td>0</td>\n",
       "      <td>0</td>\n",
       "      <td>0</td>\n",
       "      <td>...</td>\n",
       "      <td>0</td>\n",
       "      <td>0</td>\n",
       "      <td>0</td>\n",
       "      <td>0</td>\n",
       "      <td>0</td>\n",
       "      <td>0</td>\n",
       "      <td>0</td>\n",
       "      <td>0</td>\n",
       "      <td>1</td>\n",
       "      <td>0</td>\n",
       "    </tr>\n",
       "    <tr>\n",
       "      <th>2</th>\n",
       "      <td>38.000000</td>\n",
       "      <td>215646.0</td>\n",
       "      <td>9</td>\n",
       "      <td>0</td>\n",
       "      <td>0</td>\n",
       "      <td>40</td>\n",
       "      <td>&lt;=50K</td>\n",
       "      <td>0</td>\n",
       "      <td>0</td>\n",
       "      <td>0</td>\n",
       "      <td>...</td>\n",
       "      <td>0</td>\n",
       "      <td>1</td>\n",
       "      <td>0</td>\n",
       "      <td>0</td>\n",
       "      <td>0</td>\n",
       "      <td>0</td>\n",
       "      <td>0</td>\n",
       "      <td>0</td>\n",
       "      <td>1</td>\n",
       "      <td>0</td>\n",
       "    </tr>\n",
       "    <tr>\n",
       "      <th>3</th>\n",
       "      <td>53.000000</td>\n",
       "      <td>234721.0</td>\n",
       "      <td>7</td>\n",
       "      <td>0</td>\n",
       "      <td>0</td>\n",
       "      <td>40</td>\n",
       "      <td>&lt;=50K</td>\n",
       "      <td>0</td>\n",
       "      <td>0</td>\n",
       "      <td>0</td>\n",
       "      <td>...</td>\n",
       "      <td>0</td>\n",
       "      <td>0</td>\n",
       "      <td>0</td>\n",
       "      <td>0</td>\n",
       "      <td>0</td>\n",
       "      <td>0</td>\n",
       "      <td>0</td>\n",
       "      <td>0</td>\n",
       "      <td>0</td>\n",
       "      <td>1</td>\n",
       "    </tr>\n",
       "    <tr>\n",
       "      <th>4</th>\n",
       "      <td>28.000000</td>\n",
       "      <td>338409.0</td>\n",
       "      <td>13</td>\n",
       "      <td>0</td>\n",
       "      <td>0</td>\n",
       "      <td>40</td>\n",
       "      <td>&lt;=50K</td>\n",
       "      <td>0</td>\n",
       "      <td>0</td>\n",
       "      <td>0</td>\n",
       "      <td>...</td>\n",
       "      <td>0</td>\n",
       "      <td>0</td>\n",
       "      <td>0</td>\n",
       "      <td>0</td>\n",
       "      <td>0</td>\n",
       "      <td>0</td>\n",
       "      <td>0</td>\n",
       "      <td>1</td>\n",
       "      <td>0</td>\n",
       "      <td>0</td>\n",
       "    </tr>\n",
       "    <tr>\n",
       "      <th>...</th>\n",
       "      <td>...</td>\n",
       "      <td>...</td>\n",
       "      <td>...</td>\n",
       "      <td>...</td>\n",
       "      <td>...</td>\n",
       "      <td>...</td>\n",
       "      <td>...</td>\n",
       "      <td>...</td>\n",
       "      <td>...</td>\n",
       "      <td>...</td>\n",
       "      <td>...</td>\n",
       "      <td>...</td>\n",
       "      <td>...</td>\n",
       "      <td>...</td>\n",
       "      <td>...</td>\n",
       "      <td>...</td>\n",
       "      <td>...</td>\n",
       "      <td>...</td>\n",
       "      <td>...</td>\n",
       "      <td>...</td>\n",
       "      <td>...</td>\n",
       "    </tr>\n",
       "    <tr>\n",
       "      <th>4995</th>\n",
       "      <td>43.000000</td>\n",
       "      <td>222971.0</td>\n",
       "      <td>3</td>\n",
       "      <td>0</td>\n",
       "      <td>0</td>\n",
       "      <td>40</td>\n",
       "      <td>&lt;=50K</td>\n",
       "      <td>0</td>\n",
       "      <td>0</td>\n",
       "      <td>0</td>\n",
       "      <td>...</td>\n",
       "      <td>0</td>\n",
       "      <td>0</td>\n",
       "      <td>0</td>\n",
       "      <td>0</td>\n",
       "      <td>0</td>\n",
       "      <td>0</td>\n",
       "      <td>0</td>\n",
       "      <td>1</td>\n",
       "      <td>0</td>\n",
       "      <td>0</td>\n",
       "    </tr>\n",
       "    <tr>\n",
       "      <th>4996</th>\n",
       "      <td>31.000000</td>\n",
       "      <td>259425.0</td>\n",
       "      <td>9</td>\n",
       "      <td>0</td>\n",
       "      <td>0</td>\n",
       "      <td>40</td>\n",
       "      <td>&gt;50K</td>\n",
       "      <td>0</td>\n",
       "      <td>0</td>\n",
       "      <td>0</td>\n",
       "      <td>...</td>\n",
       "      <td>0</td>\n",
       "      <td>1</td>\n",
       "      <td>0</td>\n",
       "      <td>0</td>\n",
       "      <td>0</td>\n",
       "      <td>0</td>\n",
       "      <td>0</td>\n",
       "      <td>0</td>\n",
       "      <td>1</td>\n",
       "      <td>0</td>\n",
       "    </tr>\n",
       "    <tr>\n",
       "      <th>4997</th>\n",
       "      <td>47.000000</td>\n",
       "      <td>212120.0</td>\n",
       "      <td>9</td>\n",
       "      <td>0</td>\n",
       "      <td>0</td>\n",
       "      <td>40</td>\n",
       "      <td>&gt;50K</td>\n",
       "      <td>0</td>\n",
       "      <td>0</td>\n",
       "      <td>0</td>\n",
       "      <td>...</td>\n",
       "      <td>0</td>\n",
       "      <td>1</td>\n",
       "      <td>0</td>\n",
       "      <td>0</td>\n",
       "      <td>0</td>\n",
       "      <td>0</td>\n",
       "      <td>0</td>\n",
       "      <td>0</td>\n",
       "      <td>1</td>\n",
       "      <td>0</td>\n",
       "    </tr>\n",
       "    <tr>\n",
       "      <th>4998</th>\n",
       "      <td>36.948824</td>\n",
       "      <td>245880.0</td>\n",
       "      <td>9</td>\n",
       "      <td>0</td>\n",
       "      <td>0</td>\n",
       "      <td>60</td>\n",
       "      <td>&lt;=50K</td>\n",
       "      <td>0</td>\n",
       "      <td>0</td>\n",
       "      <td>0</td>\n",
       "      <td>...</td>\n",
       "      <td>0</td>\n",
       "      <td>1</td>\n",
       "      <td>0</td>\n",
       "      <td>0</td>\n",
       "      <td>0</td>\n",
       "      <td>0</td>\n",
       "      <td>0</td>\n",
       "      <td>0</td>\n",
       "      <td>1</td>\n",
       "      <td>0</td>\n",
       "    </tr>\n",
       "    <tr>\n",
       "      <th>4999</th>\n",
       "      <td>58.000000</td>\n",
       "      <td>54947.0</td>\n",
       "      <td>10</td>\n",
       "      <td>0</td>\n",
       "      <td>0</td>\n",
       "      <td>55</td>\n",
       "      <td>&lt;=50K</td>\n",
       "      <td>0</td>\n",
       "      <td>1</td>\n",
       "      <td>0</td>\n",
       "      <td>...</td>\n",
       "      <td>0</td>\n",
       "      <td>0</td>\n",
       "      <td>0</td>\n",
       "      <td>0</td>\n",
       "      <td>0</td>\n",
       "      <td>0</td>\n",
       "      <td>1</td>\n",
       "      <td>1</td>\n",
       "      <td>0</td>\n",
       "      <td>0</td>\n",
       "    </tr>\n",
       "  </tbody>\n",
       "</table>\n",
       "<p>5000 rows × 50 columns</p>\n",
       "</div>"
      ],
      "text/plain": [
       "            age    fnlwgt education_num  capital_gain  capital_loss  \\\n",
       "0     39.000000   77516.0            13          2174             0   \n",
       "1     50.000000   83311.0            13             0             0   \n",
       "2     38.000000  215646.0             9             0             0   \n",
       "3     53.000000  234721.0             7             0             0   \n",
       "4     28.000000  338409.0            13             0             0   \n",
       "...         ...       ...           ...           ...           ...   \n",
       "4995  43.000000  222971.0             3             0             0   \n",
       "4996  31.000000  259425.0             9             0             0   \n",
       "4997  47.000000  212120.0             9             0             0   \n",
       "4998  36.948824  245880.0             9             0             0   \n",
       "4999  58.000000   54947.0            10             0             0   \n",
       "\n",
       "      hours_per_week income  workclass_Federal-gov  workclass_Local-gov  \\\n",
       "0                 40  <=50K                      0                    0   \n",
       "1                 13  <=50K                      0                    0   \n",
       "2                 40  <=50K                      0                    0   \n",
       "3                 40  <=50K                      0                    0   \n",
       "4                 40  <=50K                      0                    0   \n",
       "...              ...    ...                    ...                  ...   \n",
       "4995              40  <=50K                      0                    0   \n",
       "4996              40   >50K                      0                    0   \n",
       "4997              40   >50K                      0                    0   \n",
       "4998              60  <=50K                      0                    0   \n",
       "4999              55  <=50K                      0                    1   \n",
       "\n",
       "      workclass_Other  ...  education_Doctorate  education_HS-grad  \\\n",
       "0                   0  ...                    0                  0   \n",
       "1                   0  ...                    0                  0   \n",
       "2                   0  ...                    0                  1   \n",
       "3                   0  ...                    0                  0   \n",
       "4                   0  ...                    0                  0   \n",
       "...               ...  ...                  ...                ...   \n",
       "4995                0  ...                    0                  0   \n",
       "4996                0  ...                    0                  1   \n",
       "4997                0  ...                    0                  1   \n",
       "4998                0  ...                    0                  1   \n",
       "4999                0  ...                    0                  0   \n",
       "\n",
       "      education_Masters  education_Other  education_Preschool  \\\n",
       "0                     0                0                    0   \n",
       "1                     0                0                    0   \n",
       "2                     0                0                    0   \n",
       "3                     0                0                    0   \n",
       "4                     0                0                    0   \n",
       "...                 ...              ...                  ...   \n",
       "4995                  0                0                    0   \n",
       "4996                  0                0                    0   \n",
       "4997                  0                0                    0   \n",
       "4998                  0                0                    0   \n",
       "4999                  0                0                    0   \n",
       "\n",
       "      education_Prof-school  education_Some-college  sex_Female  sex_Male  \\\n",
       "0                         0                       0           0         1   \n",
       "1                         0                       0           0         1   \n",
       "2                         0                       0           0         1   \n",
       "3                         0                       0           0         0   \n",
       "4                         0                       0           1         0   \n",
       "...                     ...                     ...         ...       ...   \n",
       "4995                      0                       0           1         0   \n",
       "4996                      0                       0           0         1   \n",
       "4997                      0                       0           0         1   \n",
       "4998                      0                       0           0         1   \n",
       "4999                      0                       1           1         0   \n",
       "\n",
       "      sex_other  \n",
       "0             0  \n",
       "1             0  \n",
       "2             0  \n",
       "3             1  \n",
       "4             0  \n",
       "...         ...  \n",
       "4995          0  \n",
       "4996          0  \n",
       "4997          0  \n",
       "4998          0  \n",
       "4999          0  \n",
       "\n",
       "[5000 rows x 50 columns]"
      ]
     },
     "execution_count": 38,
     "metadata": {},
     "output_type": "execute_result"
    }
   ],
   "source": [
    "modelling_df"
   ]
  },
  {
   "cell_type": "code",
   "execution_count": 39,
   "metadata": {},
   "outputs": [],
   "source": [
    "modelling_df[\"age\"] = modelling_df[\"age\"].astype(\"int64\")"
   ]
  },
  {
   "cell_type": "code",
   "execution_count": 40,
   "metadata": {},
   "outputs": [],
   "source": [
    "modelling_df[\"fnlwgt\"] = modelling_df[\"fnlwgt\"].astype(\"int64\")"
   ]
  },
  {
   "cell_type": "code",
   "execution_count": 41,
   "metadata": {
    "scrolled": true
   },
   "outputs": [
    {
     "data": {
      "text/html": [
       "<div>\n",
       "<style scoped>\n",
       "    .dataframe tbody tr th:only-of-type {\n",
       "        vertical-align: middle;\n",
       "    }\n",
       "\n",
       "    .dataframe tbody tr th {\n",
       "        vertical-align: top;\n",
       "    }\n",
       "\n",
       "    .dataframe thead th {\n",
       "        text-align: right;\n",
       "    }\n",
       "</style>\n",
       "<table border=\"1\" class=\"dataframe\">\n",
       "  <thead>\n",
       "    <tr style=\"text-align: right;\">\n",
       "      <th></th>\n",
       "      <th>age</th>\n",
       "      <th>fnlwgt</th>\n",
       "      <th>education_num</th>\n",
       "      <th>capital_gain</th>\n",
       "      <th>capital_loss</th>\n",
       "      <th>hours_per_week</th>\n",
       "      <th>income</th>\n",
       "      <th>workclass_Federal-gov</th>\n",
       "      <th>workclass_Local-gov</th>\n",
       "      <th>workclass_Other</th>\n",
       "      <th>...</th>\n",
       "      <th>education_Doctorate</th>\n",
       "      <th>education_HS-grad</th>\n",
       "      <th>education_Masters</th>\n",
       "      <th>education_Other</th>\n",
       "      <th>education_Preschool</th>\n",
       "      <th>education_Prof-school</th>\n",
       "      <th>education_Some-college</th>\n",
       "      <th>sex_Female</th>\n",
       "      <th>sex_Male</th>\n",
       "      <th>sex_other</th>\n",
       "    </tr>\n",
       "  </thead>\n",
       "  <tbody>\n",
       "    <tr>\n",
       "      <th>0</th>\n",
       "      <td>39</td>\n",
       "      <td>77516</td>\n",
       "      <td>13</td>\n",
       "      <td>2174</td>\n",
       "      <td>0</td>\n",
       "      <td>40</td>\n",
       "      <td>&lt;=50K</td>\n",
       "      <td>0</td>\n",
       "      <td>0</td>\n",
       "      <td>0</td>\n",
       "      <td>...</td>\n",
       "      <td>0</td>\n",
       "      <td>0</td>\n",
       "      <td>0</td>\n",
       "      <td>0</td>\n",
       "      <td>0</td>\n",
       "      <td>0</td>\n",
       "      <td>0</td>\n",
       "      <td>0</td>\n",
       "      <td>1</td>\n",
       "      <td>0</td>\n",
       "    </tr>\n",
       "    <tr>\n",
       "      <th>1</th>\n",
       "      <td>50</td>\n",
       "      <td>83311</td>\n",
       "      <td>13</td>\n",
       "      <td>0</td>\n",
       "      <td>0</td>\n",
       "      <td>13</td>\n",
       "      <td>&lt;=50K</td>\n",
       "      <td>0</td>\n",
       "      <td>0</td>\n",
       "      <td>0</td>\n",
       "      <td>...</td>\n",
       "      <td>0</td>\n",
       "      <td>0</td>\n",
       "      <td>0</td>\n",
       "      <td>0</td>\n",
       "      <td>0</td>\n",
       "      <td>0</td>\n",
       "      <td>0</td>\n",
       "      <td>0</td>\n",
       "      <td>1</td>\n",
       "      <td>0</td>\n",
       "    </tr>\n",
       "    <tr>\n",
       "      <th>2</th>\n",
       "      <td>38</td>\n",
       "      <td>215646</td>\n",
       "      <td>9</td>\n",
       "      <td>0</td>\n",
       "      <td>0</td>\n",
       "      <td>40</td>\n",
       "      <td>&lt;=50K</td>\n",
       "      <td>0</td>\n",
       "      <td>0</td>\n",
       "      <td>0</td>\n",
       "      <td>...</td>\n",
       "      <td>0</td>\n",
       "      <td>1</td>\n",
       "      <td>0</td>\n",
       "      <td>0</td>\n",
       "      <td>0</td>\n",
       "      <td>0</td>\n",
       "      <td>0</td>\n",
       "      <td>0</td>\n",
       "      <td>1</td>\n",
       "      <td>0</td>\n",
       "    </tr>\n",
       "    <tr>\n",
       "      <th>3</th>\n",
       "      <td>53</td>\n",
       "      <td>234721</td>\n",
       "      <td>7</td>\n",
       "      <td>0</td>\n",
       "      <td>0</td>\n",
       "      <td>40</td>\n",
       "      <td>&lt;=50K</td>\n",
       "      <td>0</td>\n",
       "      <td>0</td>\n",
       "      <td>0</td>\n",
       "      <td>...</td>\n",
       "      <td>0</td>\n",
       "      <td>0</td>\n",
       "      <td>0</td>\n",
       "      <td>0</td>\n",
       "      <td>0</td>\n",
       "      <td>0</td>\n",
       "      <td>0</td>\n",
       "      <td>0</td>\n",
       "      <td>0</td>\n",
       "      <td>1</td>\n",
       "    </tr>\n",
       "    <tr>\n",
       "      <th>4</th>\n",
       "      <td>28</td>\n",
       "      <td>338409</td>\n",
       "      <td>13</td>\n",
       "      <td>0</td>\n",
       "      <td>0</td>\n",
       "      <td>40</td>\n",
       "      <td>&lt;=50K</td>\n",
       "      <td>0</td>\n",
       "      <td>0</td>\n",
       "      <td>0</td>\n",
       "      <td>...</td>\n",
       "      <td>0</td>\n",
       "      <td>0</td>\n",
       "      <td>0</td>\n",
       "      <td>0</td>\n",
       "      <td>0</td>\n",
       "      <td>0</td>\n",
       "      <td>0</td>\n",
       "      <td>1</td>\n",
       "      <td>0</td>\n",
       "      <td>0</td>\n",
       "    </tr>\n",
       "    <tr>\n",
       "      <th>...</th>\n",
       "      <td>...</td>\n",
       "      <td>...</td>\n",
       "      <td>...</td>\n",
       "      <td>...</td>\n",
       "      <td>...</td>\n",
       "      <td>...</td>\n",
       "      <td>...</td>\n",
       "      <td>...</td>\n",
       "      <td>...</td>\n",
       "      <td>...</td>\n",
       "      <td>...</td>\n",
       "      <td>...</td>\n",
       "      <td>...</td>\n",
       "      <td>...</td>\n",
       "      <td>...</td>\n",
       "      <td>...</td>\n",
       "      <td>...</td>\n",
       "      <td>...</td>\n",
       "      <td>...</td>\n",
       "      <td>...</td>\n",
       "      <td>...</td>\n",
       "    </tr>\n",
       "    <tr>\n",
       "      <th>4995</th>\n",
       "      <td>43</td>\n",
       "      <td>222971</td>\n",
       "      <td>3</td>\n",
       "      <td>0</td>\n",
       "      <td>0</td>\n",
       "      <td>40</td>\n",
       "      <td>&lt;=50K</td>\n",
       "      <td>0</td>\n",
       "      <td>0</td>\n",
       "      <td>0</td>\n",
       "      <td>...</td>\n",
       "      <td>0</td>\n",
       "      <td>0</td>\n",
       "      <td>0</td>\n",
       "      <td>0</td>\n",
       "      <td>0</td>\n",
       "      <td>0</td>\n",
       "      <td>0</td>\n",
       "      <td>1</td>\n",
       "      <td>0</td>\n",
       "      <td>0</td>\n",
       "    </tr>\n",
       "    <tr>\n",
       "      <th>4996</th>\n",
       "      <td>31</td>\n",
       "      <td>259425</td>\n",
       "      <td>9</td>\n",
       "      <td>0</td>\n",
       "      <td>0</td>\n",
       "      <td>40</td>\n",
       "      <td>&gt;50K</td>\n",
       "      <td>0</td>\n",
       "      <td>0</td>\n",
       "      <td>0</td>\n",
       "      <td>...</td>\n",
       "      <td>0</td>\n",
       "      <td>1</td>\n",
       "      <td>0</td>\n",
       "      <td>0</td>\n",
       "      <td>0</td>\n",
       "      <td>0</td>\n",
       "      <td>0</td>\n",
       "      <td>0</td>\n",
       "      <td>1</td>\n",
       "      <td>0</td>\n",
       "    </tr>\n",
       "    <tr>\n",
       "      <th>4997</th>\n",
       "      <td>47</td>\n",
       "      <td>212120</td>\n",
       "      <td>9</td>\n",
       "      <td>0</td>\n",
       "      <td>0</td>\n",
       "      <td>40</td>\n",
       "      <td>&gt;50K</td>\n",
       "      <td>0</td>\n",
       "      <td>0</td>\n",
       "      <td>0</td>\n",
       "      <td>...</td>\n",
       "      <td>0</td>\n",
       "      <td>1</td>\n",
       "      <td>0</td>\n",
       "      <td>0</td>\n",
       "      <td>0</td>\n",
       "      <td>0</td>\n",
       "      <td>0</td>\n",
       "      <td>0</td>\n",
       "      <td>1</td>\n",
       "      <td>0</td>\n",
       "    </tr>\n",
       "    <tr>\n",
       "      <th>4998</th>\n",
       "      <td>36</td>\n",
       "      <td>245880</td>\n",
       "      <td>9</td>\n",
       "      <td>0</td>\n",
       "      <td>0</td>\n",
       "      <td>60</td>\n",
       "      <td>&lt;=50K</td>\n",
       "      <td>0</td>\n",
       "      <td>0</td>\n",
       "      <td>0</td>\n",
       "      <td>...</td>\n",
       "      <td>0</td>\n",
       "      <td>1</td>\n",
       "      <td>0</td>\n",
       "      <td>0</td>\n",
       "      <td>0</td>\n",
       "      <td>0</td>\n",
       "      <td>0</td>\n",
       "      <td>0</td>\n",
       "      <td>1</td>\n",
       "      <td>0</td>\n",
       "    </tr>\n",
       "    <tr>\n",
       "      <th>4999</th>\n",
       "      <td>58</td>\n",
       "      <td>54947</td>\n",
       "      <td>10</td>\n",
       "      <td>0</td>\n",
       "      <td>0</td>\n",
       "      <td>55</td>\n",
       "      <td>&lt;=50K</td>\n",
       "      <td>0</td>\n",
       "      <td>1</td>\n",
       "      <td>0</td>\n",
       "      <td>...</td>\n",
       "      <td>0</td>\n",
       "      <td>0</td>\n",
       "      <td>0</td>\n",
       "      <td>0</td>\n",
       "      <td>0</td>\n",
       "      <td>0</td>\n",
       "      <td>1</td>\n",
       "      <td>1</td>\n",
       "      <td>0</td>\n",
       "      <td>0</td>\n",
       "    </tr>\n",
       "  </tbody>\n",
       "</table>\n",
       "<p>5000 rows × 50 columns</p>\n",
       "</div>"
      ],
      "text/plain": [
       "      age  fnlwgt education_num  capital_gain  capital_loss  hours_per_week  \\\n",
       "0      39   77516            13          2174             0              40   \n",
       "1      50   83311            13             0             0              13   \n",
       "2      38  215646             9             0             0              40   \n",
       "3      53  234721             7             0             0              40   \n",
       "4      28  338409            13             0             0              40   \n",
       "...   ...     ...           ...           ...           ...             ...   \n",
       "4995   43  222971             3             0             0              40   \n",
       "4996   31  259425             9             0             0              40   \n",
       "4997   47  212120             9             0             0              40   \n",
       "4998   36  245880             9             0             0              60   \n",
       "4999   58   54947            10             0             0              55   \n",
       "\n",
       "     income  workclass_Federal-gov  workclass_Local-gov  workclass_Other  ...  \\\n",
       "0     <=50K                      0                    0                0  ...   \n",
       "1     <=50K                      0                    0                0  ...   \n",
       "2     <=50K                      0                    0                0  ...   \n",
       "3     <=50K                      0                    0                0  ...   \n",
       "4     <=50K                      0                    0                0  ...   \n",
       "...     ...                    ...                  ...              ...  ...   \n",
       "4995  <=50K                      0                    0                0  ...   \n",
       "4996   >50K                      0                    0                0  ...   \n",
       "4997   >50K                      0                    0                0  ...   \n",
       "4998  <=50K                      0                    0                0  ...   \n",
       "4999  <=50K                      0                    1                0  ...   \n",
       "\n",
       "      education_Doctorate  education_HS-grad  education_Masters  \\\n",
       "0                       0                  0                  0   \n",
       "1                       0                  0                  0   \n",
       "2                       0                  1                  0   \n",
       "3                       0                  0                  0   \n",
       "4                       0                  0                  0   \n",
       "...                   ...                ...                ...   \n",
       "4995                    0                  0                  0   \n",
       "4996                    0                  1                  0   \n",
       "4997                    0                  1                  0   \n",
       "4998                    0                  1                  0   \n",
       "4999                    0                  0                  0   \n",
       "\n",
       "      education_Other  education_Preschool  education_Prof-school  \\\n",
       "0                   0                    0                      0   \n",
       "1                   0                    0                      0   \n",
       "2                   0                    0                      0   \n",
       "3                   0                    0                      0   \n",
       "4                   0                    0                      0   \n",
       "...               ...                  ...                    ...   \n",
       "4995                0                    0                      0   \n",
       "4996                0                    0                      0   \n",
       "4997                0                    0                      0   \n",
       "4998                0                    0                      0   \n",
       "4999                0                    0                      0   \n",
       "\n",
       "      education_Some-college  sex_Female  sex_Male  sex_other  \n",
       "0                          0           0         1          0  \n",
       "1                          0           0         1          0  \n",
       "2                          0           0         1          0  \n",
       "3                          0           0         0          1  \n",
       "4                          0           1         0          0  \n",
       "...                      ...         ...       ...        ...  \n",
       "4995                       0           1         0          0  \n",
       "4996                       0           0         1          0  \n",
       "4997                       0           0         1          0  \n",
       "4998                       0           0         1          0  \n",
       "4999                       1           1         0          0  \n",
       "\n",
       "[5000 rows x 50 columns]"
      ]
     },
     "execution_count": 41,
     "metadata": {},
     "output_type": "execute_result"
    }
   ],
   "source": [
    "modelling_df"
   ]
  },
  {
   "cell_type": "code",
   "execution_count": 42,
   "metadata": {},
   "outputs": [],
   "source": [
    "#Logistic Regression"
   ]
  },
  {
   "cell_type": "code",
   "execution_count": 43,
   "metadata": {},
   "outputs": [
    {
     "data": {
      "text/plain": [
       "(5000, 50)"
      ]
     },
     "execution_count": 43,
     "metadata": {},
     "output_type": "execute_result"
    }
   ],
   "source": [
    "modelling_df.shape"
   ]
  },
  {
   "cell_type": "code",
   "execution_count": 44,
   "metadata": {},
   "outputs": [],
   "source": [
    "dfL = modelling_df[:4000]\n",
    "validationL = modelling_df[4000:]"
   ]
  },
  {
   "cell_type": "code",
   "execution_count": 45,
   "metadata": {},
   "outputs": [],
   "source": [
    "X = dfL.drop(\"income\",axis=1)\n",
    "Y = dfL[\"income\"]"
   ]
  },
  {
   "cell_type": "code",
   "execution_count": 46,
   "metadata": {},
   "outputs": [],
   "source": [
    "from sklearn.model_selection import train_test_split"
   ]
  },
  {
   "cell_type": "code",
   "execution_count": 47,
   "metadata": {},
   "outputs": [],
   "source": [
    "X_train, X_test, Y_train, Y_test = train_test_split(\n",
    "     X, Y, test_size=0.2, random_state=101)"
   ]
  },
  {
   "cell_type": "code",
   "execution_count": 48,
   "metadata": {},
   "outputs": [],
   "source": [
    "from sklearn.linear_model import LinearRegression, LogisticRegression"
   ]
  },
  {
   "cell_type": "code",
   "execution_count": 49,
   "metadata": {},
   "outputs": [],
   "source": [
    "log = LogisticRegression()"
   ]
  },
  {
   "cell_type": "code",
   "execution_count": 50,
   "metadata": {},
   "outputs": [],
   "source": [
    "log.fit(X_train,Y_train)\n",
    "predict = log.predict(X_test)"
   ]
  },
  {
   "cell_type": "code",
   "execution_count": 51,
   "metadata": {},
   "outputs": [],
   "source": [
    "from sklearn.metrics import accuracy_score, classification_report, confusion_matrix,roc_auc_score"
   ]
  },
  {
   "cell_type": "code",
   "execution_count": 52,
   "metadata": {},
   "outputs": [
    {
     "name": "stdout",
     "output_type": "stream",
     "text": [
      "0.78125\n",
      "[[573  20]\n",
      " [155  52]]\n",
      "              precision    recall  f1-score   support\n",
      "\n",
      "       <=50K       0.79      0.97      0.87       593\n",
      "        >50K       0.72      0.25      0.37       207\n",
      "\n",
      "    accuracy                           0.78       800\n",
      "   macro avg       0.75      0.61      0.62       800\n",
      "weighted avg       0.77      0.78      0.74       800\n",
      "\n"
     ]
    }
   ],
   "source": [
    "print(accuracy_score(Y_test,predict))\n",
    "print(confusion_matrix(Y_test,predict))\n",
    "print(classification_report(Y_test,predict))"
   ]
  },
  {
   "cell_type": "code",
   "execution_count": 53,
   "metadata": {},
   "outputs": [
    {
     "data": {
      "text/plain": [
       "<=50K    3779\n",
       ">50K     1221\n",
       "Name: income, dtype: int64"
      ]
     },
     "execution_count": 53,
     "metadata": {},
     "output_type": "execute_result"
    }
   ],
   "source": [
    "modelling_df[\"income\"].value_counts()"
   ]
  },
  {
   "cell_type": "code",
   "execution_count": 54,
   "metadata": {},
   "outputs": [],
   "source": [
    "validation_X = validationL.drop(\"income\",axis=1)\n",
    "validation_Y = validationL[\"income\"]"
   ]
  },
  {
   "cell_type": "code",
   "execution_count": 55,
   "metadata": {},
   "outputs": [],
   "source": [
    "predict_valid = log.predict(validation_X)"
   ]
  },
  {
   "cell_type": "code",
   "execution_count": 56,
   "metadata": {},
   "outputs": [
    {
     "name": "stdout",
     "output_type": "stream",
     "text": [
      "0.809\n",
      "[[740  23]\n",
      " [168  69]]\n",
      "              precision    recall  f1-score   support\n",
      "\n",
      "       <=50K       0.81      0.97      0.89       763\n",
      "        >50K       0.75      0.29      0.42       237\n",
      "\n",
      "    accuracy                           0.81      1000\n",
      "   macro avg       0.78      0.63      0.65      1000\n",
      "weighted avg       0.80      0.81      0.78      1000\n",
      "\n"
     ]
    }
   ],
   "source": [
    "print(accuracy_score(validation_Y,predict_valid))\n",
    "print(confusion_matrix(validation_Y,predict_valid))\n",
    "print(classification_report(validation_Y,predict_valid))"
   ]
  },
  {
   "cell_type": "code",
   "execution_count": 57,
   "metadata": {},
   "outputs": [],
   "source": [
    "#Decision tree and Random forest"
   ]
  },
  {
   "cell_type": "code",
   "execution_count": 58,
   "metadata": {},
   "outputs": [],
   "source": [
    "X1 = modelling_df.drop(\"income\",axis=1)\n",
    "Y1 = modelling_df[\"income\"]"
   ]
  },
  {
   "cell_type": "code",
   "execution_count": 59,
   "metadata": {},
   "outputs": [],
   "source": [
    "X1_train, X1_test, Y1_train, Y1_test = train_test_split(X1, Y1, test_size=0.2, random_state=101)"
   ]
  },
  {
   "cell_type": "code",
   "execution_count": 63,
   "metadata": {},
   "outputs": [],
   "source": [
    "def fit_predict(train, test, Y1_train, Y1_test, scaler, max_depth, \n",
    "                criterion = 'entropy', max_features = 1, min_samples_split = 4):\n",
    "    train_scaled = scaler.fit_transform(train)\n",
    "    test_scaled = scaler.transform(test)        \n",
    "    dt = DecisionTreeClassifier(criterion = criterion, max_depth=max_depth, \n",
    "                                random_state=42, max_features=max_features,\n",
    "                               min_samples_split=min_samples_split)\n",
    "    dt.fit(train_scaled, Y1_train)\n",
    "    Y1_pred = dt.predict(test_scaled)\n",
    "    print(accuracy_score(Y1_test, Y1_pred))"
   ]
  },
  {
   "cell_type": "code",
   "execution_count": 65,
   "metadata": {},
   "outputs": [
    {
     "name": "stdout",
     "output_type": "stream",
     "text": [
      "0.76\n"
     ]
    }
   ],
   "source": [
    "tree = DecisionTreeClassifier()\n",
    "tree.fit(X1_train, Y1_train)\n",
    "Y1_pred = tree.predict(X1_test)\n",
    "print(accuracy_score(Y1_test, Y1_pred))"
   ]
  },
  {
   "cell_type": "code",
   "execution_count": null,
   "metadata": {},
   "outputs": [],
   "source": [
    "#MAX Depth Tuning"
   ]
  },
  {
   "cell_type": "code",
   "execution_count": 66,
   "metadata": {},
   "outputs": [
    {
     "name": "stdout",
     "output_type": "stream",
     "text": [
      "Accuracy using Max Depth = 1: 0.761\n",
      "Accuracy using Max Depth = 2: 0.766\n",
      "Accuracy using Max Depth = 3: 0.764\n",
      "Accuracy using Max Depth = 4: 0.773\n",
      "Accuracy using Max Depth = 5: 0.768\n",
      "Accuracy using Max Depth = 6: 0.769\n",
      "Accuracy using Max Depth = 7: 0.774\n",
      "Accuracy using Max Depth = 8: 0.769\n",
      "Accuracy using Max Depth = 9: 0.771\n",
      "Accuracy using Max Depth = 10: 0.764\n",
      "Accuracy using Max Depth = 11: 0.763\n",
      "Accuracy using Max Depth = 12: 0.763\n",
      "Accuracy using Max Depth = 13: 0.769\n",
      "Accuracy using Max Depth = 14: 0.753\n",
      "Accuracy using Max Depth = 15: 0.764\n",
      "Accuracy using Max Depth = 16: 0.763\n",
      "Accuracy using Max Depth = 17: 0.765\n",
      "Accuracy using Max Depth = 18: 0.769\n",
      "Accuracy using Max Depth = 19: 0.776\n",
      "Accuracy using Max Depth = 20: 0.759\n",
      "Accuracy using Max Depth = 21: 0.748\n",
      "Accuracy using Max Depth = 22: 0.754\n",
      "Accuracy using Max Depth = 23: 0.766\n",
      "Accuracy using Max Depth = 24: 0.749\n",
      "Accuracy using Max Depth = 25: 0.772\n",
      "Accuracy using Max Depth = 26: 0.783\n",
      "Accuracy using Max Depth = 27: 0.761\n",
      "Accuracy using Max Depth = 28: 0.765\n",
      "Accuracy using Max Depth = 29: 0.758\n"
     ]
    }
   ],
   "source": [
    "max_depth = []\n",
    "for i in range(1, 30):\n",
    "    print(\"Accuracy using Max Depth =\", i, end = ': ')\n",
    "    fit_predict(X1_train, X1_test, Y1_train, Y1_test, StandardScaler(), i)\n",
    "\n",
    "#Print(\"Max Depth:\",max(max_depth))"
   ]
  },
  {
   "cell_type": "code",
   "execution_count": null,
   "metadata": {},
   "outputs": [],
   "source": [
    "#MAX Depth here is 26"
   ]
  },
  {
   "cell_type": "code",
   "execution_count": null,
   "metadata": {},
   "outputs": [],
   "source": [
    "#MAX Features split"
   ]
  },
  {
   "cell_type": "code",
   "execution_count": 67,
   "metadata": {},
   "outputs": [
    {
     "name": "stdout",
     "output_type": "stream",
     "text": [
      "Accuracy using Max Feature = 0.1: 0.774\n",
      "Accuracy using Max Feature = 0.2: 0.786\n",
      "Accuracy using Max Feature = 0.30000000000000004: 0.783\n",
      "Accuracy using Max Feature = 0.4: 0.764\n",
      "Accuracy using Max Feature = 0.5: 0.773\n",
      "Accuracy using Max Feature = 0.6: 0.772\n",
      "Accuracy using Max Feature = 0.7000000000000001: 0.768\n",
      "Accuracy using Max Feature = 0.8: 0.756\n",
      "Accuracy using Max Feature = 0.9: 0.763\n"
     ]
    }
   ],
   "source": [
    "for i in np.arange(0.1, 1.0, 0.1):\n",
    "    print(\"Accuracy using Max Feature =\", i, end = ': ')\n",
    "    fit_predict(X1_train, X1_test, Y1_train, Y1_test, StandardScaler(), max_depth = 26, max_features= i)"
   ]
  },
  {
   "cell_type": "code",
   "execution_count": null,
   "metadata": {},
   "outputs": [],
   "source": [
    "#MAX feature here is 0.2"
   ]
  },
  {
   "cell_type": "code",
   "execution_count": null,
   "metadata": {},
   "outputs": [],
   "source": [
    "#MIN Sample spit"
   ]
  },
  {
   "cell_type": "code",
   "execution_count": 68,
   "metadata": {},
   "outputs": [
    {
     "name": "stdout",
     "output_type": "stream",
     "text": [
      "Accuracy using Min Sample Split = 2: 0.78\n",
      "Accuracy using Min Sample Split = 3: 0.756\n",
      "Accuracy using Min Sample Split = 4: 0.783\n",
      "Accuracy using Min Sample Split = 5: 0.759\n",
      "Accuracy using Min Sample Split = 6: 0.758\n",
      "Accuracy using Min Sample Split = 7: 0.732\n",
      "Accuracy using Min Sample Split = 8: 0.783\n",
      "Accuracy using Min Sample Split = 9: 0.774\n"
     ]
    }
   ],
   "source": [
    "for i in range(2, 10):\n",
    "    print(\"Accuracy using Min Sample Split =\", i, end = ': ')\n",
    "    fit_predict(X1_train, X1_test, Y1_train, Y1_test, StandardScaler(), max_depth = 26, min_samples_split= i)"
   ]
  },
  {
   "cell_type": "code",
   "execution_count": null,
   "metadata": {},
   "outputs": [],
   "source": [
    "#Criterion tuning"
   ]
  },
  {
   "cell_type": "code",
   "execution_count": 69,
   "metadata": {},
   "outputs": [
    {
     "name": "stdout",
     "output_type": "stream",
     "text": [
      "Accuracy using Criterion = gini: 0.78\n",
      "Accuracy using Criterion = entropy: 0.783\n"
     ]
    }
   ],
   "source": [
    "for i in ['gini', 'entropy']:\n",
    "    print(\"Accuracy using Criterion =\", i, end = ': ')\n",
    "    fit_predict(X1_train, X1_test, Y1_train, Y1_test, StandardScaler(), max_depth = 26, \n",
    "                criterion = i)"
   ]
  },
  {
   "cell_type": "code",
   "execution_count": null,
   "metadata": {},
   "outputs": [],
   "source": [
    "#Degree of polynomial"
   ]
  },
  {
   "cell_type": "code",
   "execution_count": 70,
   "metadata": {},
   "outputs": [],
   "source": [
    "def create_poly(train, test, degree):\n",
    "    poly = PolynomialFeatures(degree = degree)\n",
    "    train_poly = poly.fit_transform(train)\n",
    "    test_poly = poly.fit_transform(test)\n",
    "    return train_poly, test_poly"
   ]
  },
  {
   "cell_type": "code",
   "execution_count": 73,
   "metadata": {},
   "outputs": [
    {
     "name": "stdout",
     "output_type": "stream",
     "text": [
      "Polynomial Degree: 1\n",
      "0.774\n",
      "----------\n",
      "Polynomial Degree: 2\n",
      "0.76\n",
      "----------\n",
      "Polynomial Degree: 3\n",
      "0.775\n",
      "----------\n"
     ]
    }
   ],
   "source": [
    "for degree in [1, 2, 3]:\n",
    "    train_poly, test_poly = create_poly(X1_train, X1_test, degree)\n",
    "    print('Polynomial Degree:', degree)\n",
    "    fit_predict(train_poly, test_poly, Y1_train, Y1_test, StandardScaler(), max_depth = 26)\n",
    "    print(10*'-')\n",
    "    \n",
    "train_poly, test_poly = create_poly(X1_train, X1_test, 2)"
   ]
  },
  {
   "cell_type": "code",
   "execution_count": 74,
   "metadata": {},
   "outputs": [
    {
     "name": "stdout",
     "output_type": "stream",
     "text": [
      "0.76\n"
     ]
    }
   ],
   "source": [
    "train_poly, test_poly = create_poly(X1_train, X1_test, 2)\n",
    "\n",
    "fit_predict(train_poly, test_poly, Y1_train, Y1_test, StandardScaler(), max_depth = 26)"
   ]
  },
  {
   "cell_type": "code",
   "execution_count": null,
   "metadata": {},
   "outputs": [],
   "source": [
    "#Random forest"
   ]
  },
  {
   "cell_type": "code",
   "execution_count": 75,
   "metadata": {},
   "outputs": [],
   "source": [
    "from sklearn.ensemble import RandomForestClassifier"
   ]
  },
  {
   "cell_type": "code",
   "execution_count": 76,
   "metadata": {},
   "outputs": [
    {
     "name": "stdout",
     "output_type": "stream",
     "text": [
      "RandomForest Accuracy: 0.804\n"
     ]
    }
   ],
   "source": [
    "rf = RandomForestClassifier()\n",
    "rf.fit(X1_train, Y1_train)\n",
    "Y1_pred = rf.predict(X1_test)\n",
    "print(\"RandomForest Accuracy:\",accuracy_score(Y1_test, Y1_pred))"
   ]
  },
  {
   "cell_type": "code",
   "execution_count": 77,
   "metadata": {},
   "outputs": [
    {
     "data": {
      "text/plain": [
       "DecisionTreeClassifier(ccp_alpha=0.0, class_weight=None, criterion='gini',\n",
       "                       max_depth=None, max_features=None, max_leaf_nodes=None,\n",
       "                       min_impurity_decrease=0.0, min_impurity_split=None,\n",
       "                       min_samples_leaf=1, min_samples_split=2,\n",
       "                       min_weight_fraction_leaf=0.0, presort='deprecated',\n",
       "                       random_state=None, splitter='best')"
      ]
     },
     "execution_count": 77,
     "metadata": {},
     "output_type": "execute_result"
    }
   ],
   "source": [
    "rf.base_estimator"
   ]
  },
  {
   "cell_type": "code",
   "execution_count": 78,
   "metadata": {},
   "outputs": [],
   "source": [
    "from sklearn.model_selection import GridSearchCV"
   ]
  },
  {
   "cell_type": "code",
   "execution_count": 79,
   "metadata": {},
   "outputs": [],
   "source": [
    "params = {'n_estimators': [200,500,700], 'max_depth': [6,12,18,20,26], 'min_samples_leaf': [2, 3, 5]}"
   ]
  },
  {
   "cell_type": "code",
   "execution_count": 80,
   "metadata": {},
   "outputs": [],
   "source": [
    "gsv = GridSearchCV(rf, params, verbose = 3)"
   ]
  },
  {
   "cell_type": "code",
   "execution_count": 81,
   "metadata": {},
   "outputs": [
    {
     "name": "stdout",
     "output_type": "stream",
     "text": [
      "Fitting 5 folds for each of 45 candidates, totalling 225 fits\n",
      "[CV] max_depth=6, min_samples_leaf=2, n_estimators=200 ...............\n"
     ]
    },
    {
     "name": "stderr",
     "output_type": "stream",
     "text": [
      "[Parallel(n_jobs=1)]: Using backend SequentialBackend with 1 concurrent workers.\n"
     ]
    },
    {
     "name": "stdout",
     "output_type": "stream",
     "text": [
      "[CV]  max_depth=6, min_samples_leaf=2, n_estimators=200, score=0.843, total=   0.8s\n",
      "[CV] max_depth=6, min_samples_leaf=2, n_estimators=200 ...............\n"
     ]
    },
    {
     "name": "stderr",
     "output_type": "stream",
     "text": [
      "[Parallel(n_jobs=1)]: Done   1 out of   1 | elapsed:    0.7s remaining:    0.0s\n"
     ]
    },
    {
     "name": "stdout",
     "output_type": "stream",
     "text": [
      "[CV]  max_depth=6, min_samples_leaf=2, n_estimators=200, score=0.838, total=   0.7s\n",
      "[CV] max_depth=6, min_samples_leaf=2, n_estimators=200 ...............\n"
     ]
    },
    {
     "name": "stderr",
     "output_type": "stream",
     "text": [
      "[Parallel(n_jobs=1)]: Done   2 out of   2 | elapsed:    1.4s remaining:    0.0s\n"
     ]
    },
    {
     "name": "stdout",
     "output_type": "stream",
     "text": [
      "[CV]  max_depth=6, min_samples_leaf=2, n_estimators=200, score=0.829, total=   0.7s\n",
      "[CV] max_depth=6, min_samples_leaf=2, n_estimators=200 ...............\n",
      "[CV]  max_depth=6, min_samples_leaf=2, n_estimators=200, score=0.839, total=   0.7s\n",
      "[CV] max_depth=6, min_samples_leaf=2, n_estimators=200 ...............\n",
      "[CV]  max_depth=6, min_samples_leaf=2, n_estimators=200, score=0.830, total=   0.7s\n",
      "[CV] max_depth=6, min_samples_leaf=2, n_estimators=500 ...............\n",
      "[CV]  max_depth=6, min_samples_leaf=2, n_estimators=500, score=0.841, total=   1.7s\n",
      "[CV] max_depth=6, min_samples_leaf=2, n_estimators=500 ...............\n",
      "[CV]  max_depth=6, min_samples_leaf=2, n_estimators=500, score=0.835, total=   1.7s\n",
      "[CV] max_depth=6, min_samples_leaf=2, n_estimators=500 ...............\n",
      "[CV]  max_depth=6, min_samples_leaf=2, n_estimators=500, score=0.828, total=   1.9s\n",
      "[CV] max_depth=6, min_samples_leaf=2, n_estimators=500 ...............\n",
      "[CV]  max_depth=6, min_samples_leaf=2, n_estimators=500, score=0.844, total=   1.7s\n",
      "[CV] max_depth=6, min_samples_leaf=2, n_estimators=500 ...............\n",
      "[CV]  max_depth=6, min_samples_leaf=2, n_estimators=500, score=0.830, total=   1.7s\n",
      "[CV] max_depth=6, min_samples_leaf=2, n_estimators=700 ...............\n",
      "[CV]  max_depth=6, min_samples_leaf=2, n_estimators=700, score=0.839, total=   2.4s\n",
      "[CV] max_depth=6, min_samples_leaf=2, n_estimators=700 ...............\n",
      "[CV]  max_depth=6, min_samples_leaf=2, n_estimators=700, score=0.838, total=   2.4s\n",
      "[CV] max_depth=6, min_samples_leaf=2, n_estimators=700 ...............\n",
      "[CV]  max_depth=6, min_samples_leaf=2, n_estimators=700, score=0.828, total=   2.4s\n",
      "[CV] max_depth=6, min_samples_leaf=2, n_estimators=700 ...............\n",
      "[CV]  max_depth=6, min_samples_leaf=2, n_estimators=700, score=0.840, total=   2.4s\n",
      "[CV] max_depth=6, min_samples_leaf=2, n_estimators=700 ...............\n",
      "[CV]  max_depth=6, min_samples_leaf=2, n_estimators=700, score=0.830, total=   2.8s\n",
      "[CV] max_depth=6, min_samples_leaf=3, n_estimators=200 ...............\n",
      "[CV]  max_depth=6, min_samples_leaf=3, n_estimators=200, score=0.840, total=   0.7s\n",
      "[CV] max_depth=6, min_samples_leaf=3, n_estimators=200 ...............\n",
      "[CV]  max_depth=6, min_samples_leaf=3, n_estimators=200, score=0.836, total=   0.7s\n",
      "[CV] max_depth=6, min_samples_leaf=3, n_estimators=200 ...............\n",
      "[CV]  max_depth=6, min_samples_leaf=3, n_estimators=200, score=0.828, total=   0.7s\n",
      "[CV] max_depth=6, min_samples_leaf=3, n_estimators=200 ...............\n",
      "[CV]  max_depth=6, min_samples_leaf=3, n_estimators=200, score=0.836, total=   0.7s\n",
      "[CV] max_depth=6, min_samples_leaf=3, n_estimators=200 ...............\n",
      "[CV]  max_depth=6, min_samples_leaf=3, n_estimators=200, score=0.833, total=   0.7s\n",
      "[CV] max_depth=6, min_samples_leaf=3, n_estimators=500 ...............\n",
      "[CV]  max_depth=6, min_samples_leaf=3, n_estimators=500, score=0.841, total=   1.7s\n",
      "[CV] max_depth=6, min_samples_leaf=3, n_estimators=500 ...............\n",
      "[CV]  max_depth=6, min_samples_leaf=3, n_estimators=500, score=0.836, total=   1.7s\n",
      "[CV] max_depth=6, min_samples_leaf=3, n_estimators=500 ...............\n",
      "[CV]  max_depth=6, min_samples_leaf=3, n_estimators=500, score=0.830, total=   1.7s\n",
      "[CV] max_depth=6, min_samples_leaf=3, n_estimators=500 ...............\n",
      "[CV]  max_depth=6, min_samples_leaf=3, n_estimators=500, score=0.841, total=   1.7s\n",
      "[CV] max_depth=6, min_samples_leaf=3, n_estimators=500 ...............\n",
      "[CV]  max_depth=6, min_samples_leaf=3, n_estimators=500, score=0.831, total=   1.7s\n",
      "[CV] max_depth=6, min_samples_leaf=3, n_estimators=700 ...............\n",
      "[CV]  max_depth=6, min_samples_leaf=3, n_estimators=700, score=0.840, total=   2.4s\n",
      "[CV] max_depth=6, min_samples_leaf=3, n_estimators=700 ...............\n",
      "[CV]  max_depth=6, min_samples_leaf=3, n_estimators=700, score=0.836, total=   2.5s\n",
      "[CV] max_depth=6, min_samples_leaf=3, n_estimators=700 ...............\n",
      "[CV]  max_depth=6, min_samples_leaf=3, n_estimators=700, score=0.828, total=   2.3s\n",
      "[CV] max_depth=6, min_samples_leaf=3, n_estimators=700 ...............\n",
      "[CV]  max_depth=6, min_samples_leaf=3, n_estimators=700, score=0.845, total=   2.3s\n",
      "[CV] max_depth=6, min_samples_leaf=3, n_estimators=700 ...............\n",
      "[CV]  max_depth=6, min_samples_leaf=3, n_estimators=700, score=0.831, total=   2.3s\n",
      "[CV] max_depth=6, min_samples_leaf=5, n_estimators=200 ...............\n",
      "[CV]  max_depth=6, min_samples_leaf=5, n_estimators=200, score=0.839, total=   0.7s\n",
      "[CV] max_depth=6, min_samples_leaf=5, n_estimators=200 ...............\n",
      "[CV]  max_depth=6, min_samples_leaf=5, n_estimators=200, score=0.836, total=   0.7s\n",
      "[CV] max_depth=6, min_samples_leaf=5, n_estimators=200 ...............\n",
      "[CV]  max_depth=6, min_samples_leaf=5, n_estimators=200, score=0.826, total=   0.7s\n",
      "[CV] max_depth=6, min_samples_leaf=5, n_estimators=200 ...............\n",
      "[CV]  max_depth=6, min_samples_leaf=5, n_estimators=200, score=0.843, total=   0.7s\n",
      "[CV] max_depth=6, min_samples_leaf=5, n_estimators=200 ...............\n",
      "[CV]  max_depth=6, min_samples_leaf=5, n_estimators=200, score=0.828, total=   0.7s\n",
      "[CV] max_depth=6, min_samples_leaf=5, n_estimators=500 ...............\n",
      "[CV]  max_depth=6, min_samples_leaf=5, n_estimators=500, score=0.841, total=   1.7s\n",
      "[CV] max_depth=6, min_samples_leaf=5, n_estimators=500 ...............\n",
      "[CV]  max_depth=6, min_samples_leaf=5, n_estimators=500, score=0.834, total=   1.7s\n",
      "[CV] max_depth=6, min_samples_leaf=5, n_estimators=500 ...............\n",
      "[CV]  max_depth=6, min_samples_leaf=5, n_estimators=500, score=0.828, total=   1.9s\n",
      "[CV] max_depth=6, min_samples_leaf=5, n_estimators=500 ...............\n",
      "[CV]  max_depth=6, min_samples_leaf=5, n_estimators=500, score=0.839, total=   1.7s\n",
      "[CV] max_depth=6, min_samples_leaf=5, n_estimators=500 ...............\n",
      "[CV]  max_depth=6, min_samples_leaf=5, n_estimators=500, score=0.834, total=   1.7s\n",
      "[CV] max_depth=6, min_samples_leaf=5, n_estimators=700 ...............\n",
      "[CV]  max_depth=6, min_samples_leaf=5, n_estimators=700, score=0.840, total=   2.3s\n",
      "[CV] max_depth=6, min_samples_leaf=5, n_estimators=700 ...............\n",
      "[CV]  max_depth=6, min_samples_leaf=5, n_estimators=700, score=0.833, total=   2.3s\n",
      "[CV] max_depth=6, min_samples_leaf=5, n_estimators=700 ...............\n",
      "[CV]  max_depth=6, min_samples_leaf=5, n_estimators=700, score=0.829, total=   2.3s\n",
      "[CV] max_depth=6, min_samples_leaf=5, n_estimators=700 ...............\n",
      "[CV]  max_depth=6, min_samples_leaf=5, n_estimators=700, score=0.843, total=   2.3s\n",
      "[CV] max_depth=6, min_samples_leaf=5, n_estimators=700 ...............\n",
      "[CV]  max_depth=6, min_samples_leaf=5, n_estimators=700, score=0.830, total=   2.6s\n",
      "[CV] max_depth=12, min_samples_leaf=2, n_estimators=200 ..............\n",
      "[CV]  max_depth=12, min_samples_leaf=2, n_estimators=200, score=0.845, total=   0.9s\n",
      "[CV] max_depth=12, min_samples_leaf=2, n_estimators=200 ..............\n",
      "[CV]  max_depth=12, min_samples_leaf=2, n_estimators=200, score=0.850, total=   0.9s\n",
      "[CV] max_depth=12, min_samples_leaf=2, n_estimators=200 ..............\n",
      "[CV]  max_depth=12, min_samples_leaf=2, n_estimators=200, score=0.840, total=   0.9s\n",
      "[CV] max_depth=12, min_samples_leaf=2, n_estimators=200 ..............\n",
      "[CV]  max_depth=12, min_samples_leaf=2, n_estimators=200, score=0.840, total=   0.9s\n",
      "[CV] max_depth=12, min_samples_leaf=2, n_estimators=200 ..............\n",
      "[CV]  max_depth=12, min_samples_leaf=2, n_estimators=200, score=0.830, total=   0.9s\n",
      "[CV] max_depth=12, min_samples_leaf=2, n_estimators=500 ..............\n",
      "[CV]  max_depth=12, min_samples_leaf=2, n_estimators=500, score=0.844, total=   2.2s\n",
      "[CV] max_depth=12, min_samples_leaf=2, n_estimators=500 ..............\n",
      "[CV]  max_depth=12, min_samples_leaf=2, n_estimators=500, score=0.844, total=   2.2s\n",
      "[CV] max_depth=12, min_samples_leaf=2, n_estimators=500 ..............\n",
      "[CV]  max_depth=12, min_samples_leaf=2, n_estimators=500, score=0.839, total=   2.2s\n",
      "[CV] max_depth=12, min_samples_leaf=2, n_estimators=500 ..............\n",
      "[CV]  max_depth=12, min_samples_leaf=2, n_estimators=500, score=0.838, total=   2.2s\n",
      "[CV] max_depth=12, min_samples_leaf=2, n_estimators=500 ..............\n",
      "[CV]  max_depth=12, min_samples_leaf=2, n_estimators=500, score=0.833, total=   2.6s\n",
      "[CV] max_depth=12, min_samples_leaf=2, n_estimators=700 ..............\n",
      "[CV]  max_depth=12, min_samples_leaf=2, n_estimators=700, score=0.845, total=   3.1s\n",
      "[CV] max_depth=12, min_samples_leaf=2, n_estimators=700 ..............\n",
      "[CV]  max_depth=12, min_samples_leaf=2, n_estimators=700, score=0.846, total=   3.1s\n",
      "[CV] max_depth=12, min_samples_leaf=2, n_estimators=700 ..............\n",
      "[CV]  max_depth=12, min_samples_leaf=2, n_estimators=700, score=0.838, total=   3.1s\n",
      "[CV] max_depth=12, min_samples_leaf=2, n_estimators=700 ..............\n",
      "[CV]  max_depth=12, min_samples_leaf=2, n_estimators=700, score=0.840, total=   3.1s\n",
      "[CV] max_depth=12, min_samples_leaf=2, n_estimators=700 ..............\n",
      "[CV]  max_depth=12, min_samples_leaf=2, n_estimators=700, score=0.829, total=   3.2s\n",
      "[CV] max_depth=12, min_samples_leaf=3, n_estimators=200 ..............\n",
      "[CV]  max_depth=12, min_samples_leaf=3, n_estimators=200, score=0.848, total=   0.9s\n",
      "[CV] max_depth=12, min_samples_leaf=3, n_estimators=200 ..............\n",
      "[CV]  max_depth=12, min_samples_leaf=3, n_estimators=200, score=0.838, total=   0.9s\n",
      "[CV] max_depth=12, min_samples_leaf=3, n_estimators=200 ..............\n",
      "[CV]  max_depth=12, min_samples_leaf=3, n_estimators=200, score=0.838, total=   0.9s\n",
      "[CV] max_depth=12, min_samples_leaf=3, n_estimators=200 ..............\n",
      "[CV]  max_depth=12, min_samples_leaf=3, n_estimators=200, score=0.839, total=   0.9s\n",
      "[CV] max_depth=12, min_samples_leaf=3, n_estimators=200 ..............\n",
      "[CV]  max_depth=12, min_samples_leaf=3, n_estimators=200, score=0.830, total=   0.9s\n",
      "[CV] max_depth=12, min_samples_leaf=3, n_estimators=500 ..............\n",
      "[CV]  max_depth=12, min_samples_leaf=3, n_estimators=500, score=0.843, total=   2.2s\n",
      "[CV] max_depth=12, min_samples_leaf=3, n_estimators=500 ..............\n",
      "[CV]  max_depth=12, min_samples_leaf=3, n_estimators=500, score=0.841, total=   2.2s\n",
      "[CV] max_depth=12, min_samples_leaf=3, n_estimators=500 ..............\n",
      "[CV]  max_depth=12, min_samples_leaf=3, n_estimators=500, score=0.838, total=   2.2s\n",
      "[CV] max_depth=12, min_samples_leaf=3, n_estimators=500 ..............\n",
      "[CV]  max_depth=12, min_samples_leaf=3, n_estimators=500, score=0.836, total=   2.1s\n",
      "[CV] max_depth=12, min_samples_leaf=3, n_estimators=500 ..............\n",
      "[CV]  max_depth=12, min_samples_leaf=3, n_estimators=500, score=0.830, total=   2.1s\n",
      "[CV] max_depth=12, min_samples_leaf=3, n_estimators=700 ..............\n",
      "[CV]  max_depth=12, min_samples_leaf=3, n_estimators=700, score=0.840, total=   3.2s\n",
      "[CV] max_depth=12, min_samples_leaf=3, n_estimators=700 ..............\n",
      "[CV]  max_depth=12, min_samples_leaf=3, n_estimators=700, score=0.845, total=   3.0s\n",
      "[CV] max_depth=12, min_samples_leaf=3, n_estimators=700 ..............\n",
      "[CV]  max_depth=12, min_samples_leaf=3, n_estimators=700, score=0.838, total=   3.0s\n",
      "[CV] max_depth=12, min_samples_leaf=3, n_estimators=700 ..............\n",
      "[CV]  max_depth=12, min_samples_leaf=3, n_estimators=700, score=0.840, total=   3.0s\n",
      "[CV] max_depth=12, min_samples_leaf=3, n_estimators=700 ..............\n",
      "[CV]  max_depth=12, min_samples_leaf=3, n_estimators=700, score=0.829, total=   3.0s\n",
      "[CV] max_depth=12, min_samples_leaf=5, n_estimators=200 ..............\n",
      "[CV]  max_depth=12, min_samples_leaf=5, n_estimators=200, score=0.848, total=   0.9s\n",
      "[CV] max_depth=12, min_samples_leaf=5, n_estimators=200 ..............\n",
      "[CV]  max_depth=12, min_samples_leaf=5, n_estimators=200, score=0.843, total=   1.0s\n",
      "[CV] max_depth=12, min_samples_leaf=5, n_estimators=200 ..............\n",
      "[CV]  max_depth=12, min_samples_leaf=5, n_estimators=200, score=0.833, total=   0.9s\n",
      "[CV] max_depth=12, min_samples_leaf=5, n_estimators=200 ..............\n",
      "[CV]  max_depth=12, min_samples_leaf=5, n_estimators=200, score=0.836, total=   0.9s\n",
      "[CV] max_depth=12, min_samples_leaf=5, n_estimators=200 ..............\n",
      "[CV]  max_depth=12, min_samples_leaf=5, n_estimators=200, score=0.829, total=   0.9s\n",
      "[CV] max_depth=12, min_samples_leaf=5, n_estimators=500 ..............\n",
      "[CV]  max_depth=12, min_samples_leaf=5, n_estimators=500, score=0.845, total=   2.1s\n",
      "[CV] max_depth=12, min_samples_leaf=5, n_estimators=500 ..............\n",
      "[CV]  max_depth=12, min_samples_leaf=5, n_estimators=500, score=0.843, total=   2.1s\n",
      "[CV] max_depth=12, min_samples_leaf=5, n_estimators=500 ..............\n",
      "[CV]  max_depth=12, min_samples_leaf=5, n_estimators=500, score=0.838, total=   2.1s\n",
      "[CV] max_depth=12, min_samples_leaf=5, n_estimators=500 ..............\n",
      "[CV]  max_depth=12, min_samples_leaf=5, n_estimators=500, score=0.841, total=   2.1s\n",
      "[CV] max_depth=12, min_samples_leaf=5, n_estimators=500 ..............\n",
      "[CV]  max_depth=12, min_samples_leaf=5, n_estimators=500, score=0.829, total=   2.1s\n",
      "[CV] max_depth=12, min_samples_leaf=5, n_estimators=700 ..............\n",
      "[CV]  max_depth=12, min_samples_leaf=5, n_estimators=700, score=0.844, total=   3.1s\n",
      "[CV] max_depth=12, min_samples_leaf=5, n_estimators=700 ..............\n",
      "[CV]  max_depth=12, min_samples_leaf=5, n_estimators=700, score=0.835, total=   2.9s\n",
      "[CV] max_depth=12, min_samples_leaf=5, n_estimators=700 ..............\n",
      "[CV]  max_depth=12, min_samples_leaf=5, n_estimators=700, score=0.839, total=   2.9s\n",
      "[CV] max_depth=12, min_samples_leaf=5, n_estimators=700 ..............\n",
      "[CV]  max_depth=12, min_samples_leaf=5, n_estimators=700, score=0.836, total=   2.9s\n",
      "[CV] max_depth=12, min_samples_leaf=5, n_estimators=700 ..............\n",
      "[CV]  max_depth=12, min_samples_leaf=5, n_estimators=700, score=0.826, total=   2.9s\n",
      "[CV] max_depth=18, min_samples_leaf=2, n_estimators=200 ..............\n",
      "[CV]  max_depth=18, min_samples_leaf=2, n_estimators=200, score=0.839, total=   1.0s\n",
      "[CV] max_depth=18, min_samples_leaf=2, n_estimators=200 ..............\n",
      "[CV]  max_depth=18, min_samples_leaf=2, n_estimators=200, score=0.841, total=   1.0s\n",
      "[CV] max_depth=18, min_samples_leaf=2, n_estimators=200 ..............\n",
      "[CV]  max_depth=18, min_samples_leaf=2, n_estimators=200, score=0.843, total=   1.0s\n",
      "[CV] max_depth=18, min_samples_leaf=2, n_estimators=200 ..............\n",
      "[CV]  max_depth=18, min_samples_leaf=2, n_estimators=200, score=0.833, total=   1.2s\n",
      "[CV] max_depth=18, min_samples_leaf=2, n_estimators=200 ..............\n",
      "[CV]  max_depth=18, min_samples_leaf=2, n_estimators=200, score=0.831, total=   1.0s\n",
      "[CV] max_depth=18, min_samples_leaf=2, n_estimators=500 ..............\n",
      "[CV]  max_depth=18, min_samples_leaf=2, n_estimators=500, score=0.843, total=   2.5s\n",
      "[CV] max_depth=18, min_samples_leaf=2, n_estimators=500 ..............\n",
      "[CV]  max_depth=18, min_samples_leaf=2, n_estimators=500, score=0.845, total=   2.5s\n",
      "[CV] max_depth=18, min_samples_leaf=2, n_estimators=500 ..............\n",
      "[CV]  max_depth=18, min_samples_leaf=2, n_estimators=500, score=0.841, total=   2.5s\n",
      "[CV] max_depth=18, min_samples_leaf=2, n_estimators=500 ..............\n",
      "[CV]  max_depth=18, min_samples_leaf=2, n_estimators=500, score=0.835, total=   2.5s\n",
      "[CV] max_depth=18, min_samples_leaf=2, n_estimators=500 ..............\n",
      "[CV]  max_depth=18, min_samples_leaf=2, n_estimators=500, score=0.834, total=   2.5s\n",
      "[CV] max_depth=18, min_samples_leaf=2, n_estimators=700 ..............\n",
      "[CV]  max_depth=18, min_samples_leaf=2, n_estimators=700, score=0.848, total=   3.8s\n",
      "[CV] max_depth=18, min_samples_leaf=2, n_estimators=700 ..............\n",
      "[CV]  max_depth=18, min_samples_leaf=2, n_estimators=700, score=0.846, total=   3.4s\n",
      "[CV] max_depth=18, min_samples_leaf=2, n_estimators=700 ..............\n",
      "[CV]  max_depth=18, min_samples_leaf=2, n_estimators=700, score=0.841, total=   3.4s\n",
      "[CV] max_depth=18, min_samples_leaf=2, n_estimators=700 ..............\n",
      "[CV]  max_depth=18, min_samples_leaf=2, n_estimators=700, score=0.830, total=   3.4s\n",
      "[CV] max_depth=18, min_samples_leaf=2, n_estimators=700 ..............\n",
      "[CV]  max_depth=18, min_samples_leaf=2, n_estimators=700, score=0.836, total=   3.5s\n",
      "[CV] max_depth=18, min_samples_leaf=3, n_estimators=200 ..............\n",
      "[CV]  max_depth=18, min_samples_leaf=3, n_estimators=200, score=0.844, total=   1.0s\n",
      "[CV] max_depth=18, min_samples_leaf=3, n_estimators=200 ..............\n",
      "[CV]  max_depth=18, min_samples_leaf=3, n_estimators=200, score=0.858, total=   1.0s\n",
      "[CV] max_depth=18, min_samples_leaf=3, n_estimators=200 ..............\n",
      "[CV]  max_depth=18, min_samples_leaf=3, n_estimators=200, score=0.839, total=   1.0s\n",
      "[CV] max_depth=18, min_samples_leaf=3, n_estimators=200 ..............\n",
      "[CV]  max_depth=18, min_samples_leaf=3, n_estimators=200, score=0.836, total=   1.0s\n",
      "[CV] max_depth=18, min_samples_leaf=3, n_estimators=200 ..............\n",
      "[CV]  max_depth=18, min_samples_leaf=3, n_estimators=200, score=0.829, total=   1.0s\n",
      "[CV] max_depth=18, min_samples_leaf=3, n_estimators=500 ..............\n",
      "[CV]  max_depth=18, min_samples_leaf=3, n_estimators=500, score=0.848, total=   2.4s\n",
      "[CV] max_depth=18, min_samples_leaf=3, n_estimators=500 ..............\n",
      "[CV]  max_depth=18, min_samples_leaf=3, n_estimators=500, score=0.844, total=   2.4s\n",
      "[CV] max_depth=18, min_samples_leaf=3, n_estimators=500 ..............\n",
      "[CV]  max_depth=18, min_samples_leaf=3, n_estimators=500, score=0.839, total=   2.3s\n",
      "[CV] max_depth=18, min_samples_leaf=3, n_estimators=500 ..............\n",
      "[CV]  max_depth=18, min_samples_leaf=3, n_estimators=500, score=0.835, total=   2.4s\n",
      "[CV] max_depth=18, min_samples_leaf=3, n_estimators=500 ..............\n",
      "[CV]  max_depth=18, min_samples_leaf=3, n_estimators=500, score=0.834, total=   2.5s\n",
      "[CV] max_depth=18, min_samples_leaf=3, n_estimators=700 ..............\n",
      "[CV]  max_depth=18, min_samples_leaf=3, n_estimators=700, score=0.844, total=   3.3s\n",
      "[CV] max_depth=18, min_samples_leaf=3, n_estimators=700 ..............\n",
      "[CV]  max_depth=18, min_samples_leaf=3, n_estimators=700, score=0.846, total=   3.5s\n",
      "[CV] max_depth=18, min_samples_leaf=3, n_estimators=700 ..............\n",
      "[CV]  max_depth=18, min_samples_leaf=3, n_estimators=700, score=0.839, total=   3.3s\n",
      "[CV] max_depth=18, min_samples_leaf=3, n_estimators=700 ..............\n",
      "[CV]  max_depth=18, min_samples_leaf=3, n_estimators=700, score=0.831, total=   3.3s\n",
      "[CV] max_depth=18, min_samples_leaf=3, n_estimators=700 ..............\n",
      "[CV]  max_depth=18, min_samples_leaf=3, n_estimators=700, score=0.834, total=   3.4s\n",
      "[CV] max_depth=18, min_samples_leaf=5, n_estimators=200 ..............\n",
      "[CV]  max_depth=18, min_samples_leaf=5, n_estimators=200, score=0.840, total=   0.9s\n",
      "[CV] max_depth=18, min_samples_leaf=5, n_estimators=200 ..............\n",
      "[CV]  max_depth=18, min_samples_leaf=5, n_estimators=200, score=0.841, total=   0.9s\n",
      "[CV] max_depth=18, min_samples_leaf=5, n_estimators=200 ..............\n",
      "[CV]  max_depth=18, min_samples_leaf=5, n_estimators=200, score=0.841, total=   0.9s\n",
      "[CV] max_depth=18, min_samples_leaf=5, n_estimators=200 ..............\n",
      "[CV]  max_depth=18, min_samples_leaf=5, n_estimators=200, score=0.836, total=   0.9s\n",
      "[CV] max_depth=18, min_samples_leaf=5, n_estimators=200 ..............\n",
      "[CV]  max_depth=18, min_samples_leaf=5, n_estimators=200, score=0.829, total=   0.9s\n",
      "[CV] max_depth=18, min_samples_leaf=5, n_estimators=500 ..............\n",
      "[CV]  max_depth=18, min_samples_leaf=5, n_estimators=500, score=0.844, total=   2.3s\n",
      "[CV] max_depth=18, min_samples_leaf=5, n_estimators=500 ..............\n",
      "[CV]  max_depth=18, min_samples_leaf=5, n_estimators=500, score=0.845, total=   2.3s\n",
      "[CV] max_depth=18, min_samples_leaf=5, n_estimators=500 ..............\n",
      "[CV]  max_depth=18, min_samples_leaf=5, n_estimators=500, score=0.840, total=   2.2s\n",
      "[CV] max_depth=18, min_samples_leaf=5, n_estimators=500 ..............\n",
      "[CV]  max_depth=18, min_samples_leaf=5, n_estimators=500, score=0.841, total=   2.2s\n",
      "[CV] max_depth=18, min_samples_leaf=5, n_estimators=500 ..............\n",
      "[CV]  max_depth=18, min_samples_leaf=5, n_estimators=500, score=0.830, total=   2.4s\n",
      "[CV] max_depth=18, min_samples_leaf=5, n_estimators=700 ..............\n",
      "[CV]  max_depth=18, min_samples_leaf=5, n_estimators=700, score=0.841, total=   3.1s\n",
      "[CV] max_depth=18, min_samples_leaf=5, n_estimators=700 ..............\n",
      "[CV]  max_depth=18, min_samples_leaf=5, n_estimators=700, score=0.849, total=   3.2s\n",
      "[CV] max_depth=18, min_samples_leaf=5, n_estimators=700 ..............\n",
      "[CV]  max_depth=18, min_samples_leaf=5, n_estimators=700, score=0.841, total=   3.2s\n",
      "[CV] max_depth=18, min_samples_leaf=5, n_estimators=700 ..............\n",
      "[CV]  max_depth=18, min_samples_leaf=5, n_estimators=700, score=0.840, total=   3.1s\n",
      "[CV] max_depth=18, min_samples_leaf=5, n_estimators=700 ..............\n",
      "[CV]  max_depth=18, min_samples_leaf=5, n_estimators=700, score=0.830, total=   3.4s\n",
      "[CV] max_depth=20, min_samples_leaf=2, n_estimators=200 ..............\n",
      "[CV]  max_depth=20, min_samples_leaf=2, n_estimators=200, score=0.845, total=   1.0s\n",
      "[CV] max_depth=20, min_samples_leaf=2, n_estimators=200 ..............\n",
      "[CV]  max_depth=20, min_samples_leaf=2, n_estimators=200, score=0.848, total=   1.0s\n",
      "[CV] max_depth=20, min_samples_leaf=2, n_estimators=200 ..............\n",
      "[CV]  max_depth=20, min_samples_leaf=2, n_estimators=200, score=0.844, total=   1.0s\n",
      "[CV] max_depth=20, min_samples_leaf=2, n_estimators=200 ..............\n",
      "[CV]  max_depth=20, min_samples_leaf=2, n_estimators=200, score=0.835, total=   1.0s\n",
      "[CV] max_depth=20, min_samples_leaf=2, n_estimators=200 ..............\n",
      "[CV]  max_depth=20, min_samples_leaf=2, n_estimators=200, score=0.834, total=   1.0s\n",
      "[CV] max_depth=20, min_samples_leaf=2, n_estimators=500 ..............\n",
      "[CV]  max_depth=20, min_samples_leaf=2, n_estimators=500, score=0.840, total=   2.5s\n",
      "[CV] max_depth=20, min_samples_leaf=2, n_estimators=500 ..............\n",
      "[CV]  max_depth=20, min_samples_leaf=2, n_estimators=500, score=0.849, total=   2.5s\n",
      "[CV] max_depth=20, min_samples_leaf=2, n_estimators=500 ..............\n",
      "[CV]  max_depth=20, min_samples_leaf=2, n_estimators=500, score=0.841, total=   2.5s\n",
      "[CV] max_depth=20, min_samples_leaf=2, n_estimators=500 ..............\n",
      "[CV]  max_depth=20, min_samples_leaf=2, n_estimators=500, score=0.830, total=   2.6s\n",
      "[CV] max_depth=20, min_samples_leaf=2, n_estimators=500 ..............\n",
      "[CV]  max_depth=20, min_samples_leaf=2, n_estimators=500, score=0.834, total=   2.5s\n",
      "[CV] max_depth=20, min_samples_leaf=2, n_estimators=700 ..............\n",
      "[CV]  max_depth=20, min_samples_leaf=2, n_estimators=700, score=0.849, total=   3.5s\n",
      "[CV] max_depth=20, min_samples_leaf=2, n_estimators=700 ..............\n",
      "[CV]  max_depth=20, min_samples_leaf=2, n_estimators=700, score=0.846, total=   3.8s\n",
      "[CV] max_depth=20, min_samples_leaf=2, n_estimators=700 ..............\n",
      "[CV]  max_depth=20, min_samples_leaf=2, n_estimators=700, score=0.841, total=   3.6s\n",
      "[CV] max_depth=20, min_samples_leaf=2, n_estimators=700 ..............\n",
      "[CV]  max_depth=20, min_samples_leaf=2, n_estimators=700, score=0.833, total=   3.7s\n",
      "[CV] max_depth=20, min_samples_leaf=2, n_estimators=700 ..............\n",
      "[CV]  max_depth=20, min_samples_leaf=2, n_estimators=700, score=0.836, total=   3.5s\n",
      "[CV] max_depth=20, min_samples_leaf=3, n_estimators=200 ..............\n",
      "[CV]  max_depth=20, min_samples_leaf=3, n_estimators=200, score=0.844, total=   1.0s\n",
      "[CV] max_depth=20, min_samples_leaf=3, n_estimators=200 ..............\n",
      "[CV]  max_depth=20, min_samples_leaf=3, n_estimators=200, score=0.848, total=   1.0s\n",
      "[CV] max_depth=20, min_samples_leaf=3, n_estimators=200 ..............\n",
      "[CV]  max_depth=20, min_samples_leaf=3, n_estimators=200, score=0.844, total=   1.0s\n",
      "[CV] max_depth=20, min_samples_leaf=3, n_estimators=200 ..............\n",
      "[CV]  max_depth=20, min_samples_leaf=3, n_estimators=200, score=0.829, total=   1.0s\n",
      "[CV] max_depth=20, min_samples_leaf=3, n_estimators=200 ..............\n",
      "[CV]  max_depth=20, min_samples_leaf=3, n_estimators=200, score=0.831, total=   1.0s\n",
      "[CV] max_depth=20, min_samples_leaf=3, n_estimators=500 ..............\n",
      "[CV]  max_depth=20, min_samples_leaf=3, n_estimators=500, score=0.845, total=   2.4s\n",
      "[CV] max_depth=20, min_samples_leaf=3, n_estimators=500 ..............\n",
      "[CV]  max_depth=20, min_samples_leaf=3, n_estimators=500, score=0.843, total=   2.4s\n",
      "[CV] max_depth=20, min_samples_leaf=3, n_estimators=500 ..............\n",
      "[CV]  max_depth=20, min_samples_leaf=3, n_estimators=500, score=0.838, total=   2.6s\n",
      "[CV] max_depth=20, min_samples_leaf=3, n_estimators=500 ..............\n",
      "[CV]  max_depth=20, min_samples_leaf=3, n_estimators=500, score=0.831, total=   2.4s\n",
      "[CV] max_depth=20, min_samples_leaf=3, n_estimators=500 ..............\n",
      "[CV]  max_depth=20, min_samples_leaf=3, n_estimators=500, score=0.833, total=   2.4s\n",
      "[CV] max_depth=20, min_samples_leaf=3, n_estimators=700 ..............\n",
      "[CV]  max_depth=20, min_samples_leaf=3, n_estimators=700, score=0.844, total=   3.4s\n",
      "[CV] max_depth=20, min_samples_leaf=3, n_estimators=700 ..............\n",
      "[CV]  max_depth=20, min_samples_leaf=3, n_estimators=700, score=0.848, total=   3.3s\n",
      "[CV] max_depth=20, min_samples_leaf=3, n_estimators=700 ..............\n",
      "[CV]  max_depth=20, min_samples_leaf=3, n_estimators=700, score=0.844, total=   3.4s\n",
      "[CV] max_depth=20, min_samples_leaf=3, n_estimators=700 ..............\n",
      "[CV]  max_depth=20, min_samples_leaf=3, n_estimators=700, score=0.834, total=   3.3s\n",
      "[CV] max_depth=20, min_samples_leaf=3, n_estimators=700 ..............\n",
      "[CV]  max_depth=20, min_samples_leaf=3, n_estimators=700, score=0.829, total=   3.4s\n",
      "[CV] max_depth=20, min_samples_leaf=5, n_estimators=200 ..............\n",
      "[CV]  max_depth=20, min_samples_leaf=5, n_estimators=200, score=0.841, total=   0.9s\n",
      "[CV] max_depth=20, min_samples_leaf=5, n_estimators=200 ..............\n",
      "[CV]  max_depth=20, min_samples_leaf=5, n_estimators=200, score=0.840, total=   0.9s\n",
      "[CV] max_depth=20, min_samples_leaf=5, n_estimators=200 ..............\n",
      "[CV]  max_depth=20, min_samples_leaf=5, n_estimators=200, score=0.840, total=   0.9s\n",
      "[CV] max_depth=20, min_samples_leaf=5, n_estimators=200 ..............\n",
      "[CV]  max_depth=20, min_samples_leaf=5, n_estimators=200, score=0.840, total=   0.9s\n",
      "[CV] max_depth=20, min_samples_leaf=5, n_estimators=200 ..............\n",
      "[CV]  max_depth=20, min_samples_leaf=5, n_estimators=200, score=0.831, total=   0.9s\n",
      "[CV] max_depth=20, min_samples_leaf=5, n_estimators=500 ..............\n",
      "[CV]  max_depth=20, min_samples_leaf=5, n_estimators=500, score=0.845, total=   2.3s\n",
      "[CV] max_depth=20, min_samples_leaf=5, n_estimators=500 ..............\n",
      "[CV]  max_depth=20, min_samples_leaf=5, n_estimators=500, score=0.850, total=   2.4s\n",
      "[CV] max_depth=20, min_samples_leaf=5, n_estimators=500 ..............\n",
      "[CV]  max_depth=20, min_samples_leaf=5, n_estimators=500, score=0.838, total=   2.3s\n",
      "[CV] max_depth=20, min_samples_leaf=5, n_estimators=500 ..............\n",
      "[CV]  max_depth=20, min_samples_leaf=5, n_estimators=500, score=0.836, total=   2.3s\n",
      "[CV] max_depth=20, min_samples_leaf=5, n_estimators=500 ..............\n",
      "[CV]  max_depth=20, min_samples_leaf=5, n_estimators=500, score=0.826, total=   2.3s\n",
      "[CV] max_depth=20, min_samples_leaf=5, n_estimators=700 ..............\n",
      "[CV]  max_depth=20, min_samples_leaf=5, n_estimators=700, score=0.848, total=   3.2s\n",
      "[CV] max_depth=20, min_samples_leaf=5, n_estimators=700 ..............\n",
      "[CV]  max_depth=20, min_samples_leaf=5, n_estimators=700, score=0.846, total=   3.2s\n",
      "[CV] max_depth=20, min_samples_leaf=5, n_estimators=700 ..............\n",
      "[CV]  max_depth=20, min_samples_leaf=5, n_estimators=700, score=0.838, total=   3.3s\n",
      "[CV] max_depth=20, min_samples_leaf=5, n_estimators=700 ..............\n",
      "[CV]  max_depth=20, min_samples_leaf=5, n_estimators=700, score=0.838, total=   3.2s\n",
      "[CV] max_depth=20, min_samples_leaf=5, n_estimators=700 ..............\n",
      "[CV]  max_depth=20, min_samples_leaf=5, n_estimators=700, score=0.834, total=   3.2s\n",
      "[CV] max_depth=26, min_samples_leaf=2, n_estimators=200 ..............\n",
      "[CV]  max_depth=26, min_samples_leaf=2, n_estimators=200, score=0.843, total=   1.0s\n",
      "[CV] max_depth=26, min_samples_leaf=2, n_estimators=200 ..............\n",
      "[CV]  max_depth=26, min_samples_leaf=2, n_estimators=200, score=0.841, total=   1.1s\n",
      "[CV] max_depth=26, min_samples_leaf=2, n_estimators=200 ..............\n",
      "[CV]  max_depth=26, min_samples_leaf=2, n_estimators=200, score=0.843, total=   1.0s\n",
      "[CV] max_depth=26, min_samples_leaf=2, n_estimators=200 ..............\n",
      "[CV]  max_depth=26, min_samples_leaf=2, n_estimators=200, score=0.824, total=   1.0s\n",
      "[CV] max_depth=26, min_samples_leaf=2, n_estimators=200 ..............\n",
      "[CV]  max_depth=26, min_samples_leaf=2, n_estimators=200, score=0.830, total=   1.0s\n",
      "[CV] max_depth=26, min_samples_leaf=2, n_estimators=500 ..............\n",
      "[CV]  max_depth=26, min_samples_leaf=2, n_estimators=500, score=0.841, total=   2.6s\n",
      "[CV] max_depth=26, min_samples_leaf=2, n_estimators=500 ..............\n",
      "[CV]  max_depth=26, min_samples_leaf=2, n_estimators=500, score=0.844, total=   2.7s\n",
      "[CV] max_depth=26, min_samples_leaf=2, n_estimators=500 ..............\n",
      "[CV]  max_depth=26, min_samples_leaf=2, n_estimators=500, score=0.840, total=   2.5s\n",
      "[CV] max_depth=26, min_samples_leaf=2, n_estimators=500 ..............\n",
      "[CV]  max_depth=26, min_samples_leaf=2, n_estimators=500, score=0.830, total=   2.5s\n",
      "[CV] max_depth=26, min_samples_leaf=2, n_estimators=500 ..............\n",
      "[CV]  max_depth=26, min_samples_leaf=2, n_estimators=500, score=0.830, total=   2.5s\n",
      "[CV] max_depth=26, min_samples_leaf=2, n_estimators=700 ..............\n",
      "[CV]  max_depth=26, min_samples_leaf=2, n_estimators=700, score=0.841, total=   3.6s\n",
      "[CV] max_depth=26, min_samples_leaf=2, n_estimators=700 ..............\n",
      "[CV]  max_depth=26, min_samples_leaf=2, n_estimators=700, score=0.844, total=   3.7s\n",
      "[CV] max_depth=26, min_samples_leaf=2, n_estimators=700 ..............\n",
      "[CV]  max_depth=26, min_samples_leaf=2, n_estimators=700, score=0.846, total=   3.5s\n",
      "[CV] max_depth=26, min_samples_leaf=2, n_estimators=700 ..............\n",
      "[CV]  max_depth=26, min_samples_leaf=2, n_estimators=700, score=0.828, total=   3.6s\n",
      "[CV] max_depth=26, min_samples_leaf=2, n_estimators=700 ..............\n",
      "[CV]  max_depth=26, min_samples_leaf=2, n_estimators=700, score=0.833, total=   3.6s\n",
      "[CV] max_depth=26, min_samples_leaf=3, n_estimators=200 ..............\n",
      "[CV]  max_depth=26, min_samples_leaf=3, n_estimators=200, score=0.843, total=   1.0s\n",
      "[CV] max_depth=26, min_samples_leaf=3, n_estimators=200 ..............\n",
      "[CV]  max_depth=26, min_samples_leaf=3, n_estimators=200, score=0.848, total=   1.0s\n",
      "[CV] max_depth=26, min_samples_leaf=3, n_estimators=200 ..............\n",
      "[CV]  max_depth=26, min_samples_leaf=3, n_estimators=200, score=0.841, total=   1.0s\n",
      "[CV] max_depth=26, min_samples_leaf=3, n_estimators=200 ..............\n",
      "[CV]  max_depth=26, min_samples_leaf=3, n_estimators=200, score=0.834, total=   1.1s\n",
      "[CV] max_depth=26, min_samples_leaf=3, n_estimators=200 ..............\n",
      "[CV]  max_depth=26, min_samples_leaf=3, n_estimators=200, score=0.834, total=   1.1s\n",
      "[CV] max_depth=26, min_samples_leaf=3, n_estimators=500 ..............\n",
      "[CV]  max_depth=26, min_samples_leaf=3, n_estimators=500, score=0.845, total=   2.4s\n",
      "[CV] max_depth=26, min_samples_leaf=3, n_estimators=500 ..............\n",
      "[CV]  max_depth=26, min_samples_leaf=3, n_estimators=500, score=0.845, total=   2.4s\n",
      "[CV] max_depth=26, min_samples_leaf=3, n_estimators=500 ..............\n",
      "[CV]  max_depth=26, min_samples_leaf=3, n_estimators=500, score=0.844, total=   2.4s\n",
      "[CV] max_depth=26, min_samples_leaf=3, n_estimators=500 ..............\n",
      "[CV]  max_depth=26, min_samples_leaf=3, n_estimators=500, score=0.830, total=   2.4s\n",
      "[CV] max_depth=26, min_samples_leaf=3, n_estimators=500 ..............\n",
      "[CV]  max_depth=26, min_samples_leaf=3, n_estimators=500, score=0.831, total=   2.4s\n",
      "[CV] max_depth=26, min_samples_leaf=3, n_estimators=700 ..............\n",
      "[CV]  max_depth=26, min_samples_leaf=3, n_estimators=700, score=0.845, total=   3.6s\n",
      "[CV] max_depth=26, min_samples_leaf=3, n_estimators=700 ..............\n",
      "[CV]  max_depth=26, min_samples_leaf=3, n_estimators=700, score=0.851, total=   3.4s\n",
      "[CV] max_depth=26, min_samples_leaf=3, n_estimators=700 ..............\n",
      "[CV]  max_depth=26, min_samples_leaf=3, n_estimators=700, score=0.845, total=   3.5s\n",
      "[CV] max_depth=26, min_samples_leaf=3, n_estimators=700 ..............\n",
      "[CV]  max_depth=26, min_samples_leaf=3, n_estimators=700, score=0.836, total=   3.4s\n",
      "[CV] max_depth=26, min_samples_leaf=3, n_estimators=700 ..............\n",
      "[CV]  max_depth=26, min_samples_leaf=3, n_estimators=700, score=0.831, total=   3.4s\n",
      "[CV] max_depth=26, min_samples_leaf=5, n_estimators=200 ..............\n",
      "[CV]  max_depth=26, min_samples_leaf=5, n_estimators=200, score=0.844, total=   0.9s\n",
      "[CV] max_depth=26, min_samples_leaf=5, n_estimators=200 ..............\n",
      "[CV]  max_depth=26, min_samples_leaf=5, n_estimators=200, score=0.848, total=   1.0s\n",
      "[CV] max_depth=26, min_samples_leaf=5, n_estimators=200 ..............\n",
      "[CV]  max_depth=26, min_samples_leaf=5, n_estimators=200, score=0.839, total=   1.0s\n",
      "[CV] max_depth=26, min_samples_leaf=5, n_estimators=200 ..............\n",
      "[CV]  max_depth=26, min_samples_leaf=5, n_estimators=200, score=0.838, total=   0.9s\n",
      "[CV] max_depth=26, min_samples_leaf=5, n_estimators=200 ..............\n",
      "[CV]  max_depth=26, min_samples_leaf=5, n_estimators=200, score=0.836, total=   0.9s\n",
      "[CV] max_depth=26, min_samples_leaf=5, n_estimators=500 ..............\n",
      "[CV]  max_depth=26, min_samples_leaf=5, n_estimators=500, score=0.845, total=   2.3s\n",
      "[CV] max_depth=26, min_samples_leaf=5, n_estimators=500 ..............\n",
      "[CV]  max_depth=26, min_samples_leaf=5, n_estimators=500, score=0.849, total=   2.3s\n",
      "[CV] max_depth=26, min_samples_leaf=5, n_estimators=500 ..............\n",
      "[CV]  max_depth=26, min_samples_leaf=5, n_estimators=500, score=0.840, total=   2.3s\n",
      "[CV] max_depth=26, min_samples_leaf=5, n_estimators=500 ..............\n",
      "[CV]  max_depth=26, min_samples_leaf=5, n_estimators=500, score=0.836, total=   2.3s\n",
      "[CV] max_depth=26, min_samples_leaf=5, n_estimators=500 ..............\n",
      "[CV]  max_depth=26, min_samples_leaf=5, n_estimators=500, score=0.831, total=   2.3s\n",
      "[CV] max_depth=26, min_samples_leaf=5, n_estimators=700 ..............\n",
      "[CV]  max_depth=26, min_samples_leaf=5, n_estimators=700, score=0.844, total=   3.5s\n",
      "[CV] max_depth=26, min_samples_leaf=5, n_estimators=700 ..............\n",
      "[CV]  max_depth=26, min_samples_leaf=5, n_estimators=700, score=0.850, total=   3.2s\n",
      "[CV] max_depth=26, min_samples_leaf=5, n_estimators=700 ..............\n",
      "[CV]  max_depth=26, min_samples_leaf=5, n_estimators=700, score=0.844, total=   3.2s\n",
      "[CV] max_depth=26, min_samples_leaf=5, n_estimators=700 ..............\n",
      "[CV]  max_depth=26, min_samples_leaf=5, n_estimators=700, score=0.840, total=   3.2s\n",
      "[CV] max_depth=26, min_samples_leaf=5, n_estimators=700 ..............\n",
      "[CV]  max_depth=26, min_samples_leaf=5, n_estimators=700, score=0.828, total=   3.2s\n"
     ]
    },
    {
     "name": "stderr",
     "output_type": "stream",
     "text": [
      "[Parallel(n_jobs=1)]: Done 225 out of 225 | elapsed:  7.8min finished\n"
     ]
    },
    {
     "data": {
      "text/plain": [
       "GridSearchCV(cv=None, error_score=nan,\n",
       "             estimator=RandomForestClassifier(bootstrap=True, ccp_alpha=0.0,\n",
       "                                              class_weight=None,\n",
       "                                              criterion='gini', max_depth=None,\n",
       "                                              max_features='auto',\n",
       "                                              max_leaf_nodes=None,\n",
       "                                              max_samples=None,\n",
       "                                              min_impurity_decrease=0.0,\n",
       "                                              min_impurity_split=None,\n",
       "                                              min_samples_leaf=1,\n",
       "                                              min_samples_split=2,\n",
       "                                              min_weight_fraction_leaf=0.0,\n",
       "                                              n_estimators=100, n_jobs=None,\n",
       "                                              oob_score=False,\n",
       "                                              random_state=None, verbose=0,\n",
       "                                              warm_start=False),\n",
       "             iid='deprecated', n_jobs=None,\n",
       "             param_grid={'max_depth': [6, 12, 18, 20, 26],\n",
       "                         'min_samples_leaf': [2, 3, 5],\n",
       "                         'n_estimators': [200, 500, 700]},\n",
       "             pre_dispatch='2*n_jobs', refit=True, return_train_score=False,\n",
       "             scoring=None, verbose=3)"
      ]
     },
     "execution_count": 81,
     "metadata": {},
     "output_type": "execute_result"
    }
   ],
   "source": [
    "gsv.fit(X1_train, Y1_train)"
   ]
  },
  {
   "cell_type": "code",
   "execution_count": 83,
   "metadata": {},
   "outputs": [
    {
     "data": {
      "text/plain": [
       "{'max_depth': 26, 'min_samples_leaf': 3, 'n_estimators': 700}"
      ]
     },
     "execution_count": 83,
     "metadata": {},
     "output_type": "execute_result"
    }
   ],
   "source": [
    "gsv.best_params_"
   ]
  },
  {
   "cell_type": "code",
   "execution_count": 84,
   "metadata": {},
   "outputs": [
    {
     "data": {
      "text/plain": [
       "RandomForestClassifier(bootstrap=True, ccp_alpha=0.0, class_weight=None,\n",
       "                       criterion='gini', max_depth=26, max_features='auto',\n",
       "                       max_leaf_nodes=None, max_samples=None,\n",
       "                       min_impurity_decrease=0.0, min_impurity_split=None,\n",
       "                       min_samples_leaf=3, min_samples_split=2,\n",
       "                       min_weight_fraction_leaf=0.0, n_estimators=700,\n",
       "                       n_jobs=None, oob_score=False, random_state=None,\n",
       "                       verbose=0, warm_start=False)"
      ]
     },
     "execution_count": 84,
     "metadata": {},
     "output_type": "execute_result"
    }
   ],
   "source": [
    "gsv.best_estimator_"
   ]
  },
  {
   "cell_type": "code",
   "execution_count": 85,
   "metadata": {},
   "outputs": [],
   "source": [
    "rf1 = RandomForestClassifier(bootstrap=True, class_weight=None, criterion='gini',\n",
    "                            max_depth=26, max_features='auto', max_leaf_nodes=None,\n",
    "                            min_impurity_decrease=0.0, min_impurity_split=None,\n",
    "                            min_samples_leaf=3, min_samples_split=2,\n",
    "                            min_weight_fraction_leaf=0.0, n_estimators=700,n_jobs=None,\n",
    "                            oob_score=True, random_state=101, verbose=0, warm_start=False)"
   ]
  },
  {
   "cell_type": "code",
   "execution_count": 86,
   "metadata": {},
   "outputs": [
    {
     "name": "stdout",
     "output_type": "stream",
     "text": [
      "RandomForest Accuracy: 0.831\n"
     ]
    }
   ],
   "source": [
    "rf1.fit(X1_train,Y1_train)\n",
    "Y1_pred = rf1.predict(X1_test)\n",
    "print(\"RandomForest Accuracy:\",accuracy_score(Y1_test, Y1_pred))"
   ]
  },
  {
   "cell_type": "code",
   "execution_count": 87,
   "metadata": {},
   "outputs": [
    {
     "data": {
      "text/plain": [
       "0.83725"
      ]
     },
     "execution_count": 87,
     "metadata": {},
     "output_type": "execute_result"
    }
   ],
   "source": [
    "rf1.oob_score_"
   ]
  },
  {
   "cell_type": "code",
   "execution_count": 88,
   "metadata": {},
   "outputs": [],
   "source": [
    "FI = rf1.feature_importances_"
   ]
  },
  {
   "cell_type": "code",
   "execution_count": 89,
   "metadata": {},
   "outputs": [
    {
     "data": {
      "text/plain": [
       "array([1.85587175e-01, 9.00541449e-02, 1.15383714e-01, 1.76548446e-01,\n",
       "       4.52947346e-02, 9.40418782e-02, 6.43592178e-03, 5.90923273e-03,\n",
       "       3.01331567e-03, 1.08226574e-02, 1.40180001e-02, 7.08886022e-03,\n",
       "       3.03029635e-03, 0.00000000e+00, 6.38565427e-03, 0.00000000e+00,\n",
       "       6.92092657e-03, 4.43672192e-02, 4.15785282e-03, 2.46786704e-03,\n",
       "       3.31214130e-03, 2.93191611e-03, 9.72356404e-03, 4.34013346e-05,\n",
       "       2.02128534e-02, 2.69147666e-03, 9.55707413e-03, 4.76737012e-03,\n",
       "       4.27574425e-03, 2.02766449e-03, 1.51048288e-03, 2.42293758e-04,\n",
       "       1.34533523e-04, 3.33012849e-04, 1.67130966e-03, 6.98280183e-04,\n",
       "       2.95137565e-03, 3.18606002e-03, 1.70794153e-02, 4.67107669e-03,\n",
       "       7.88533221e-03, 9.92620294e-03, 1.81938601e-03, 1.95381119e-06,\n",
       "       1.14284100e-02, 6.61285411e-03, 2.23708019e-02, 2.57555414e-02,\n",
       "       6.50574616e-04])"
      ]
     },
     "execution_count": 89,
     "metadata": {},
     "output_type": "execute_result"
    }
   ],
   "source": [
    "FI"
   ]
  },
  {
   "cell_type": "code",
   "execution_count": 90,
   "metadata": {},
   "outputs": [
    {
     "data": {
      "text/plain": [
       "[(0.18558717453730714, 'age'),\n",
       " (0.1765484464317555, 'capital_gain'),\n",
       " (0.11538371376022502, 'education_num'),\n",
       " (0.0940418782070826, 'hours_per_week'),\n",
       " (0.09005414490361623, 'fnlwgt'),\n",
       " (0.04529473456740924, 'capital_loss'),\n",
       " (0.04436721921925841, 'occupation_Exec-managerial'),\n",
       " (0.025755541435098592, 'sex_Male'),\n",
       " (0.022370801888645, 'sex_Female'),\n",
       " (0.020212853377476622, 'occupation_Prof-specialty'),\n",
       " (0.01707941534267116, 'education_Bachelors'),\n",
       " (0.014018000083891478, 'workclass_Self-emp-inc'),\n",
       " (0.011428410001409792, 'education_Prof-school'),\n",
       " (0.010822657449931366, 'workclass_Private'),\n",
       " (0.009926202937502585, 'education_Masters'),\n",
       " (0.009723564036258191, 'occupation_Other-service'),\n",
       " (0.009557074128251642, 'occupation_Sales'),\n",
       " (0.00788533221393955, 'education_HS-grad'),\n",
       " (0.0070888602157223885, 'workclass_Self-emp-not-inc'),\n",
       " (0.006920926572311059, 'occupation_Craft-repair'),\n",
       " (0.006612854114995777, 'education_Some-college'),\n",
       " (0.006435921778218898, 'workclass_Federal-gov'),\n",
       " (0.006385654274183905, 'occupation_Adm-clerical'),\n",
       " (0.005909232730539255, 'workclass_Local-gov'),\n",
       " (0.004767370118251254, 'occupation_Tech-support'),\n",
       " (0.004671076693880839, 'education_Doctorate'),\n",
       " (0.00427574425281534, 'occupation_Transport-moving'),\n",
       " (0.004157852818048959, 'occupation_Farming-fishing'),\n",
       " (0.0033121413037276925, 'occupation_Machine-op-inspct'),\n",
       " (0.0031860600182402566, 'education_Assoc-voc'),\n",
       " (0.00303029634981089, 'workclass_State-gov'),\n",
       " (0.0030133156661562637, 'workclass_Other'),\n",
       " (0.0029513756509029865, 'education_Assoc-acdm'),\n",
       " (0.0029319161148182444, 'occupation_Other'),\n",
       " (0.0026914766636312077, 'occupation_Protective-serv'),\n",
       " (0.0024678670373807993, 'occupation_Handlers-cleaners'),\n",
       " (0.002027664485240896, 'education_10th'),\n",
       " (0.0018193860051051933, 'education_Other'),\n",
       " (0.0016713096609776558, 'education_7th-8th'),\n",
       " (0.0015104828789579796, 'education_11th'),\n",
       " (0.0006982801829184558, 'education_9th'),\n",
       " (0.0006505746158785185, 'sex_other'),\n",
       " (0.0003330128493624707, 'education_5th-6th'),\n",
       " (0.00024229375767731553, 'education_12th'),\n",
       " (0.00013453352275013004, 'education_1st-4th'),\n",
       " (4.3401334576120545e-05, 'occupation_Priv-house-serv'),\n",
       " (1.953811189158037e-06, 'education_Preschool'),\n",
       " (0.0, 'workclass_Without-pay'),\n",
       " (0.0, 'occupation_Armed-Forces')]"
      ]
     },
     "execution_count": 90,
     "metadata": {},
     "output_type": "execute_result"
    }
   ],
   "source": [
    "sorted(list(zip(FI, X1_train.columns)), reverse=True)"
   ]
  },
  {
   "cell_type": "code",
   "execution_count": null,
   "metadata": {},
   "outputs": [],
   "source": [
    "#Confusion matrix & Classification Report"
   ]
  },
  {
   "cell_type": "code",
   "execution_count": 91,
   "metadata": {},
   "outputs": [
    {
     "name": "stdout",
     "output_type": "stream",
     "text": [
      "[[720  35]\n",
      " [134 111]]\n",
      "              precision    recall  f1-score   support\n",
      "\n",
      "       <=50K       0.84      0.95      0.89       755\n",
      "        >50K       0.76      0.45      0.57       245\n",
      "\n",
      "    accuracy                           0.83      1000\n",
      "   macro avg       0.80      0.70      0.73      1000\n",
      "weighted avg       0.82      0.83      0.81      1000\n",
      "\n"
     ]
    }
   ],
   "source": [
    "print(confusion_matrix(Y1_test, Y1_pred))\n",
    "print(classification_report(Y1_test, Y1_pred))"
   ]
  },
  {
   "cell_type": "code",
   "execution_count": null,
   "metadata": {},
   "outputs": [],
   "source": [
    "#KNN Algorithm"
   ]
  },
  {
   "cell_type": "code",
   "execution_count": 93,
   "metadata": {},
   "outputs": [],
   "source": [
    "scaler = StandardScaler()"
   ]
  },
  {
   "cell_type": "code",
   "execution_count": 94,
   "metadata": {},
   "outputs": [
    {
     "data": {
      "text/plain": [
       "StandardScaler(copy=True, with_mean=True, with_std=True)"
      ]
     },
     "execution_count": 94,
     "metadata": {},
     "output_type": "execute_result"
    }
   ],
   "source": [
    "scaler.fit(modelling_df.drop(\"income\",axis=1))"
   ]
  },
  {
   "cell_type": "code",
   "execution_count": 95,
   "metadata": {},
   "outputs": [],
   "source": [
    "scaled_features = scaler.transform(modelling_df.drop(\"income\", axis=1))"
   ]
  },
  {
   "cell_type": "code",
   "execution_count": 96,
   "metadata": {},
   "outputs": [],
   "source": [
    "X2_train, X2_test, Y2_train, Y2_test = train_test_split(scaled_features, df[\"income\"], test_size=0.30, random_state=101)"
   ]
  },
  {
   "cell_type": "code",
   "execution_count": 97,
   "metadata": {},
   "outputs": [],
   "source": [
    "from sklearn.neighbors import KNeighborsClassifier"
   ]
  },
  {
   "cell_type": "code",
   "execution_count": 98,
   "metadata": {},
   "outputs": [],
   "source": [
    "knn = KNeighborsClassifier(n_neighbors = 1)"
   ]
  },
  {
   "cell_type": "code",
   "execution_count": 99,
   "metadata": {},
   "outputs": [
    {
     "data": {
      "text/plain": [
       "KNeighborsClassifier(algorithm='auto', leaf_size=30, metric='minkowski',\n",
       "                     metric_params=None, n_jobs=None, n_neighbors=1, p=2,\n",
       "                     weights='uniform')"
      ]
     },
     "execution_count": 99,
     "metadata": {},
     "output_type": "execute_result"
    }
   ],
   "source": [
    "knn.fit(X2_train, Y2_train)"
   ]
  },
  {
   "cell_type": "code",
   "execution_count": 100,
   "metadata": {},
   "outputs": [],
   "source": [
    "pred = knn.predict(X2_test)"
   ]
  },
  {
   "cell_type": "code",
   "execution_count": 101,
   "metadata": {},
   "outputs": [],
   "source": [
    "from sklearn.metrics import classification_report, confusion_matrix"
   ]
  },
  {
   "cell_type": "code",
   "execution_count": 102,
   "metadata": {},
   "outputs": [
    {
     "name": "stdout",
     "output_type": "stream",
     "text": [
      "              precision    recall  f1-score   support\n",
      "\n",
      "       <=50K       0.82      0.82      0.82      1128\n",
      "        >50K       0.46      0.46      0.46       372\n",
      "\n",
      "    accuracy                           0.73      1500\n",
      "   macro avg       0.64      0.64      0.64      1500\n",
      "weighted avg       0.73      0.73      0.73      1500\n",
      " [[925 203]\n",
      " [200 172]]\n"
     ]
    }
   ],
   "source": [
    "print(classification_report(Y2_test, pred),confusion_matrix(Y2_test, pred))"
   ]
  },
  {
   "cell_type": "code",
   "execution_count": 103,
   "metadata": {},
   "outputs": [],
   "source": [
    "from sklearn.model_selection import GridSearchCV"
   ]
  },
  {
   "cell_type": "code",
   "execution_count": 104,
   "metadata": {},
   "outputs": [],
   "source": [
    "params = {'n_neighbors': range(1,40)}"
   ]
  },
  {
   "cell_type": "code",
   "execution_count": 106,
   "metadata": {},
   "outputs": [],
   "source": [
    "gsv1 = GridSearchCV(knn, params, verbose = 3)"
   ]
  },
  {
   "cell_type": "code",
   "execution_count": 107,
   "metadata": {},
   "outputs": [
    {
     "name": "stdout",
     "output_type": "stream",
     "text": [
      "Fitting 5 folds for each of 39 candidates, totalling 195 fits\n",
      "[CV] n_neighbors=1 ...................................................\n"
     ]
    },
    {
     "name": "stderr",
     "output_type": "stream",
     "text": [
      "[Parallel(n_jobs=1)]: Using backend SequentialBackend with 1 concurrent workers.\n"
     ]
    },
    {
     "name": "stdout",
     "output_type": "stream",
     "text": [
      "[CV] ....................... n_neighbors=1, score=0.744, total=   0.3s\n",
      "[CV] n_neighbors=1 ...................................................\n"
     ]
    },
    {
     "name": "stderr",
     "output_type": "stream",
     "text": [
      "[Parallel(n_jobs=1)]: Done   1 out of   1 | elapsed:    0.2s remaining:    0.0s\n"
     ]
    },
    {
     "name": "stdout",
     "output_type": "stream",
     "text": [
      "[CV] ....................... n_neighbors=1, score=0.747, total=   0.3s\n",
      "[CV] n_neighbors=1 ...................................................\n"
     ]
    },
    {
     "name": "stderr",
     "output_type": "stream",
     "text": [
      "[Parallel(n_jobs=1)]: Done   2 out of   2 | elapsed:    0.4s remaining:    0.0s\n"
     ]
    },
    {
     "name": "stdout",
     "output_type": "stream",
     "text": [
      "[CV] ....................... n_neighbors=1, score=0.764, total=   0.3s\n",
      "[CV] n_neighbors=1 ...................................................\n",
      "[CV] ....................... n_neighbors=1, score=0.739, total=   0.3s\n",
      "[CV] n_neighbors=1 ...................................................\n",
      "[CV] ....................... n_neighbors=1, score=0.726, total=   0.3s\n",
      "[CV] n_neighbors=2 ...................................................\n",
      "[CV] ....................... n_neighbors=2, score=0.799, total=   0.3s\n",
      "[CV] n_neighbors=2 ...................................................\n",
      "[CV] ....................... n_neighbors=2, score=0.780, total=   0.3s\n",
      "[CV] n_neighbors=2 ...................................................\n",
      "[CV] ....................... n_neighbors=2, score=0.780, total=   0.3s\n",
      "[CV] n_neighbors=2 ...................................................\n",
      "[CV] ....................... n_neighbors=2, score=0.796, total=   0.3s\n",
      "[CV] n_neighbors=2 ...................................................\n",
      "[CV] ....................... n_neighbors=2, score=0.770, total=   0.3s\n",
      "[CV] n_neighbors=3 ...................................................\n",
      "[CV] ....................... n_neighbors=3, score=0.797, total=   0.4s\n",
      "[CV] n_neighbors=3 ...................................................\n",
      "[CV] ....................... n_neighbors=3, score=0.754, total=   0.3s\n",
      "[CV] n_neighbors=3 ...................................................\n",
      "[CV] ....................... n_neighbors=3, score=0.771, total=   0.4s\n",
      "[CV] n_neighbors=3 ...................................................\n",
      "[CV] ....................... n_neighbors=3, score=0.784, total=   0.4s\n",
      "[CV] n_neighbors=3 ...................................................\n",
      "[CV] ....................... n_neighbors=3, score=0.760, total=   0.4s\n",
      "[CV] n_neighbors=4 ...................................................\n",
      "[CV] ....................... n_neighbors=4, score=0.794, total=   0.4s\n",
      "[CV] n_neighbors=4 ...................................................\n",
      "[CV] ....................... n_neighbors=4, score=0.784, total=   0.4s\n",
      "[CV] n_neighbors=4 ...................................................\n",
      "[CV] ....................... n_neighbors=4, score=0.776, total=   0.4s\n",
      "[CV] n_neighbors=4 ...................................................\n",
      "[CV] ....................... n_neighbors=4, score=0.793, total=   0.5s\n",
      "[CV] n_neighbors=4 ...................................................\n",
      "[CV] ....................... n_neighbors=4, score=0.760, total=   0.5s\n",
      "[CV] n_neighbors=5 ...................................................\n",
      "[CV] ....................... n_neighbors=5, score=0.791, total=   0.3s\n",
      "[CV] n_neighbors=5 ...................................................\n",
      "[CV] ....................... n_neighbors=5, score=0.767, total=   0.3s\n",
      "[CV] n_neighbors=5 ...................................................\n",
      "[CV] ....................... n_neighbors=5, score=0.776, total=   0.3s\n",
      "[CV] n_neighbors=5 ...................................................\n",
      "[CV] ....................... n_neighbors=5, score=0.790, total=   0.3s\n",
      "[CV] n_neighbors=5 ...................................................\n",
      "[CV] ....................... n_neighbors=5, score=0.760, total=   0.3s\n",
      "[CV] n_neighbors=6 ...................................................\n",
      "[CV] ....................... n_neighbors=6, score=0.794, total=   0.3s\n",
      "[CV] n_neighbors=6 ...................................................\n",
      "[CV] ....................... n_neighbors=6, score=0.774, total=   0.3s\n",
      "[CV] n_neighbors=6 ...................................................\n",
      "[CV] ....................... n_neighbors=6, score=0.780, total=   0.3s\n",
      "[CV] n_neighbors=6 ...................................................\n",
      "[CV] ....................... n_neighbors=6, score=0.794, total=   0.3s\n",
      "[CV] n_neighbors=6 ...................................................\n",
      "[CV] ....................... n_neighbors=6, score=0.774, total=   0.3s\n",
      "[CV] n_neighbors=7 ...................................................\n",
      "[CV] ....................... n_neighbors=7, score=0.800, total=   0.3s\n",
      "[CV] n_neighbors=7 ...................................................\n",
      "[CV] ....................... n_neighbors=7, score=0.776, total=   0.3s\n",
      "[CV] n_neighbors=7 ...................................................\n",
      "[CV] ....................... n_neighbors=7, score=0.789, total=   0.3s\n",
      "[CV] n_neighbors=7 ...................................................\n",
      "[CV] ....................... n_neighbors=7, score=0.791, total=   0.3s\n",
      "[CV] n_neighbors=7 ...................................................\n",
      "[CV] ....................... n_neighbors=7, score=0.777, total=   0.3s\n",
      "[CV] n_neighbors=8 ...................................................\n",
      "[CV] ....................... n_neighbors=8, score=0.790, total=   0.3s\n",
      "[CV] n_neighbors=8 ...................................................\n",
      "[CV] ....................... n_neighbors=8, score=0.780, total=   0.3s\n",
      "[CV] n_neighbors=8 ...................................................\n",
      "[CV] ....................... n_neighbors=8, score=0.786, total=   0.3s\n",
      "[CV] n_neighbors=8 ...................................................\n",
      "[CV] ....................... n_neighbors=8, score=0.794, total=   0.3s\n",
      "[CV] n_neighbors=8 ...................................................\n",
      "[CV] ....................... n_neighbors=8, score=0.776, total=   0.3s\n",
      "[CV] n_neighbors=9 ...................................................\n",
      "[CV] ....................... n_neighbors=9, score=0.791, total=   0.3s\n",
      "[CV] n_neighbors=9 ...................................................\n",
      "[CV] ....................... n_neighbors=9, score=0.793, total=   0.3s\n",
      "[CV] n_neighbors=9 ...................................................\n",
      "[CV] ....................... n_neighbors=9, score=0.786, total=   0.3s\n",
      "[CV] n_neighbors=9 ...................................................\n",
      "[CV] ....................... n_neighbors=9, score=0.797, total=   0.3s\n",
      "[CV] n_neighbors=9 ...................................................\n",
      "[CV] ....................... n_neighbors=9, score=0.770, total=   0.3s\n",
      "[CV] n_neighbors=10 ..................................................\n",
      "[CV] ...................... n_neighbors=10, score=0.791, total=   0.3s\n",
      "[CV] n_neighbors=10 ..................................................\n",
      "[CV] ...................... n_neighbors=10, score=0.794, total=   0.3s\n",
      "[CV] n_neighbors=10 ..................................................\n",
      "[CV] ...................... n_neighbors=10, score=0.779, total=   0.3s\n",
      "[CV] n_neighbors=10 ..................................................\n",
      "[CV] ...................... n_neighbors=10, score=0.801, total=   0.3s\n",
      "[CV] n_neighbors=10 ..................................................\n",
      "[CV] ...................... n_neighbors=10, score=0.771, total=   0.3s\n",
      "[CV] n_neighbors=11 ..................................................\n",
      "[CV] ...................... n_neighbors=11, score=0.797, total=   0.3s\n",
      "[CV] n_neighbors=11 ..................................................\n",
      "[CV] ...................... n_neighbors=11, score=0.790, total=   0.3s\n",
      "[CV] n_neighbors=11 ..................................................\n",
      "[CV] ...................... n_neighbors=11, score=0.786, total=   0.3s\n",
      "[CV] n_neighbors=11 ..................................................\n",
      "[CV] ...................... n_neighbors=11, score=0.806, total=   0.3s\n",
      "[CV] n_neighbors=11 ..................................................\n",
      "[CV] ...................... n_neighbors=11, score=0.786, total=   0.3s\n",
      "[CV] n_neighbors=12 ..................................................\n",
      "[CV] ...................... n_neighbors=12, score=0.789, total=   0.3s\n",
      "[CV] n_neighbors=12 ..................................................\n",
      "[CV] ...................... n_neighbors=12, score=0.787, total=   0.3s\n",
      "[CV] n_neighbors=12 ..................................................\n",
      "[CV] ...................... n_neighbors=12, score=0.787, total=   0.3s\n",
      "[CV] n_neighbors=12 ..................................................\n",
      "[CV] ...................... n_neighbors=12, score=0.799, total=   0.3s\n",
      "[CV] n_neighbors=12 ..................................................\n",
      "[CV] ...................... n_neighbors=12, score=0.780, total=   0.3s\n",
      "[CV] n_neighbors=13 ..................................................\n",
      "[CV] ...................... n_neighbors=13, score=0.796, total=   0.3s\n",
      "[CV] n_neighbors=13 ..................................................\n",
      "[CV] ...................... n_neighbors=13, score=0.793, total=   0.3s\n",
      "[CV] n_neighbors=13 ..................................................\n",
      "[CV] ...................... n_neighbors=13, score=0.793, total=   0.3s\n",
      "[CV] n_neighbors=13 ..................................................\n",
      "[CV] ...................... n_neighbors=13, score=0.804, total=   0.3s\n",
      "[CV] n_neighbors=13 ..................................................\n",
      "[CV] ...................... n_neighbors=13, score=0.789, total=   0.3s\n",
      "[CV] n_neighbors=14 ..................................................\n",
      "[CV] ...................... n_neighbors=14, score=0.793, total=   0.3s\n",
      "[CV] n_neighbors=14 ..................................................\n",
      "[CV] ...................... n_neighbors=14, score=0.797, total=   0.3s\n",
      "[CV] n_neighbors=14 ..................................................\n",
      "[CV] ...................... n_neighbors=14, score=0.786, total=   0.3s\n",
      "[CV] n_neighbors=14 ..................................................\n",
      "[CV] ...................... n_neighbors=14, score=0.804, total=   0.3s\n",
      "[CV] n_neighbors=14 ..................................................\n",
      "[CV] ...................... n_neighbors=14, score=0.789, total=   0.3s\n",
      "[CV] n_neighbors=15 ..................................................\n",
      "[CV] ...................... n_neighbors=15, score=0.796, total=   0.3s\n",
      "[CV] n_neighbors=15 ..................................................\n",
      "[CV] ...................... n_neighbors=15, score=0.799, total=   0.3s\n",
      "[CV] n_neighbors=15 ..................................................\n",
      "[CV] ...................... n_neighbors=15, score=0.789, total=   0.3s\n",
      "[CV] n_neighbors=15 ..................................................\n",
      "[CV] ...................... n_neighbors=15, score=0.803, total=   0.3s\n",
      "[CV] n_neighbors=15 ..................................................\n",
      "[CV] ...................... n_neighbors=15, score=0.789, total=   0.3s\n",
      "[CV] n_neighbors=16 ..................................................\n",
      "[CV] ...................... n_neighbors=16, score=0.796, total=   0.3s\n",
      "[CV] n_neighbors=16 ..................................................\n",
      "[CV] ...................... n_neighbors=16, score=0.796, total=   0.3s\n",
      "[CV] n_neighbors=16 ..................................................\n",
      "[CV] ...................... n_neighbors=16, score=0.786, total=   0.3s\n",
      "[CV] n_neighbors=16 ..................................................\n",
      "[CV] ...................... n_neighbors=16, score=0.804, total=   0.3s\n",
      "[CV] n_neighbors=16 ..................................................\n",
      "[CV] ...................... n_neighbors=16, score=0.790, total=   0.3s\n",
      "[CV] n_neighbors=17 ..................................................\n",
      "[CV] ...................... n_neighbors=17, score=0.801, total=   0.3s\n",
      "[CV] n_neighbors=17 ..................................................\n",
      "[CV] ...................... n_neighbors=17, score=0.799, total=   0.3s\n",
      "[CV] n_neighbors=17 ..................................................\n",
      "[CV] ...................... n_neighbors=17, score=0.783, total=   0.3s\n",
      "[CV] n_neighbors=17 ..................................................\n",
      "[CV] ...................... n_neighbors=17, score=0.804, total=   0.3s\n",
      "[CV] n_neighbors=17 ..................................................\n",
      "[CV] ...................... n_neighbors=17, score=0.790, total=   0.3s\n",
      "[CV] n_neighbors=18 ..................................................\n",
      "[CV] ...................... n_neighbors=18, score=0.797, total=   0.3s\n",
      "[CV] n_neighbors=18 ..................................................\n",
      "[CV] ...................... n_neighbors=18, score=0.790, total=   0.3s\n",
      "[CV] n_neighbors=18 ..................................................\n",
      "[CV] ...................... n_neighbors=18, score=0.787, total=   0.3s\n",
      "[CV] n_neighbors=18 ..................................................\n",
      "[CV] ...................... n_neighbors=18, score=0.810, total=   0.3s\n",
      "[CV] n_neighbors=18 ..................................................\n",
      "[CV] ...................... n_neighbors=18, score=0.797, total=   0.3s\n",
      "[CV] n_neighbors=19 ..................................................\n",
      "[CV] ...................... n_neighbors=19, score=0.800, total=   0.3s\n",
      "[CV] n_neighbors=19 ..................................................\n",
      "[CV] ...................... n_neighbors=19, score=0.796, total=   0.3s\n",
      "[CV] n_neighbors=19 ..................................................\n",
      "[CV] ...................... n_neighbors=19, score=0.787, total=   0.3s\n",
      "[CV] n_neighbors=19 ..................................................\n",
      "[CV] ...................... n_neighbors=19, score=0.809, total=   0.3s\n",
      "[CV] n_neighbors=19 ..................................................\n",
      "[CV] ...................... n_neighbors=19, score=0.794, total=   0.3s\n",
      "[CV] n_neighbors=20 ..................................................\n",
      "[CV] ...................... n_neighbors=20, score=0.801, total=   0.3s\n",
      "[CV] n_neighbors=20 ..................................................\n",
      "[CV] ...................... n_neighbors=20, score=0.791, total=   0.3s\n",
      "[CV] n_neighbors=20 ..................................................\n",
      "[CV] ...................... n_neighbors=20, score=0.789, total=   0.3s\n",
      "[CV] n_neighbors=20 ..................................................\n",
      "[CV] ...................... n_neighbors=20, score=0.806, total=   0.3s\n",
      "[CV] n_neighbors=20 ..................................................\n",
      "[CV] ...................... n_neighbors=20, score=0.791, total=   0.3s\n",
      "[CV] n_neighbors=21 ..................................................\n",
      "[CV] ...................... n_neighbors=21, score=0.803, total=   0.3s\n",
      "[CV] n_neighbors=21 ..................................................\n",
      "[CV] ...................... n_neighbors=21, score=0.797, total=   0.3s\n",
      "[CV] n_neighbors=21 ..................................................\n",
      "[CV] ...................... n_neighbors=21, score=0.789, total=   0.3s\n",
      "[CV] n_neighbors=21 ..................................................\n",
      "[CV] ...................... n_neighbors=21, score=0.804, total=   0.3s\n",
      "[CV] n_neighbors=21 ..................................................\n",
      "[CV] ...................... n_neighbors=21, score=0.790, total=   0.3s\n",
      "[CV] n_neighbors=22 ..................................................\n",
      "[CV] ...................... n_neighbors=22, score=0.807, total=   0.3s\n",
      "[CV] n_neighbors=22 ..................................................\n",
      "[CV] ...................... n_neighbors=22, score=0.799, total=   0.3s\n",
      "[CV] n_neighbors=22 ..................................................\n",
      "[CV] ...................... n_neighbors=22, score=0.786, total=   0.3s\n",
      "[CV] n_neighbors=22 ..................................................\n",
      "[CV] ...................... n_neighbors=22, score=0.807, total=   0.3s\n",
      "[CV] n_neighbors=22 ..................................................\n",
      "[CV] ...................... n_neighbors=22, score=0.791, total=   0.3s\n",
      "[CV] n_neighbors=23 ..................................................\n",
      "[CV] ...................... n_neighbors=23, score=0.807, total=   0.3s\n",
      "[CV] n_neighbors=23 ..................................................\n",
      "[CV] ...................... n_neighbors=23, score=0.797, total=   0.3s\n",
      "[CV] n_neighbors=23 ..................................................\n",
      "[CV] ...................... n_neighbors=23, score=0.790, total=   0.3s\n",
      "[CV] n_neighbors=23 ..................................................\n",
      "[CV] ...................... n_neighbors=23, score=0.804, total=   0.3s\n",
      "[CV] n_neighbors=23 ..................................................\n",
      "[CV] ...................... n_neighbors=23, score=0.793, total=   0.3s\n",
      "[CV] n_neighbors=24 ..................................................\n",
      "[CV] ...................... n_neighbors=24, score=0.807, total=   0.3s\n",
      "[CV] n_neighbors=24 ..................................................\n",
      "[CV] ...................... n_neighbors=24, score=0.796, total=   0.3s\n",
      "[CV] n_neighbors=24 ..................................................\n",
      "[CV] ...................... n_neighbors=24, score=0.787, total=   0.3s\n",
      "[CV] n_neighbors=24 ..................................................\n",
      "[CV] ...................... n_neighbors=24, score=0.804, total=   0.3s\n",
      "[CV] n_neighbors=24 ..................................................\n",
      "[CV] ...................... n_neighbors=24, score=0.794, total=   0.3s\n",
      "[CV] n_neighbors=25 ..................................................\n",
      "[CV] ...................... n_neighbors=25, score=0.804, total=   0.3s\n",
      "[CV] n_neighbors=25 ..................................................\n",
      "[CV] ...................... n_neighbors=25, score=0.797, total=   0.3s\n",
      "[CV] n_neighbors=25 ..................................................\n",
      "[CV] ...................... n_neighbors=25, score=0.787, total=   0.3s\n",
      "[CV] n_neighbors=25 ..................................................\n",
      "[CV] ...................... n_neighbors=25, score=0.803, total=   0.3s\n",
      "[CV] n_neighbors=25 ..................................................\n",
      "[CV] ...................... n_neighbors=25, score=0.797, total=   0.3s\n",
      "[CV] n_neighbors=26 ..................................................\n",
      "[CV] ...................... n_neighbors=26, score=0.804, total=   0.3s\n",
      "[CV] n_neighbors=26 ..................................................\n",
      "[CV] ...................... n_neighbors=26, score=0.789, total=   0.3s\n",
      "[CV] n_neighbors=26 ..................................................\n",
      "[CV] ...................... n_neighbors=26, score=0.787, total=   0.3s\n",
      "[CV] n_neighbors=26 ..................................................\n",
      "[CV] ...................... n_neighbors=26, score=0.809, total=   0.3s\n",
      "[CV] n_neighbors=26 ..................................................\n",
      "[CV] ...................... n_neighbors=26, score=0.797, total=   0.3s\n",
      "[CV] n_neighbors=27 ..................................................\n",
      "[CV] ...................... n_neighbors=27, score=0.797, total=   0.3s\n",
      "[CV] n_neighbors=27 ..................................................\n",
      "[CV] ...................... n_neighbors=27, score=0.793, total=   0.3s\n",
      "[CV] n_neighbors=27 ..................................................\n",
      "[CV] ...................... n_neighbors=27, score=0.790, total=   0.3s\n",
      "[CV] n_neighbors=27 ..................................................\n",
      "[CV] ...................... n_neighbors=27, score=0.804, total=   0.3s\n",
      "[CV] n_neighbors=27 ..................................................\n",
      "[CV] ...................... n_neighbors=27, score=0.800, total=   0.3s\n",
      "[CV] n_neighbors=28 ..................................................\n",
      "[CV] ...................... n_neighbors=28, score=0.803, total=   0.3s\n",
      "[CV] n_neighbors=28 ..................................................\n",
      "[CV] ...................... n_neighbors=28, score=0.793, total=   0.3s\n",
      "[CV] n_neighbors=28 ..................................................\n",
      "[CV] ...................... n_neighbors=28, score=0.793, total=   0.3s\n",
      "[CV] n_neighbors=28 ..................................................\n",
      "[CV] ...................... n_neighbors=28, score=0.806, total=   0.3s\n",
      "[CV] n_neighbors=28 ..................................................\n",
      "[CV] ...................... n_neighbors=28, score=0.796, total=   0.3s\n",
      "[CV] n_neighbors=29 ..................................................\n",
      "[CV] ...................... n_neighbors=29, score=0.803, total=   0.3s\n",
      "[CV] n_neighbors=29 ..................................................\n",
      "[CV] ...................... n_neighbors=29, score=0.794, total=   0.3s\n",
      "[CV] n_neighbors=29 ..................................................\n",
      "[CV] ...................... n_neighbors=29, score=0.794, total=   0.3s\n",
      "[CV] n_neighbors=29 ..................................................\n",
      "[CV] ...................... n_neighbors=29, score=0.804, total=   0.3s\n",
      "[CV] n_neighbors=29 ..................................................\n",
      "[CV] ...................... n_neighbors=29, score=0.801, total=   0.3s\n",
      "[CV] n_neighbors=30 ..................................................\n",
      "[CV] ...................... n_neighbors=30, score=0.803, total=   0.3s\n",
      "[CV] n_neighbors=30 ..................................................\n",
      "[CV] ...................... n_neighbors=30, score=0.794, total=   0.3s\n",
      "[CV] n_neighbors=30 ..................................................\n",
      "[CV] ...................... n_neighbors=30, score=0.794, total=   0.3s\n",
      "[CV] n_neighbors=30 ..................................................\n",
      "[CV] ...................... n_neighbors=30, score=0.806, total=   0.3s\n",
      "[CV] n_neighbors=30 ..................................................\n",
      "[CV] ...................... n_neighbors=30, score=0.794, total=   0.3s\n",
      "[CV] n_neighbors=31 ..................................................\n",
      "[CV] ...................... n_neighbors=31, score=0.801, total=   0.3s\n",
      "[CV] n_neighbors=31 ..................................................\n",
      "[CV] ...................... n_neighbors=31, score=0.794, total=   0.3s\n",
      "[CV] n_neighbors=31 ..................................................\n",
      "[CV] ...................... n_neighbors=31, score=0.793, total=   0.3s\n",
      "[CV] n_neighbors=31 ..................................................\n",
      "[CV] ...................... n_neighbors=31, score=0.806, total=   0.3s\n",
      "[CV] n_neighbors=31 ..................................................\n",
      "[CV] ...................... n_neighbors=31, score=0.796, total=   0.3s\n",
      "[CV] n_neighbors=32 ..................................................\n",
      "[CV] ...................... n_neighbors=32, score=0.801, total=   0.3s\n",
      "[CV] n_neighbors=32 ..................................................\n",
      "[CV] ...................... n_neighbors=32, score=0.791, total=   0.3s\n",
      "[CV] n_neighbors=32 ..................................................\n",
      "[CV] ...................... n_neighbors=32, score=0.791, total=   0.3s\n",
      "[CV] n_neighbors=32 ..................................................\n",
      "[CV] ...................... n_neighbors=32, score=0.811, total=   0.3s\n",
      "[CV] n_neighbors=32 ..................................................\n",
      "[CV] ...................... n_neighbors=32, score=0.791, total=   0.3s\n",
      "[CV] n_neighbors=33 ..................................................\n",
      "[CV] ...................... n_neighbors=33, score=0.804, total=   0.3s\n",
      "[CV] n_neighbors=33 ..................................................\n",
      "[CV] ...................... n_neighbors=33, score=0.793, total=   0.3s\n",
      "[CV] n_neighbors=33 ..................................................\n",
      "[CV] ...................... n_neighbors=33, score=0.790, total=   0.3s\n",
      "[CV] n_neighbors=33 ..................................................\n",
      "[CV] ...................... n_neighbors=33, score=0.809, total=   0.3s\n",
      "[CV] n_neighbors=33 ..................................................\n",
      "[CV] ...................... n_neighbors=33, score=0.791, total=   0.3s\n",
      "[CV] n_neighbors=34 ..................................................\n",
      "[CV] ...................... n_neighbors=34, score=0.807, total=   0.3s\n",
      "[CV] n_neighbors=34 ..................................................\n",
      "[CV] ...................... n_neighbors=34, score=0.789, total=   0.3s\n",
      "[CV] n_neighbors=34 ..................................................\n",
      "[CV] ...................... n_neighbors=34, score=0.789, total=   0.3s\n",
      "[CV] n_neighbors=34 ..................................................\n",
      "[CV] ...................... n_neighbors=34, score=0.811, total=   0.3s\n",
      "[CV] n_neighbors=34 ..................................................\n",
      "[CV] ...................... n_neighbors=34, score=0.791, total=   0.3s\n",
      "[CV] n_neighbors=35 ..................................................\n",
      "[CV] ...................... n_neighbors=35, score=0.806, total=   0.3s\n",
      "[CV] n_neighbors=35 ..................................................\n",
      "[CV] ...................... n_neighbors=35, score=0.790, total=   0.3s\n",
      "[CV] n_neighbors=35 ..................................................\n",
      "[CV] ...................... n_neighbors=35, score=0.784, total=   0.3s\n",
      "[CV] n_neighbors=35 ..................................................\n",
      "[CV] ...................... n_neighbors=35, score=0.810, total=   0.3s\n",
      "[CV] n_neighbors=35 ..................................................\n",
      "[CV] ...................... n_neighbors=35, score=0.791, total=   0.3s\n",
      "[CV] n_neighbors=36 ..................................................\n",
      "[CV] ...................... n_neighbors=36, score=0.804, total=   0.3s\n",
      "[CV] n_neighbors=36 ..................................................\n",
      "[CV] ...................... n_neighbors=36, score=0.787, total=   0.3s\n",
      "[CV] n_neighbors=36 ..................................................\n",
      "[CV] ...................... n_neighbors=36, score=0.786, total=   0.3s\n",
      "[CV] n_neighbors=36 ..................................................\n",
      "[CV] ...................... n_neighbors=36, score=0.810, total=   0.3s\n",
      "[CV] n_neighbors=36 ..................................................\n",
      "[CV] ...................... n_neighbors=36, score=0.790, total=   0.3s\n",
      "[CV] n_neighbors=37 ..................................................\n",
      "[CV] ...................... n_neighbors=37, score=0.807, total=   0.3s\n",
      "[CV] n_neighbors=37 ..................................................\n",
      "[CV] ...................... n_neighbors=37, score=0.790, total=   0.3s\n",
      "[CV] n_neighbors=37 ..................................................\n",
      "[CV] ...................... n_neighbors=37, score=0.783, total=   0.3s\n",
      "[CV] n_neighbors=37 ..................................................\n",
      "[CV] ...................... n_neighbors=37, score=0.804, total=   0.3s\n",
      "[CV] n_neighbors=37 ..................................................\n",
      "[CV] ...................... n_neighbors=37, score=0.791, total=   0.3s\n",
      "[CV] n_neighbors=38 ..................................................\n",
      "[CV] ...................... n_neighbors=38, score=0.810, total=   0.3s\n",
      "[CV] n_neighbors=38 ..................................................\n",
      "[CV] ...................... n_neighbors=38, score=0.790, total=   0.3s\n",
      "[CV] n_neighbors=38 ..................................................\n",
      "[CV] ...................... n_neighbors=38, score=0.786, total=   0.3s\n",
      "[CV] n_neighbors=38 ..................................................\n",
      "[CV] ...................... n_neighbors=38, score=0.810, total=   0.3s\n",
      "[CV] n_neighbors=38 ..................................................\n",
      "[CV] ...................... n_neighbors=38, score=0.794, total=   0.3s\n",
      "[CV] n_neighbors=39 ..................................................\n",
      "[CV] ...................... n_neighbors=39, score=0.810, total=   0.3s\n",
      "[CV] n_neighbors=39 ..................................................\n",
      "[CV] ...................... n_neighbors=39, score=0.793, total=   0.3s\n",
      "[CV] n_neighbors=39 ..................................................\n",
      "[CV] ...................... n_neighbors=39, score=0.784, total=   0.3s\n",
      "[CV] n_neighbors=39 ..................................................\n",
      "[CV] ...................... n_neighbors=39, score=0.810, total=   0.3s\n",
      "[CV] n_neighbors=39 ..................................................\n",
      "[CV] ...................... n_neighbors=39, score=0.791, total=   0.3s\n"
     ]
    },
    {
     "name": "stderr",
     "output_type": "stream",
     "text": [
      "[Parallel(n_jobs=1)]: Done 195 out of 195 | elapsed:   56.1s finished\n"
     ]
    },
    {
     "data": {
      "text/plain": [
       "GridSearchCV(cv=None, error_score=nan,\n",
       "             estimator=KNeighborsClassifier(algorithm='auto', leaf_size=30,\n",
       "                                            metric='minkowski',\n",
       "                                            metric_params=None, n_jobs=None,\n",
       "                                            n_neighbors=1, p=2,\n",
       "                                            weights='uniform'),\n",
       "             iid='deprecated', n_jobs=None,\n",
       "             param_grid={'n_neighbors': range(1, 40)}, pre_dispatch='2*n_jobs',\n",
       "             refit=True, return_train_score=False, scoring=None, verbose=3)"
      ]
     },
     "execution_count": 107,
     "metadata": {},
     "output_type": "execute_result"
    }
   ],
   "source": [
    "gsv1.fit(X2_train, Y2_train)"
   ]
  },
  {
   "cell_type": "code",
   "execution_count": 108,
   "metadata": {},
   "outputs": [
    {
     "data": {
      "text/plain": [
       "{'n_neighbors': 29}"
      ]
     },
     "execution_count": 108,
     "metadata": {},
     "output_type": "execute_result"
    }
   ],
   "source": [
    "gsv1.best_params_"
   ]
  },
  {
   "cell_type": "code",
   "execution_count": 109,
   "metadata": {},
   "outputs": [],
   "source": [
    "knn29 = KNeighborsClassifier(n_neighbors=29)"
   ]
  },
  {
   "cell_type": "code",
   "execution_count": 110,
   "metadata": {},
   "outputs": [],
   "source": [
    "knn29.fit(X2_train,Y2_train)\n",
    "pred29 = knn.predict(X2_test)"
   ]
  },
  {
   "cell_type": "code",
   "execution_count": 111,
   "metadata": {},
   "outputs": [
    {
     "name": "stdout",
     "output_type": "stream",
     "text": [
      "              precision    recall  f1-score   support\n",
      "\n",
      "       <=50K       0.82      0.82      0.82      1128\n",
      "        >50K       0.46      0.46      0.46       372\n",
      "\n",
      "    accuracy                           0.73      1500\n",
      "   macro avg       0.64      0.64      0.64      1500\n",
      "weighted avg       0.73      0.73      0.73      1500\n",
      " [[925 203]\n",
      " [200 172]]\n"
     ]
    }
   ],
   "source": [
    "print(classification_report(Y2_test, pred29),confusion_matrix(Y2_test, pred29))"
   ]
  },
  {
   "cell_type": "code",
   "execution_count": null,
   "metadata": {},
   "outputs": [],
   "source": []
  },
  {
   "cell_type": "code",
   "execution_count": null,
   "metadata": {},
   "outputs": [],
   "source": []
  },
  {
   "cell_type": "code",
   "execution_count": null,
   "metadata": {},
   "outputs": [],
   "source": []
  },
  {
   "cell_type": "code",
   "execution_count": null,
   "metadata": {},
   "outputs": [],
   "source": []
  },
  {
   "cell_type": "code",
   "execution_count": null,
   "metadata": {},
   "outputs": [],
   "source": []
  },
  {
   "cell_type": "code",
   "execution_count": null,
   "metadata": {},
   "outputs": [],
   "source": []
  },
  {
   "cell_type": "code",
   "execution_count": null,
   "metadata": {},
   "outputs": [],
   "source": []
  },
  {
   "cell_type": "code",
   "execution_count": null,
   "metadata": {},
   "outputs": [],
   "source": []
  },
  {
   "cell_type": "code",
   "execution_count": null,
   "metadata": {},
   "outputs": [],
   "source": []
  },
  {
   "cell_type": "code",
   "execution_count": null,
   "metadata": {},
   "outputs": [],
   "source": []
  },
  {
   "cell_type": "code",
   "execution_count": null,
   "metadata": {},
   "outputs": [],
   "source": []
  },
  {
   "cell_type": "code",
   "execution_count": null,
   "metadata": {},
   "outputs": [],
   "source": []
  },
  {
   "cell_type": "code",
   "execution_count": null,
   "metadata": {},
   "outputs": [],
   "source": []
  },
  {
   "cell_type": "code",
   "execution_count": null,
   "metadata": {},
   "outputs": [],
   "source": []
  },
  {
   "cell_type": "code",
   "execution_count": null,
   "metadata": {},
   "outputs": [],
   "source": []
  },
  {
   "cell_type": "code",
   "execution_count": null,
   "metadata": {},
   "outputs": [],
   "source": []
  },
  {
   "cell_type": "code",
   "execution_count": null,
   "metadata": {},
   "outputs": [],
   "source": []
  }
 ],
 "metadata": {
  "kernelspec": {
   "display_name": "Python 3",
   "language": "python",
   "name": "python3"
  },
  "language_info": {
   "codemirror_mode": {
    "name": "ipython",
    "version": 3
   },
   "file_extension": ".py",
   "mimetype": "text/x-python",
   "name": "python",
   "nbconvert_exporter": "python",
   "pygments_lexer": "ipython3",
   "version": "3.7.6"
  }
 },
 "nbformat": 4,
 "nbformat_minor": 4
}
